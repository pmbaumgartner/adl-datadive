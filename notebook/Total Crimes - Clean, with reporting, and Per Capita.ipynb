{
 "cells": [
  {
   "cell_type": "code",
   "execution_count": 1,
   "metadata": {
    "collapsed": true
   },
   "outputs": [],
   "source": [
    "import pandas as pd"
   ]
  },
  {
   "cell_type": "code",
   "execution_count": 2,
   "metadata": {
    "collapsed": true
   },
   "outputs": [],
   "source": [
    "state_correction = {\n",
    "    'Lousiana' : 'Louisiana',\n",
    "    'Oklahoma ' : 'Oklahoma',\n",
    "    'Oaklahoma' : 'Oklahoma',\n",
    "    'New \\nHampshire' : 'New Hampshire',\n",
    "    'Wyoming ' : 'Wyoming',\n",
    "    'District of Columbia' : 'DC',\n",
    "    'Rhode Island ' : 'Rhode Island',\n",
    "    'Wisconsin ': 'Wisconsin',\n",
    "}"
   ]
  },
  {
   "cell_type": "markdown",
   "metadata": {},
   "source": [
    "## Census"
   ]
  },
  {
   "cell_type": "code",
   "execution_count": 3,
   "metadata": {
    "collapsed": true
   },
   "outputs": [],
   "source": [
    "census = pd.read_csv('../_CLEAN DATA/pop_estimates_by_state.csv', index_col='id', thousands=',')"
   ]
  },
  {
   "cell_type": "code",
   "execution_count": 4,
   "metadata": {
    "collapsed": true
   },
   "outputs": [],
   "source": [
    "census['state'] = census['state'].replace(state_correction)"
   ]
  },
  {
   "cell_type": "code",
   "execution_count": 5,
   "metadata": {},
   "outputs": [],
   "source": [
    "census_pop_melted = pd.melt(census, id_vars=['state'])"
   ]
  },
  {
   "cell_type": "code",
   "execution_count": 6,
   "metadata": {
    "collapsed": true
   },
   "outputs": [],
   "source": [
    "census_pop_melted = census_pop_melted.rename(columns={'variable' : 'date', 'value' : 'est_pop'})"
   ]
  },
  {
   "cell_type": "code",
   "execution_count": 7,
   "metadata": {
    "collapsed": true
   },
   "outputs": [],
   "source": [
    "census_pop_melted['date'] = census_pop_melted['date'].astype(int)"
   ]
  },
  {
   "cell_type": "code",
   "execution_count": 8,
   "metadata": {},
   "outputs": [
    {
     "data": {
      "text/html": [
       "<div>\n",
       "<table border=\"1\" class=\"dataframe\">\n",
       "  <thead>\n",
       "    <tr style=\"text-align: right;\">\n",
       "      <th></th>\n",
       "      <th>state</th>\n",
       "      <th>date</th>\n",
       "      <th>est_pop</th>\n",
       "    </tr>\n",
       "  </thead>\n",
       "  <tbody>\n",
       "    <tr>\n",
       "      <th>0</th>\n",
       "      <td>All states</td>\n",
       "      <td>2004</td>\n",
       "      <td>292805298</td>\n",
       "    </tr>\n",
       "    <tr>\n",
       "      <th>1</th>\n",
       "      <td>Alabama</td>\n",
       "      <td>2004</td>\n",
       "      <td>4530729</td>\n",
       "    </tr>\n",
       "    <tr>\n",
       "      <th>2</th>\n",
       "      <td>Alaska</td>\n",
       "      <td>2004</td>\n",
       "      <td>659286</td>\n",
       "    </tr>\n",
       "    <tr>\n",
       "      <th>3</th>\n",
       "      <td>Arizona</td>\n",
       "      <td>2004</td>\n",
       "      <td>5652404</td>\n",
       "    </tr>\n",
       "    <tr>\n",
       "      <th>4</th>\n",
       "      <td>Arkansas</td>\n",
       "      <td>2004</td>\n",
       "      <td>2749686</td>\n",
       "    </tr>\n",
       "  </tbody>\n",
       "</table>\n",
       "</div>"
      ],
      "text/plain": [
       "        state  date    est_pop\n",
       "0  All states  2004  292805298\n",
       "1     Alabama  2004    4530729\n",
       "2      Alaska  2004     659286\n",
       "3     Arizona  2004    5652404\n",
       "4    Arkansas  2004    2749686"
      ]
     },
     "execution_count": 8,
     "metadata": {},
     "output_type": "execute_result"
    }
   ],
   "source": [
    "census_pop_melted.head()"
   ]
  },
  {
   "cell_type": "code",
   "execution_count": 9,
   "metadata": {},
   "outputs": [],
   "source": [
    "census_pop_indexed = census_pop_melted.set_index(['state', 'date'])"
   ]
  },
  {
   "cell_type": "markdown",
   "metadata": {},
   "source": [
    "## Enhanced Penalty"
   ]
  },
  {
   "cell_type": "code",
   "execution_count": 10,
   "metadata": {
    "collapsed": true
   },
   "outputs": [],
   "source": [
    "penalty = pd.read_csv('../_CLEAN DATA/statutes_by_state_by_penalty_enhancement.csv')"
   ]
  },
  {
   "cell_type": "code",
   "execution_count": 11,
   "metadata": {
    "collapsed": true
   },
   "outputs": [],
   "source": [
    "penalty['state'] = penalty['state'].replace(state_correction)"
   ]
  },
  {
   "cell_type": "code",
   "execution_count": 12,
   "metadata": {},
   "outputs": [
    {
     "data": {
      "text/html": [
       "<div>\n",
       "<table border=\"1\" class=\"dataframe\">\n",
       "  <thead>\n",
       "    <tr style=\"text-align: right;\">\n",
       "      <th></th>\n",
       "      <th>state</th>\n",
       "      <th>penalty_enhancement</th>\n",
       "      <th>race_religion_ethnicity</th>\n",
       "      <th>sexual_orientation</th>\n",
       "      <th>gender</th>\n",
       "      <th>gender_identity</th>\n",
       "      <th>disability</th>\n",
       "      <th>other</th>\n",
       "    </tr>\n",
       "  </thead>\n",
       "  <tbody>\n",
       "    <tr>\n",
       "      <th>0</th>\n",
       "      <td>Alabama</td>\n",
       "      <td>&lt;a href=\"http://codes.lp.findlaw.com/alcode/13...</td>\n",
       "      <td>YES</td>\n",
       "      <td>NO</td>\n",
       "      <td>NO</td>\n",
       "      <td>NO</td>\n",
       "      <td>YES</td>\n",
       "      <td>NO</td>\n",
       "    </tr>\n",
       "    <tr>\n",
       "      <th>1</th>\n",
       "      <td>Alaska</td>\n",
       "      <td>&lt;a href=\"http://touchngo.com/lglcntr/akstats/s...</td>\n",
       "      <td>YES</td>\n",
       "      <td>NO</td>\n",
       "      <td>YES</td>\n",
       "      <td>NO</td>\n",
       "      <td>YES</td>\n",
       "      <td>NO</td>\n",
       "    </tr>\n",
       "    <tr>\n",
       "      <th>2</th>\n",
       "      <td>Arizona</td>\n",
       "      <td>&lt;a href=\"http://www.azleg.gov/FormatDocument.a...</td>\n",
       "      <td>YES</td>\n",
       "      <td>YES</td>\n",
       "      <td>YES</td>\n",
       "      <td>NO</td>\n",
       "      <td>YES</td>\n",
       "      <td>NO</td>\n",
       "    </tr>\n",
       "    <tr>\n",
       "      <th>3</th>\n",
       "      <td>Arkansas</td>\n",
       "      <td>NaN</td>\n",
       "      <td>NO</td>\n",
       "      <td>NO</td>\n",
       "      <td>NO</td>\n",
       "      <td>NO</td>\n",
       "      <td>NO</td>\n",
       "      <td>NO</td>\n",
       "    </tr>\n",
       "    <tr>\n",
       "      <th>4</th>\n",
       "      <td>California</td>\n",
       "      <td>&lt;a href=\"http://www.leginfo.ca.gov/cgi-bin/dis...</td>\n",
       "      <td>YES</td>\n",
       "      <td>YES</td>\n",
       "      <td>YES</td>\n",
       "      <td>YES</td>\n",
       "      <td>YES</td>\n",
       "      <td>YES</td>\n",
       "    </tr>\n",
       "  </tbody>\n",
       "</table>\n",
       "</div>"
      ],
      "text/plain": [
       "        state                                penalty_enhancement  \\\n",
       "0     Alabama  <a href=\"http://codes.lp.findlaw.com/alcode/13...   \n",
       "1      Alaska  <a href=\"http://touchngo.com/lglcntr/akstats/s...   \n",
       "2     Arizona  <a href=\"http://www.azleg.gov/FormatDocument.a...   \n",
       "3    Arkansas                                                NaN   \n",
       "4  California  <a href=\"http://www.leginfo.ca.gov/cgi-bin/dis...   \n",
       "\n",
       "  race_religion_ethnicity sexual_orientation gender gender_identity  \\\n",
       "0                     YES                 NO     NO              NO   \n",
       "1                     YES                 NO    YES              NO   \n",
       "2                     YES                YES    YES              NO   \n",
       "3                      NO                 NO     NO              NO   \n",
       "4                     YES                YES    YES             YES   \n",
       "\n",
       "  disability other  \n",
       "0        YES    NO  \n",
       "1        YES    NO  \n",
       "2        YES    NO  \n",
       "3         NO    NO  \n",
       "4        YES   YES  "
      ]
     },
     "execution_count": 12,
     "metadata": {},
     "output_type": "execute_result"
    }
   ],
   "source": [
    "penalty.head()"
   ]
  },
  {
   "cell_type": "markdown",
   "metadata": {},
   "source": [
    "## Other Statutes"
   ]
  },
  {
   "cell_type": "code",
   "execution_count": 13,
   "metadata": {
    "collapsed": true
   },
   "outputs": [],
   "source": [
    "other = pd.read_csv('../_CLEAN DATA/statutes_by_state_other_types.csv')"
   ]
  },
  {
   "cell_type": "code",
   "execution_count": 14,
   "metadata": {
    "collapsed": true
   },
   "outputs": [],
   "source": [
    "other['state'] = other['state'].replace(state_correction)"
   ]
  },
  {
   "cell_type": "code",
   "execution_count": 15,
   "metadata": {},
   "outputs": [],
   "source": [
    "for col in other.columns:\n",
    "    if col != 'state':\n",
    "        other[col + '_present'] = other[col].notnull().astype(int)"
   ]
  },
  {
   "cell_type": "code",
   "execution_count": 16,
   "metadata": {},
   "outputs": [],
   "source": [
    "other_clean = other[['state', 'civil_action_present',\n",
    "       'data_collection_present', 'police_training_present',\n",
    "       'institutional_vandalism_present', 'cross_burning_present']]"
   ]
  },
  {
   "cell_type": "markdown",
   "metadata": {},
   "source": [
    "# Incidents"
   ]
  },
  {
   "cell_type": "code",
   "execution_count": 17,
   "metadata": {},
   "outputs": [],
   "source": [
    "incidents = pd.read_csv('../_CLEAN DATA/state_hate_crime_totals_final.csv', na_values=['NA', '\\xa0'])"
   ]
  },
  {
   "cell_type": "code",
   "execution_count": 18,
   "metadata": {
    "collapsed": true
   },
   "outputs": [],
   "source": [
    "incidents['state'] = incidents['state'].str.strip()\n",
    "incidents['state'] = incidents['state'].replace(to_replace=['Lousiana', 'District of Columbia'], value=['Louisiana', 'DC'])"
   ]
  },
  {
   "cell_type": "code",
   "execution_count": 19,
   "metadata": {},
   "outputs": [
    {
     "data": {
      "text/plain": [
       "50"
      ]
     },
     "execution_count": 19,
     "metadata": {},
     "output_type": "execute_result"
    }
   ],
   "source": [
    "incidents.state.nunique()"
   ]
  },
  {
   "cell_type": "code",
   "execution_count": 20,
   "metadata": {
    "collapsed": true
   },
   "outputs": [],
   "source": [
    "def combine_race(x):\n",
    "    if pd.isnull(x['race']):\n",
    "        return x['race_ethnicity_ancestry']\n",
    "    else:\n",
    "        return x['race'] + x['ethnicity ']"
   ]
  },
  {
   "cell_type": "code",
   "execution_count": 21,
   "metadata": {},
   "outputs": [],
   "source": [
    "incidents['race_corrected'] = incidents.apply(combine_race, axis=1)"
   ]
  },
  {
   "cell_type": "code",
   "execution_count": 22,
   "metadata": {
    "collapsed": true
   },
   "outputs": [],
   "source": [
    "incidents = incidents[[c for c in incidents.columns if c not in ['race', 'race_ethnicity_ancestry', 'ethnicity ']]]"
   ]
  },
  {
   "cell_type": "code",
   "execution_count": 23,
   "metadata": {},
   "outputs": [
    {
     "data": {
      "text/plain": [
       "50"
      ]
     },
     "execution_count": 23,
     "metadata": {},
     "output_type": "execute_result"
    }
   ],
   "source": [
    "incidents['state'].nunique()"
   ]
  },
  {
   "cell_type": "code",
   "execution_count": 24,
   "metadata": {},
   "outputs": [],
   "source": [
    "incidents_per_capita = pd.merge(incidents, census_pop_melted, on=('state', 'date'), how='left')"
   ]
  },
  {
   "cell_type": "code",
   "execution_count": 25,
   "metadata": {},
   "outputs": [
    {
     "data": {
      "text/html": [
       "<div>\n",
       "<table border=\"1\" class=\"dataframe\">\n",
       "  <thead>\n",
       "    <tr style=\"text-align: right;\">\n",
       "      <th></th>\n",
       "      <th>date</th>\n",
       "      <th>state</th>\n",
       "      <th>religion</th>\n",
       "      <th>sexual_orientation</th>\n",
       "      <th>disability</th>\n",
       "      <th>gender</th>\n",
       "      <th>gender_identity</th>\n",
       "      <th>race_corrected</th>\n",
       "      <th>est_pop</th>\n",
       "    </tr>\n",
       "  </thead>\n",
       "  <tbody>\n",
       "    <tr>\n",
       "      <th>0</th>\n",
       "      <td>2015</td>\n",
       "      <td>Alabama</td>\n",
       "      <td>0</td>\n",
       "      <td>2</td>\n",
       "      <td>0</td>\n",
       "      <td>0.0</td>\n",
       "      <td>0.0</td>\n",
       "      <td>8.0</td>\n",
       "      <td>4858979</td>\n",
       "    </tr>\n",
       "    <tr>\n",
       "      <th>1</th>\n",
       "      <td>2015</td>\n",
       "      <td>Alaska</td>\n",
       "      <td>0</td>\n",
       "      <td>1</td>\n",
       "      <td>0</td>\n",
       "      <td>0.0</td>\n",
       "      <td>NaN</td>\n",
       "      <td>7.0</td>\n",
       "      <td>738432</td>\n",
       "    </tr>\n",
       "    <tr>\n",
       "      <th>2</th>\n",
       "      <td>2015</td>\n",
       "      <td>Arizona</td>\n",
       "      <td>52</td>\n",
       "      <td>57</td>\n",
       "      <td>5</td>\n",
       "      <td>0.0</td>\n",
       "      <td>0.0</td>\n",
       "      <td>162.0</td>\n",
       "      <td>6828065</td>\n",
       "    </tr>\n",
       "    <tr>\n",
       "      <th>3</th>\n",
       "      <td>2015</td>\n",
       "      <td>Arkansas</td>\n",
       "      <td>0</td>\n",
       "      <td>2</td>\n",
       "      <td>0</td>\n",
       "      <td>0.0</td>\n",
       "      <td>0.0</td>\n",
       "      <td>3.0</td>\n",
       "      <td>2978204</td>\n",
       "    </tr>\n",
       "    <tr>\n",
       "      <th>4</th>\n",
       "      <td>2015</td>\n",
       "      <td>California</td>\n",
       "      <td>191</td>\n",
       "      <td>188</td>\n",
       "      <td>4</td>\n",
       "      <td>1.0</td>\n",
       "      <td>26.0</td>\n",
       "      <td>427.0</td>\n",
       "      <td>39144818</td>\n",
       "    </tr>\n",
       "  </tbody>\n",
       "</table>\n",
       "</div>"
      ],
      "text/plain": [
       "   date       state  religion  sexual_orientation  disability  gender  \\\n",
       "0  2015     Alabama         0                   2           0     0.0   \n",
       "1  2015      Alaska         0                   1           0     0.0   \n",
       "2  2015     Arizona        52                  57           5     0.0   \n",
       "3  2015    Arkansas         0                   2           0     0.0   \n",
       "4  2015  California       191                 188           4     1.0   \n",
       "\n",
       "   gender_identity  race_corrected   est_pop  \n",
       "0              0.0             8.0   4858979  \n",
       "1              NaN             7.0    738432  \n",
       "2              0.0           162.0   6828065  \n",
       "3              0.0             3.0   2978204  \n",
       "4             26.0           427.0  39144818  "
      ]
     },
     "execution_count": 25,
     "metadata": {},
     "output_type": "execute_result"
    }
   ],
   "source": [
    "incidents_per_capita.head()"
   ]
  },
  {
   "cell_type": "code",
   "execution_count": 26,
   "metadata": {},
   "outputs": [
    {
     "data": {
      "text/plain": [
       "Index(['Alabama', 'Alaska', 'Arizona', 'Arkansas', 'California', 'Colorado',\n",
       "       'Connecticut', 'DC', 'Delaware', 'Florida', 'Georgia', 'Idaho',\n",
       "       'Illinois', 'Indiana', 'Iowa', 'Kansas', 'Kentucky', 'Louisiana',\n",
       "       'Maine', 'Maryland', 'Massachusetts', 'Michigan', 'Minnesota',\n",
       "       'Mississippi', 'Missouri', 'Montana', 'Nebraska', 'Nevada',\n",
       "       'New Hampshire', 'New Jersey', 'New Mexico', 'New York',\n",
       "       'North Carolina', 'North Dakota', 'Ohio', 'Oklahoma', 'Oregon',\n",
       "       'Pennsylvania', 'Rhode Island', 'South Carolina', 'South Dakota',\n",
       "       'Tennessee', 'Texas', 'Utah', 'Vermont', 'Virginia', 'Washington',\n",
       "       'West Virginia', 'Wisconsin', 'Wyoming'],\n",
       "      dtype='object', name='state')"
      ]
     },
     "execution_count": 26,
     "metadata": {},
     "output_type": "execute_result"
    }
   ],
   "source": [
    "incidents.groupby(['state'])['date'].count().index"
   ]
  },
  {
   "cell_type": "markdown",
   "metadata": {},
   "source": [
    "### Join penalty & statute info"
   ]
  },
  {
   "cell_type": "code",
   "execution_count": 27,
   "metadata": {},
   "outputs": [],
   "source": [
    "penalty_nopen = penalty[[column for column in penalty.columns if column != 'penalty_enhancement']]"
   ]
  },
  {
   "cell_type": "code",
   "execution_count": 28,
   "metadata": {},
   "outputs": [],
   "source": [
    "penalty_nopen.columns = ['state', 'race_religion_ethnicity_enh_penalty', 'sexual_orientation_enh_penalty', 'gender_enh_penalty',\n",
    "       'gender_identity_enh_penalty', 'disability_enh_penalty', 'other_enh_penalty']"
   ]
  },
  {
   "cell_type": "code",
   "execution_count": 29,
   "metadata": {},
   "outputs": [],
   "source": [
    "incidents_all = pd.merge(incidents_per_capita, penalty_nopen, on='state', how='left')"
   ]
  },
  {
   "cell_type": "code",
   "execution_count": 30,
   "metadata": {
    "collapsed": true
   },
   "outputs": [],
   "source": [
    "incidents_all_more = pd.merge(incidents_all, other_clean, on='state', how='left')"
   ]
  },
  {
   "cell_type": "code",
   "execution_count": 31,
   "metadata": {},
   "outputs": [],
   "source": [
    "# weird encoding stuff\n",
    "incidents_all_more['gender'] = incidents_all_more['gender'].replace('\\xa0', '0')"
   ]
  },
  {
   "cell_type": "markdown",
   "metadata": {},
   "source": [
    "**WARNING:** A hate crime can be tabulated as more than one type, so `all_count` is double counting hate crimes"
   ]
  },
  {
   "cell_type": "code",
   "execution_count": 32,
   "metadata": {},
   "outputs": [],
   "source": [
    "incidents_all_more['all_count'] = incidents_all_more[['race_corrected', 'religion', 'sexual_orientation', 'disability', 'gender', 'gender_identity']].sum(axis=1)"
   ]
  },
  {
   "cell_type": "code",
   "execution_count": 33,
   "metadata": {},
   "outputs": [
    {
     "data": {
      "text/html": [
       "<div>\n",
       "<table border=\"1\" class=\"dataframe\">\n",
       "  <thead>\n",
       "    <tr style=\"text-align: right;\">\n",
       "      <th></th>\n",
       "      <th>date</th>\n",
       "      <th>state</th>\n",
       "      <th>religion</th>\n",
       "      <th>sexual_orientation</th>\n",
       "      <th>disability</th>\n",
       "      <th>gender</th>\n",
       "      <th>gender_identity</th>\n",
       "      <th>race_corrected</th>\n",
       "      <th>est_pop</th>\n",
       "      <th>race_religion_ethnicity_enh_penalty</th>\n",
       "      <th>...</th>\n",
       "      <th>gender_enh_penalty</th>\n",
       "      <th>gender_identity_enh_penalty</th>\n",
       "      <th>disability_enh_penalty</th>\n",
       "      <th>other_enh_penalty</th>\n",
       "      <th>civil_action_present</th>\n",
       "      <th>data_collection_present</th>\n",
       "      <th>police_training_present</th>\n",
       "      <th>institutional_vandalism_present</th>\n",
       "      <th>cross_burning_present</th>\n",
       "      <th>all_count</th>\n",
       "    </tr>\n",
       "  </thead>\n",
       "  <tbody>\n",
       "    <tr>\n",
       "      <th>0</th>\n",
       "      <td>2015</td>\n",
       "      <td>Alabama</td>\n",
       "      <td>0</td>\n",
       "      <td>2</td>\n",
       "      <td>0</td>\n",
       "      <td>0.0</td>\n",
       "      <td>0.0</td>\n",
       "      <td>8.0</td>\n",
       "      <td>4858979</td>\n",
       "      <td>YES</td>\n",
       "      <td>...</td>\n",
       "      <td>NO</td>\n",
       "      <td>NO</td>\n",
       "      <td>YES</td>\n",
       "      <td>NO</td>\n",
       "      <td>0</td>\n",
       "      <td>0</td>\n",
       "      <td>0</td>\n",
       "      <td>1</td>\n",
       "      <td>1</td>\n",
       "      <td>10.0</td>\n",
       "    </tr>\n",
       "    <tr>\n",
       "      <th>1</th>\n",
       "      <td>2015</td>\n",
       "      <td>Alaska</td>\n",
       "      <td>0</td>\n",
       "      <td>1</td>\n",
       "      <td>0</td>\n",
       "      <td>0.0</td>\n",
       "      <td>NaN</td>\n",
       "      <td>7.0</td>\n",
       "      <td>738432</td>\n",
       "      <td>YES</td>\n",
       "      <td>...</td>\n",
       "      <td>YES</td>\n",
       "      <td>NO</td>\n",
       "      <td>YES</td>\n",
       "      <td>NO</td>\n",
       "      <td>0</td>\n",
       "      <td>0</td>\n",
       "      <td>0</td>\n",
       "      <td>0</td>\n",
       "      <td>0</td>\n",
       "      <td>8.0</td>\n",
       "    </tr>\n",
       "    <tr>\n",
       "      <th>2</th>\n",
       "      <td>2015</td>\n",
       "      <td>Arizona</td>\n",
       "      <td>52</td>\n",
       "      <td>57</td>\n",
       "      <td>5</td>\n",
       "      <td>0.0</td>\n",
       "      <td>0.0</td>\n",
       "      <td>162.0</td>\n",
       "      <td>6828065</td>\n",
       "      <td>YES</td>\n",
       "      <td>...</td>\n",
       "      <td>YES</td>\n",
       "      <td>NO</td>\n",
       "      <td>YES</td>\n",
       "      <td>NO</td>\n",
       "      <td>0</td>\n",
       "      <td>1</td>\n",
       "      <td>1</td>\n",
       "      <td>1</td>\n",
       "      <td>1</td>\n",
       "      <td>276.0</td>\n",
       "    </tr>\n",
       "    <tr>\n",
       "      <th>3</th>\n",
       "      <td>2015</td>\n",
       "      <td>Arkansas</td>\n",
       "      <td>0</td>\n",
       "      <td>2</td>\n",
       "      <td>0</td>\n",
       "      <td>0.0</td>\n",
       "      <td>0.0</td>\n",
       "      <td>3.0</td>\n",
       "      <td>2978204</td>\n",
       "      <td>NO</td>\n",
       "      <td>...</td>\n",
       "      <td>NO</td>\n",
       "      <td>NO</td>\n",
       "      <td>NO</td>\n",
       "      <td>NO</td>\n",
       "      <td>1</td>\n",
       "      <td>0</td>\n",
       "      <td>0</td>\n",
       "      <td>1</td>\n",
       "      <td>0</td>\n",
       "      <td>5.0</td>\n",
       "    </tr>\n",
       "    <tr>\n",
       "      <th>4</th>\n",
       "      <td>2015</td>\n",
       "      <td>California</td>\n",
       "      <td>191</td>\n",
       "      <td>188</td>\n",
       "      <td>4</td>\n",
       "      <td>1.0</td>\n",
       "      <td>26.0</td>\n",
       "      <td>427.0</td>\n",
       "      <td>39144818</td>\n",
       "      <td>YES</td>\n",
       "      <td>...</td>\n",
       "      <td>YES</td>\n",
       "      <td>YES</td>\n",
       "      <td>YES</td>\n",
       "      <td>YES</td>\n",
       "      <td>1</td>\n",
       "      <td>1</td>\n",
       "      <td>1</td>\n",
       "      <td>1</td>\n",
       "      <td>1</td>\n",
       "      <td>837.0</td>\n",
       "    </tr>\n",
       "  </tbody>\n",
       "</table>\n",
       "<p>5 rows × 21 columns</p>\n",
       "</div>"
      ],
      "text/plain": [
       "   date       state  religion  sexual_orientation  disability  gender  \\\n",
       "0  2015     Alabama         0                   2           0     0.0   \n",
       "1  2015      Alaska         0                   1           0     0.0   \n",
       "2  2015     Arizona        52                  57           5     0.0   \n",
       "3  2015    Arkansas         0                   2           0     0.0   \n",
       "4  2015  California       191                 188           4     1.0   \n",
       "\n",
       "   gender_identity  race_corrected   est_pop  \\\n",
       "0              0.0             8.0   4858979   \n",
       "1              NaN             7.0    738432   \n",
       "2              0.0           162.0   6828065   \n",
       "3              0.0             3.0   2978204   \n",
       "4             26.0           427.0  39144818   \n",
       "\n",
       "  race_religion_ethnicity_enh_penalty    ...     gender_enh_penalty  \\\n",
       "0                                 YES    ...                     NO   \n",
       "1                                 YES    ...                    YES   \n",
       "2                                 YES    ...                    YES   \n",
       "3                                  NO    ...                     NO   \n",
       "4                                 YES    ...                    YES   \n",
       "\n",
       "  gender_identity_enh_penalty disability_enh_penalty other_enh_penalty  \\\n",
       "0                          NO                    YES                NO   \n",
       "1                          NO                    YES                NO   \n",
       "2                          NO                    YES                NO   \n",
       "3                          NO                     NO                NO   \n",
       "4                         YES                    YES               YES   \n",
       "\n",
       "  civil_action_present  data_collection_present  police_training_present  \\\n",
       "0                    0                        0                        0   \n",
       "1                    0                        0                        0   \n",
       "2                    0                        1                        1   \n",
       "3                    1                        0                        0   \n",
       "4                    1                        1                        1   \n",
       "\n",
       "   institutional_vandalism_present  cross_burning_present  all_count  \n",
       "0                                1                      1       10.0  \n",
       "1                                0                      0        8.0  \n",
       "2                                1                      1      276.0  \n",
       "3                                1                      0        5.0  \n",
       "4                                1                      1      837.0  \n",
       "\n",
       "[5 rows x 21 columns]"
      ]
     },
     "execution_count": 33,
     "metadata": {},
     "output_type": "execute_result"
    }
   ],
   "source": [
    "incidents_all_more.head()"
   ]
  },
  {
   "cell_type": "code",
   "execution_count": 34,
   "metadata": {},
   "outputs": [],
   "source": [
    "count_columns = ['race_corrected', 'religion', 'sexual_orientation',\n",
    "                 'disability', 'gender',\n",
    "                 'gender_identity', 'all_count']\n",
    "\n",
    "for col in count_columns:\n",
    "    incidents_all_more[col + '_per_capita'] = incidents_all_more[col] / incidents_all_more['est_pop']"
   ]
  },
  {
   "cell_type": "markdown",
   "metadata": {},
   "source": [
    "## EXPORT"
   ]
  },
  {
   "cell_type": "code",
   "execution_count": 35,
   "metadata": {
    "collapsed": true
   },
   "outputs": [],
   "source": [
    "incidents_all_more.to_csv('../output/incidents_supplemented_2.csv')"
   ]
  }
 ],
 "metadata": {
  "anaconda-cloud": {},
  "kernelspec": {
   "display_name": "Python [Root]",
   "language": "python",
   "name": "Python [Root]"
  },
  "language_info": {
   "codemirror_mode": {
    "name": "ipython",
    "version": 3
   },
   "file_extension": ".py",
   "mimetype": "text/x-python",
   "name": "python",
   "nbconvert_exporter": "python",
   "pygments_lexer": "ipython3",
   "version": "3.5.2"
  }
 },
 "nbformat": 4,
 "nbformat_minor": 1
}
