{
 "cells": [
  {
   "cell_type": "code",
   "execution_count": 4,
   "metadata": {
    "collapsed": true
   },
   "outputs": [],
   "source": [
    "import pandas as pd\n",
    "import requests"
   ]
  },
  {
   "cell_type": "code",
   "execution_count": 11,
   "metadata": {
    "collapsed": true
   },
   "outputs": [],
   "source": [
    "def get_html(url):\n",
    "    r = requests.get(url)\n",
    "    return r.text"
   ]
  },
  {
   "cell_type": "markdown",
   "metadata": {},
   "source": [
    "## 2015"
   ]
  },
  {
   "cell_type": "code",
   "execution_count": null,
   "metadata": {
    "collapsed": true
   },
   "outputs": [],
   "source": []
  },
  {
   "cell_type": "code",
   "execution_count": 16,
   "metadata": {
    "collapsed": true
   },
   "outputs": [],
   "source": [
    "url_2015 = 'https://ucr.fbi.gov/hate-crime/2015/tables-and-data-declarations/12tabledatadecpdf'"
   ]
  },
  {
   "cell_type": "code",
   "execution_count": 17,
   "metadata": {
    "collapsed": true
   },
   "outputs": [],
   "source": [
    "html_2015 = get_html(url_2015)"
   ]
  },
  {
   "cell_type": "code",
   "execution_count": 18,
   "metadata": {
    "collapsed": true
   },
   "outputs": [],
   "source": [
    "d_2015 = pd.read_html(html_2015)"
   ]
  },
  {
   "cell_type": "code",
   "execution_count": 26,
   "metadata": {},
   "outputs": [
    {
     "data": {
      "text/html": [
       "<div>\n",
       "<table border=\"1\" class=\"dataframe\">\n",
       "  <thead>\n",
       "    <tr style=\"text-align: right;\">\n",
       "      <th></th>\n",
       "      <th>Participating state</th>\n",
       "      <th>Number ofparticipatingagencies</th>\n",
       "      <th>Populationcovered</th>\n",
       "      <th>Agenciessubmittingincidentreports</th>\n",
       "      <th>Totalnumber ofincidentsreported</th>\n",
       "    </tr>\n",
       "  </thead>\n",
       "  <tbody>\n",
       "    <tr>\n",
       "      <th>0</th>\n",
       "      <td>Total</td>\n",
       "      <td>14997</td>\n",
       "      <td>283884034.0</td>\n",
       "      <td>1742</td>\n",
       "      <td>5850</td>\n",
       "    </tr>\n",
       "    <tr>\n",
       "      <th>1</th>\n",
       "      <td>Alabama</td>\n",
       "      <td>34</td>\n",
       "      <td>1252146.0</td>\n",
       "      <td>3</td>\n",
       "      <td>10</td>\n",
       "    </tr>\n",
       "    <tr>\n",
       "      <th>2</th>\n",
       "      <td>Alaska</td>\n",
       "      <td>33</td>\n",
       "      <td>734820.0</td>\n",
       "      <td>4</td>\n",
       "      <td>8</td>\n",
       "    </tr>\n",
       "    <tr>\n",
       "      <th>3</th>\n",
       "      <td>Arizona</td>\n",
       "      <td>101</td>\n",
       "      <td>6622880.0</td>\n",
       "      <td>21</td>\n",
       "      <td>276</td>\n",
       "    </tr>\n",
       "    <tr>\n",
       "      <th>4</th>\n",
       "      <td>Arkansas</td>\n",
       "      <td>279</td>\n",
       "      <td>2754543.0</td>\n",
       "      <td>4</td>\n",
       "      <td>5</td>\n",
       "    </tr>\n",
       "  </tbody>\n",
       "</table>\n",
       "</div>"
      ],
      "text/plain": [
       "  \\nParticipating state  \\nNumber ofparticipatingagencies  \\\n",
       "0                 Total                             14997   \n",
       "1               Alabama                                34   \n",
       "2                Alaska                                33   \n",
       "3               Arizona                               101   \n",
       "4              Arkansas                               279   \n",
       "\n",
       "   \\nPopulationcovered  \\nAgenciessubmittingincidentreports  \\\n",
       "0          283884034.0                                 1742   \n",
       "1            1252146.0                                    3   \n",
       "2             734820.0                                    4   \n",
       "3            6622880.0                                   21   \n",
       "4            2754543.0                                    4   \n",
       "\n",
       "   \\nTotalnumber ofincidentsreported  \n",
       "0                               5850  \n",
       "1                                 10  \n",
       "2                                  8  \n",
       "3                                276  \n",
       "4                                  5  "
      ]
     },
     "execution_count": 26,
     "metadata": {},
     "output_type": "execute_result"
    }
   ],
   "source": [
    "d_2015[0].head()"
   ]
  },
  {
   "cell_type": "code",
   "execution_count": 27,
   "metadata": {},
   "outputs": [
    {
     "data": {
      "text/html": [
       "<div>\n",
       "<table border=\"1\" class=\"dataframe\">\n",
       "  <thead>\n",
       "    <tr style=\"text-align: right;\">\n",
       "      <th></th>\n",
       "      <th>Participating state</th>\n",
       "      <th>Number ofparticipatingagencies</th>\n",
       "      <th>Populationcovered</th>\n",
       "      <th>Agenciessubmittingincidentreports</th>\n",
       "      <th>Totalnumber ofincidentsreported</th>\n",
       "    </tr>\n",
       "  </thead>\n",
       "  <tbody>\n",
       "    <tr>\n",
       "      <th>48</th>\n",
       "      <td>West Virginia</td>\n",
       "      <td>229</td>\n",
       "      <td>1494503.0</td>\n",
       "      <td>12</td>\n",
       "      <td>41</td>\n",
       "    </tr>\n",
       "    <tr>\n",
       "      <th>49</th>\n",
       "      <td>Wisconsin</td>\n",
       "      <td>395</td>\n",
       "      <td>5580752.0</td>\n",
       "      <td>25</td>\n",
       "      <td>43</td>\n",
       "    </tr>\n",
       "    <tr>\n",
       "      <th>50</th>\n",
       "      <td>Wyoming</td>\n",
       "      <td>57</td>\n",
       "      <td>564577.0</td>\n",
       "      <td>1</td>\n",
       "      <td>2</td>\n",
       "    </tr>\n",
       "    <tr>\n",
       "      <th>51</th>\n",
       "      <td>Guam1</td>\n",
       "      <td>1</td>\n",
       "      <td>NaN</td>\n",
       "      <td>1</td>\n",
       "      <td>1</td>\n",
       "    </tr>\n",
       "    <tr>\n",
       "      <th>52</th>\n",
       "      <td>U.S. Virgin Islands1</td>\n",
       "      <td>1</td>\n",
       "      <td>NaN</td>\n",
       "      <td>0</td>\n",
       "      <td>0</td>\n",
       "    </tr>\n",
       "  </tbody>\n",
       "</table>\n",
       "</div>"
      ],
      "text/plain": [
       "   \\nParticipating state  \\nNumber ofparticipatingagencies  \\\n",
       "48         West Virginia                               229   \n",
       "49             Wisconsin                               395   \n",
       "50               Wyoming                                57   \n",
       "51                 Guam1                                 1   \n",
       "52  U.S. Virgin Islands1                                 1   \n",
       "\n",
       "    \\nPopulationcovered  \\nAgenciessubmittingincidentreports  \\\n",
       "48            1494503.0                                   12   \n",
       "49            5580752.0                                   25   \n",
       "50             564577.0                                    1   \n",
       "51                  NaN                                    1   \n",
       "52                  NaN                                    0   \n",
       "\n",
       "    \\nTotalnumber ofincidentsreported  \n",
       "48                                 41  \n",
       "49                                 43  \n",
       "50                                  2  \n",
       "51                                  1  \n",
       "52                                  0  "
      ]
     },
     "execution_count": 27,
     "metadata": {},
     "output_type": "execute_result"
    }
   ],
   "source": [
    "d_2015[0].tail()"
   ]
  },
  {
   "cell_type": "code",
   "execution_count": 28,
   "metadata": {
    "collapsed": true
   },
   "outputs": [],
   "source": [
    "d_2015_clean = d_2015[0]\n",
    "d_2015_clean.columns = ['Participating State', 'Number of Participating Agencies',\n",
    "                        'Population Covered', 'Agencies Submitting Incident Reports',\n",
    "                        'Total Number of Incidents Reported']"
   ]
  },
  {
   "cell_type": "code",
   "execution_count": 36,
   "metadata": {},
   "outputs": [],
   "source": [
    "d_2015_clean = d_2015_clean.loc[lambda x: ~x['Participating State'].isin(['Total', 'Guam1', 'U.S. Virgin Islands1'])]"
   ]
  },
  {
   "cell_type": "code",
   "execution_count": 37,
   "metadata": {},
   "outputs": [
    {
     "name": "stderr",
     "output_type": "stream",
     "text": [
      "/Users/pbaumgartner/anaconda3/lib/python3.5/site-packages/ipykernel/__main__.py:1: SettingWithCopyWarning: \n",
      "A value is trying to be set on a copy of a slice from a DataFrame.\n",
      "Try using .loc[row_indexer,col_indexer] = value instead\n",
      "\n",
      "See the caveats in the documentation: http://pandas.pydata.org/pandas-docs/stable/indexing.html#indexing-view-versus-copy\n",
      "  if __name__ == '__main__':\n"
     ]
    }
   ],
   "source": [
    "d_2015_clean['date'] = 2015"
   ]
  },
  {
   "cell_type": "code",
   "execution_count": 49,
   "metadata": {},
   "outputs": [
    {
     "data": {
      "text/plain": [
       "array(['Alabama', 'Alaska', 'Arizona', 'Arkansas', 'California',\n",
       "       'Colorado', 'Connecticut', 'Delaware', 'District of Columbia',\n",
       "       'Florida', 'Georgia', 'Idaho', 'Illinois', 'Indiana', 'Iowa',\n",
       "       'Kansas', 'Kentucky', 'Louisiana', 'Maine', 'Maryland',\n",
       "       'Massachusetts', 'Michigan', 'Minnesota', 'Mississippi', 'Missouri',\n",
       "       'Montana', 'Nebraska', 'Nevada', 'New Hampshire', 'New Jersey',\n",
       "       'New Mexico', 'New York', 'North Carolina', 'North Dakota', 'Ohio',\n",
       "       'Oklahoma', 'Oregon', 'Pennsylvania', 'Rhode Island',\n",
       "       'South Carolina', 'South Dakota', 'Tennessee', 'Texas', 'Utah',\n",
       "       'Vermont', 'Virginia', 'Washington', 'West Virginia', 'Wisconsin',\n",
       "       'Wyoming'], dtype=object)"
      ]
     },
     "execution_count": 49,
     "metadata": {},
     "output_type": "execute_result"
    }
   ],
   "source": [
    "d_2015_clean['Participating State'].unique()"
   ]
  },
  {
   "cell_type": "markdown",
   "metadata": {},
   "source": [
    "## 2014"
   ]
  },
  {
   "cell_type": "code",
   "execution_count": 38,
   "metadata": {
    "collapsed": true
   },
   "outputs": [],
   "source": [
    "url_2014 = 'https://ucr.fbi.gov/hate-crime/2014/tables/table-12'"
   ]
  },
  {
   "cell_type": "code",
   "execution_count": 39,
   "metadata": {
    "collapsed": true
   },
   "outputs": [],
   "source": [
    "html_2014 = get_html(url_2014)"
   ]
  },
  {
   "cell_type": "code",
   "execution_count": 40,
   "metadata": {
    "collapsed": true
   },
   "outputs": [],
   "source": [
    "d_2014 = pd.read_html(html_2014)"
   ]
  },
  {
   "cell_type": "code",
   "execution_count": 41,
   "metadata": {},
   "outputs": [
    {
     "data": {
      "text/html": [
       "<div>\n",
       "<table border=\"1\" class=\"dataframe\">\n",
       "  <thead>\n",
       "    <tr style=\"text-align: right;\">\n",
       "      <th></th>\n",
       "      <th>Participating state</th>\n",
       "      <th>Number ofparticipatingagencies</th>\n",
       "      <th>Populationcovered</th>\n",
       "      <th>Agenciessubmittingincidentreports</th>\n",
       "      <th>Totalnumber ofincidentsreported</th>\n",
       "    </tr>\n",
       "  </thead>\n",
       "  <tbody>\n",
       "    <tr>\n",
       "      <th>0</th>\n",
       "      <td>Total</td>\n",
       "      <td>15494</td>\n",
       "      <td>297926030.0</td>\n",
       "      <td>1666</td>\n",
       "      <td>5479</td>\n",
       "    </tr>\n",
       "    <tr>\n",
       "      <th>1</th>\n",
       "      <td>Alabama</td>\n",
       "      <td>39</td>\n",
       "      <td>794907.0</td>\n",
       "      <td>4</td>\n",
       "      <td>9</td>\n",
       "    </tr>\n",
       "    <tr>\n",
       "      <th>2</th>\n",
       "      <td>Alaska</td>\n",
       "      <td>33</td>\n",
       "      <td>732371.0</td>\n",
       "      <td>1</td>\n",
       "      <td>6</td>\n",
       "    </tr>\n",
       "    <tr>\n",
       "      <th>3</th>\n",
       "      <td>Arizona</td>\n",
       "      <td>99</td>\n",
       "      <td>6433584.0</td>\n",
       "      <td>22</td>\n",
       "      <td>265</td>\n",
       "    </tr>\n",
       "    <tr>\n",
       "      <th>4</th>\n",
       "      <td>Arkansas</td>\n",
       "      <td>270</td>\n",
       "      <td>2661818.0</td>\n",
       "      <td>5</td>\n",
       "      <td>8</td>\n",
       "    </tr>\n",
       "  </tbody>\n",
       "</table>\n",
       "</div>"
      ],
      "text/plain": [
       "  \\nParticipating state  \\nNumber ofparticipatingagencies  \\\n",
       "0                 Total                             15494   \n",
       "1               Alabama                                39   \n",
       "2                Alaska                                33   \n",
       "3               Arizona                                99   \n",
       "4              Arkansas                               270   \n",
       "\n",
       "   \\nPopulationcovered  \\nAgenciessubmittingincidentreports  \\\n",
       "0          297926030.0                                 1666   \n",
       "1             794907.0                                    4   \n",
       "2             732371.0                                    1   \n",
       "3            6433584.0                                   22   \n",
       "4            2661818.0                                    5   \n",
       "\n",
       "   \\nTotalnumber ofincidentsreported  \n",
       "0                               5479  \n",
       "1                                  9  \n",
       "2                                  6  \n",
       "3                                265  \n",
       "4                                  8  "
      ]
     },
     "execution_count": 41,
     "metadata": {},
     "output_type": "execute_result"
    }
   ],
   "source": [
    "d_2014[0].head()"
   ]
  },
  {
   "cell_type": "code",
   "execution_count": 43,
   "metadata": {},
   "outputs": [
    {
     "data": {
      "text/html": [
       "<div>\n",
       "<table border=\"1\" class=\"dataframe\">\n",
       "  <thead>\n",
       "    <tr style=\"text-align: right;\">\n",
       "      <th></th>\n",
       "      <th>Participating state</th>\n",
       "      <th>Number ofparticipatingagencies</th>\n",
       "      <th>Populationcovered</th>\n",
       "      <th>Agenciessubmittingincidentreports</th>\n",
       "      <th>Totalnumber ofincidentsreported</th>\n",
       "    </tr>\n",
       "  </thead>\n",
       "  <tbody>\n",
       "    <tr>\n",
       "      <th>48</th>\n",
       "      <td>U.S. Virgin Islands1</td>\n",
       "      <td>1</td>\n",
       "      <td>NaN</td>\n",
       "      <td>0</td>\n",
       "      <td>0</td>\n",
       "    </tr>\n",
       "    <tr>\n",
       "      <th>49</th>\n",
       "      <td>Washington</td>\n",
       "      <td>262</td>\n",
       "      <td>7051748.0</td>\n",
       "      <td>67</td>\n",
       "      <td>308</td>\n",
       "    </tr>\n",
       "    <tr>\n",
       "      <th>50</th>\n",
       "      <td>West Virginia</td>\n",
       "      <td>269</td>\n",
       "      <td>1648198.0</td>\n",
       "      <td>16</td>\n",
       "      <td>26</td>\n",
       "    </tr>\n",
       "    <tr>\n",
       "      <th>51</th>\n",
       "      <td>Wisconsin</td>\n",
       "      <td>397</td>\n",
       "      <td>5610210.0</td>\n",
       "      <td>22</td>\n",
       "      <td>51</td>\n",
       "    </tr>\n",
       "    <tr>\n",
       "      <th>52</th>\n",
       "      <td>Wyoming</td>\n",
       "      <td>63</td>\n",
       "      <td>579446.0</td>\n",
       "      <td>0</td>\n",
       "      <td>0</td>\n",
       "    </tr>\n",
       "  </tbody>\n",
       "</table>\n",
       "</div>"
      ],
      "text/plain": [
       "   \\nParticipating state  \\nNumber ofparticipatingagencies  \\\n",
       "48  U.S. Virgin Islands1                                 1   \n",
       "49            Washington                               262   \n",
       "50         West Virginia                               269   \n",
       "51             Wisconsin                               397   \n",
       "52               Wyoming                                63   \n",
       "\n",
       "    \\nPopulationcovered  \\nAgenciessubmittingincidentreports  \\\n",
       "48                  NaN                                    0   \n",
       "49            7051748.0                                   67   \n",
       "50            1648198.0                                   16   \n",
       "51            5610210.0                                   22   \n",
       "52             579446.0                                    0   \n",
       "\n",
       "    \\nTotalnumber ofincidentsreported  \n",
       "48                                  0  \n",
       "49                                308  \n",
       "50                                 26  \n",
       "51                                 51  \n",
       "52                                  0  "
      ]
     },
     "execution_count": 43,
     "metadata": {},
     "output_type": "execute_result"
    }
   ],
   "source": [
    "d_2014[0].tail()"
   ]
  },
  {
   "cell_type": "code",
   "execution_count": 44,
   "metadata": {
    "collapsed": true
   },
   "outputs": [],
   "source": [
    "d_2014_clean = d_2014[0]\n",
    "d_2014_clean.columns = ['Participating State', 'Number of Participating Agencies',\n",
    "                        'Population Covered', 'Agencies Submitting Incident Reports',\n",
    "                        'Total Number of Incidents Reported']"
   ]
  },
  {
   "cell_type": "code",
   "execution_count": 45,
   "metadata": {
    "collapsed": true
   },
   "outputs": [],
   "source": [
    "d_2014_clean = d_2014_clean.loc[lambda x: ~x['Participating State'].isin(['Total', 'Guam1', 'U.S. Virgin Islands1'])]"
   ]
  },
  {
   "cell_type": "code",
   "execution_count": 46,
   "metadata": {},
   "outputs": [
    {
     "name": "stderr",
     "output_type": "stream",
     "text": [
      "/Users/pbaumgartner/anaconda3/lib/python3.5/site-packages/ipykernel/__main__.py:1: SettingWithCopyWarning: \n",
      "A value is trying to be set on a copy of a slice from a DataFrame.\n",
      "Try using .loc[row_indexer,col_indexer] = value instead\n",
      "\n",
      "See the caveats in the documentation: http://pandas.pydata.org/pandas-docs/stable/indexing.html#indexing-view-versus-copy\n",
      "  if __name__ == '__main__':\n"
     ]
    }
   ],
   "source": [
    "d_2014_clean['date'] = 2014"
   ]
  },
  {
   "cell_type": "code",
   "execution_count": 48,
   "metadata": {},
   "outputs": [
    {
     "data": {
      "text/plain": [
       "array(['Alabama', 'Alaska', 'Arizona', 'Arkansas', 'California',\n",
       "       'Colorado', 'Connecticut', 'Delaware', 'District of Columbia',\n",
       "       'Florida', 'Georgia', 'Idaho', 'Illinois', 'Indiana', 'Iowa',\n",
       "       'Kansas', 'Kentucky', 'Louisiana', 'Maine', 'Maryland',\n",
       "       'Massachusetts', 'Michigan', 'Minnesota', 'Mississippi', 'Missouri',\n",
       "       'Montana', 'Nebraska', 'Nevada', 'New Hampshire', 'New Jersey',\n",
       "       'New Mexico', 'New York', 'North Carolina', 'North Dakota', 'Ohio',\n",
       "       'Oklahoma', 'Oregon', 'Pennsylvania', 'Rhode Island',\n",
       "       'South Carolina', 'South Dakota', 'Tennessee', 'Texas', 'Utah',\n",
       "       'Vermont', 'Virginia', 'Washington', 'West Virginia', 'Wisconsin',\n",
       "       'Wyoming'], dtype=object)"
      ]
     },
     "execution_count": 48,
     "metadata": {},
     "output_type": "execute_result"
    }
   ],
   "source": [
    "d_2014_clean['Participating State'].unique()"
   ]
  },
  {
   "cell_type": "markdown",
   "metadata": {},
   "source": [
    "## 2013"
   ]
  },
  {
   "cell_type": "code",
   "execution_count": 12,
   "metadata": {
    "collapsed": true
   },
   "outputs": [],
   "source": [
    "url_2013 = 'https://ucr.fbi.gov/hate-crime/2013/tables/12tabledatadecpdf/table_12_agency_hate_crime_reporting_by_state_2013.xls'"
   ]
  },
  {
   "cell_type": "code",
   "execution_count": 13,
   "metadata": {
    "collapsed": true
   },
   "outputs": [],
   "source": [
    "html_2013 = get_html(url_2013)"
   ]
  },
  {
   "cell_type": "code",
   "execution_count": 50,
   "metadata": {
    "collapsed": true
   },
   "outputs": [],
   "source": [
    "d_2013 = pd.read_html(html_2013)"
   ]
  },
  {
   "cell_type": "code",
   "execution_count": 51,
   "metadata": {},
   "outputs": [
    {
     "data": {
      "text/html": [
       "<div>\n",
       "<table border=\"1\" class=\"dataframe\">\n",
       "  <thead>\n",
       "    <tr style=\"text-align: right;\">\n",
       "      <th></th>\n",
       "      <th>Participating state</th>\n",
       "      <th>Number ofparticipatingagencies</th>\n",
       "      <th>Populationcovered</th>\n",
       "      <th>Agenciessubmittingincidentreports</th>\n",
       "      <th>Totalnumber ofincidentsreported</th>\n",
       "    </tr>\n",
       "  </thead>\n",
       "  <tbody>\n",
       "    <tr>\n",
       "      <th>0</th>\n",
       "      <td>Total</td>\n",
       "      <td>15016</td>\n",
       "      <td>295016072</td>\n",
       "      <td>1826</td>\n",
       "      <td>5928</td>\n",
       "    </tr>\n",
       "    <tr>\n",
       "      <th>1</th>\n",
       "      <td>Alabama</td>\n",
       "      <td>48</td>\n",
       "      <td>1147612</td>\n",
       "      <td>4</td>\n",
       "      <td>6</td>\n",
       "    </tr>\n",
       "    <tr>\n",
       "      <th>2</th>\n",
       "      <td>Alaska</td>\n",
       "      <td>33</td>\n",
       "      <td>730950</td>\n",
       "      <td>1</td>\n",
       "      <td>8</td>\n",
       "    </tr>\n",
       "    <tr>\n",
       "      <th>3</th>\n",
       "      <td>Arizona</td>\n",
       "      <td>81</td>\n",
       "      <td>6358545</td>\n",
       "      <td>21</td>\n",
       "      <td>155</td>\n",
       "    </tr>\n",
       "    <tr>\n",
       "      <th>4</th>\n",
       "      <td>Arkansas</td>\n",
       "      <td>265</td>\n",
       "      <td>2809536</td>\n",
       "      <td>20</td>\n",
       "      <td>27</td>\n",
       "    </tr>\n",
       "  </tbody>\n",
       "</table>\n",
       "</div>"
      ],
      "text/plain": [
       "  \\nParticipating state  \\nNumber ofparticipatingagencies  \\\n",
       "0                 Total                             15016   \n",
       "1               Alabama                                48   \n",
       "2                Alaska                                33   \n",
       "3               Arizona                                81   \n",
       "4              Arkansas                               265   \n",
       "\n",
       "   \\nPopulationcovered  \\nAgenciessubmittingincidentreports  \\\n",
       "0            295016072                                 1826   \n",
       "1              1147612                                    4   \n",
       "2               730950                                    1   \n",
       "3              6358545                                   21   \n",
       "4              2809536                                   20   \n",
       "\n",
       "   \\nTotalnumber ofincidentsreported  \n",
       "0                               5928  \n",
       "1                                  6  \n",
       "2                                  8  \n",
       "3                                155  \n",
       "4                                 27  "
      ]
     },
     "execution_count": 51,
     "metadata": {},
     "output_type": "execute_result"
    }
   ],
   "source": [
    "d_2013[1].head()"
   ]
  },
  {
   "cell_type": "code",
   "execution_count": 52,
   "metadata": {},
   "outputs": [
    {
     "data": {
      "text/html": [
       "<div>\n",
       "<table border=\"1\" class=\"dataframe\">\n",
       "  <thead>\n",
       "    <tr style=\"text-align: right;\">\n",
       "      <th></th>\n",
       "      <th>Participating state</th>\n",
       "      <th>Number ofparticipatingagencies</th>\n",
       "      <th>Populationcovered</th>\n",
       "      <th>Agenciessubmittingincidentreports</th>\n",
       "      <th>Totalnumber ofincidentsreported</th>\n",
       "    </tr>\n",
       "  </thead>\n",
       "  <tbody>\n",
       "    <tr>\n",
       "      <th>48</th>\n",
       "      <td>Virgin Islands1</td>\n",
       "      <td>2</td>\n",
       "      <td>0</td>\n",
       "      <td>0</td>\n",
       "      <td>0</td>\n",
       "    </tr>\n",
       "    <tr>\n",
       "      <th>49</th>\n",
       "      <td>Washington</td>\n",
       "      <td>244</td>\n",
       "      <td>6967181</td>\n",
       "      <td>80</td>\n",
       "      <td>291</td>\n",
       "    </tr>\n",
       "    <tr>\n",
       "      <th>50</th>\n",
       "      <td>West Virginia</td>\n",
       "      <td>263</td>\n",
       "      <td>1670269</td>\n",
       "      <td>17</td>\n",
       "      <td>56</td>\n",
       "    </tr>\n",
       "    <tr>\n",
       "      <th>51</th>\n",
       "      <td>Wisconsin</td>\n",
       "      <td>402</td>\n",
       "      <td>5691976</td>\n",
       "      <td>21</td>\n",
       "      <td>50</td>\n",
       "    </tr>\n",
       "    <tr>\n",
       "      <th>52</th>\n",
       "      <td>Wyoming</td>\n",
       "      <td>63</td>\n",
       "      <td>577987</td>\n",
       "      <td>1</td>\n",
       "      <td>1</td>\n",
       "    </tr>\n",
       "  </tbody>\n",
       "</table>\n",
       "</div>"
      ],
      "text/plain": [
       "   \\nParticipating state  \\nNumber ofparticipatingagencies  \\\n",
       "48       Virgin Islands1                                 2   \n",
       "49            Washington                               244   \n",
       "50         West Virginia                               263   \n",
       "51             Wisconsin                               402   \n",
       "52               Wyoming                                63   \n",
       "\n",
       "    \\nPopulationcovered  \\nAgenciessubmittingincidentreports  \\\n",
       "48                    0                                    0   \n",
       "49              6967181                                   80   \n",
       "50              1670269                                   17   \n",
       "51              5691976                                   21   \n",
       "52               577987                                    1   \n",
       "\n",
       "    \\nTotalnumber ofincidentsreported  \n",
       "48                                  0  \n",
       "49                                291  \n",
       "50                                 56  \n",
       "51                                 50  \n",
       "52                                  1  "
      ]
     },
     "execution_count": 52,
     "metadata": {},
     "output_type": "execute_result"
    }
   ],
   "source": [
    "d_2013[1].tail()"
   ]
  },
  {
   "cell_type": "code",
   "execution_count": 54,
   "metadata": {},
   "outputs": [
    {
     "data": {
      "text/plain": [
       "Index(['\\nParticipating state', '\\nNumber ofparticipatingagencies',\n",
       "       '\\nPopulationcovered', '\\nAgenciessubmittingincidentreports',\n",
       "       '\\nTotalnumber ofincidentsreported'],\n",
       "      dtype='object')"
      ]
     },
     "execution_count": 54,
     "metadata": {},
     "output_type": "execute_result"
    }
   ],
   "source": [
    "d_2013[1].columns"
   ]
  },
  {
   "cell_type": "code",
   "execution_count": 55,
   "metadata": {},
   "outputs": [
    {
     "data": {
      "text/plain": [
       "array(['Total', 'Alabama', 'Alaska', 'Arizona', 'Arkansas', 'California',\n",
       "       'Colorado', 'Connecticut', 'Delaware', 'District of Columbia',\n",
       "       'Florida', 'Georgia', 'Guam1', 'Idaho', 'Illinois', 'Indiana',\n",
       "       'Iowa', 'Kansas', 'Kentucky', 'Louisiana', 'Maine', 'Maryland',\n",
       "       'Massachusetts', 'Michigan', 'Minnesota', 'Mississippi', 'Missouri',\n",
       "       'Montana', 'Nebraska', 'Nevada', 'New Hampshire', 'New Jersey',\n",
       "       'New Mexico', 'New York', 'North Carolina', 'North Dakota', 'Ohio',\n",
       "       'Oklahoma', 'Oregon', 'Pennsylvania', 'Rhode Island',\n",
       "       'South Carolina', 'South Dakota', 'Tennessee', 'Texas', 'Utah',\n",
       "       'Vermont', 'Virginia', 'Virgin Islands1', 'Washington',\n",
       "       'West Virginia', 'Wisconsin', 'Wyoming'], dtype=object)"
      ]
     },
     "execution_count": 55,
     "metadata": {},
     "output_type": "execute_result"
    }
   ],
   "source": [
    "d_2013[1]['\\nParticipating state'].unique()"
   ]
  },
  {
   "cell_type": "code",
   "execution_count": 56,
   "metadata": {
    "collapsed": true
   },
   "outputs": [],
   "source": [
    "d_2013_clean = d_2013[1]\n",
    "d_2013_clean.columns = ['Participating State', 'Number of Participating Agencies',\n",
    "                        'Population Covered', 'Agencies Submitting Incident Reports',\n",
    "                        'Total Number of Incidents Reported']"
   ]
  },
  {
   "cell_type": "code",
   "execution_count": 57,
   "metadata": {
    "collapsed": true
   },
   "outputs": [],
   "source": [
    "d_2013_clean = d_2013_clean.loc[lambda x: ~x['Participating State'].isin(['Total', 'Guam1', 'U.S. Virgin Islands1', 'Virgin Islands1'])]"
   ]
  },
  {
   "cell_type": "code",
   "execution_count": 58,
   "metadata": {},
   "outputs": [
    {
     "name": "stderr",
     "output_type": "stream",
     "text": [
      "/Users/pbaumgartner/anaconda3/lib/python3.5/site-packages/ipykernel/__main__.py:1: SettingWithCopyWarning: \n",
      "A value is trying to be set on a copy of a slice from a DataFrame.\n",
      "Try using .loc[row_indexer,col_indexer] = value instead\n",
      "\n",
      "See the caveats in the documentation: http://pandas.pydata.org/pandas-docs/stable/indexing.html#indexing-view-versus-copy\n",
      "  if __name__ == '__main__':\n"
     ]
    }
   ],
   "source": [
    "d_2013_clean['date'] = 2013"
   ]
  },
  {
   "cell_type": "code",
   "execution_count": 61,
   "metadata": {
    "scrolled": true
   },
   "outputs": [
    {
     "data": {
      "text/plain": [
       "array(['Alabama', 'Alaska', 'Arizona', 'Arkansas', 'California',\n",
       "       'Colorado', 'Connecticut', 'Delaware', 'District of Columbia',\n",
       "       'Florida', 'Georgia', 'Idaho', 'Illinois', 'Indiana', 'Iowa',\n",
       "       'Kansas', 'Kentucky', 'Louisiana', 'Maine', 'Maryland',\n",
       "       'Massachusetts', 'Michigan', 'Minnesota', 'Mississippi', 'Missouri',\n",
       "       'Montana', 'Nebraska', 'Nevada', 'New Hampshire', 'New Jersey',\n",
       "       'New Mexico', 'New York', 'North Carolina', 'North Dakota', 'Ohio',\n",
       "       'Oklahoma', 'Oregon', 'Pennsylvania', 'Rhode Island',\n",
       "       'South Carolina', 'South Dakota', 'Tennessee', 'Texas', 'Utah',\n",
       "       'Vermont', 'Virginia', 'Washington', 'West Virginia', 'Wisconsin',\n",
       "       'Wyoming'], dtype=object)"
      ]
     },
     "execution_count": 61,
     "metadata": {},
     "output_type": "execute_result"
    }
   ],
   "source": [
    "d_2013_clean['Participating State'].unique()"
   ]
  },
  {
   "cell_type": "markdown",
   "metadata": {},
   "source": [
    "## 2012"
   ]
  },
  {
   "cell_type": "code",
   "execution_count": 68,
   "metadata": {
    "collapsed": true
   },
   "outputs": [],
   "source": [
    "url_2012 = 'https://ucr.fbi.gov/hate-crime/2012/tables-and-data-declarations/12tabledatadecpdf/table_12_agency_hate_crime_reporting_by_state_2012.xls'"
   ]
  },
  {
   "cell_type": "code",
   "execution_count": 69,
   "metadata": {},
   "outputs": [],
   "source": [
    "html_2012 = get_html(url_2012)"
   ]
  },
  {
   "cell_type": "code",
   "execution_count": 70,
   "metadata": {},
   "outputs": [],
   "source": [
    "d_2012 = pd.read_html(html_2012)"
   ]
  },
  {
   "cell_type": "code",
   "execution_count": 71,
   "metadata": {},
   "outputs": [
    {
     "data": {
      "text/html": [
       "<div>\n",
       "<table border=\"1\" class=\"dataframe\">\n",
       "  <thead>\n",
       "    <tr style=\"text-align: right;\">\n",
       "      <th></th>\n",
       "      <th>Participating state</th>\n",
       "      <th>Number ofparticipatingagencies</th>\n",
       "      <th>Populationcovered</th>\n",
       "      <th>Agenciessubmittingincidentreports</th>\n",
       "      <th>Totalnumber ofincidentsreported</th>\n",
       "    </tr>\n",
       "  </thead>\n",
       "  <tbody>\n",
       "    <tr>\n",
       "      <th>0</th>\n",
       "      <td>Total</td>\n",
       "      <td>13022</td>\n",
       "      <td>248809710</td>\n",
       "      <td>1730</td>\n",
       "      <td>5796</td>\n",
       "    </tr>\n",
       "    <tr>\n",
       "      <th>1</th>\n",
       "      <td>Alabama</td>\n",
       "      <td>8</td>\n",
       "      <td>141235</td>\n",
       "      <td>1</td>\n",
       "      <td>6</td>\n",
       "    </tr>\n",
       "    <tr>\n",
       "      <th>2</th>\n",
       "      <td>Alaska</td>\n",
       "      <td>5</td>\n",
       "      <td>315266</td>\n",
       "      <td>1</td>\n",
       "      <td>6</td>\n",
       "    </tr>\n",
       "    <tr>\n",
       "      <th>3</th>\n",
       "      <td>Arizona</td>\n",
       "      <td>81</td>\n",
       "      <td>5974180</td>\n",
       "      <td>22</td>\n",
       "      <td>176</td>\n",
       "    </tr>\n",
       "    <tr>\n",
       "      <th>4</th>\n",
       "      <td>Arkansas</td>\n",
       "      <td>265</td>\n",
       "      <td>2748544</td>\n",
       "      <td>17</td>\n",
       "      <td>30</td>\n",
       "    </tr>\n",
       "  </tbody>\n",
       "</table>\n",
       "</div>"
      ],
      "text/plain": [
       "  \\nParticipating state  \\nNumber ofparticipatingagencies  \\\n",
       "0                 Total                             13022   \n",
       "1               Alabama                                 8   \n",
       "2                Alaska                                 5   \n",
       "3               Arizona                                81   \n",
       "4              Arkansas                               265   \n",
       "\n",
       "   \\nPopulationcovered  \\nAgenciessubmittingincidentreports  \\\n",
       "0            248809710                                 1730   \n",
       "1               141235                                    1   \n",
       "2               315266                                    1   \n",
       "3              5974180                                   22   \n",
       "4              2748544                                   17   \n",
       "\n",
       "   \\nTotalnumber ofincidentsreported  \n",
       "0                               5796  \n",
       "1                                  6  \n",
       "2                                  6  \n",
       "3                                176  \n",
       "4                                 30  "
      ]
     },
     "execution_count": 71,
     "metadata": {},
     "output_type": "execute_result"
    }
   ],
   "source": [
    "d_2012[1].head()"
   ]
  },
  {
   "cell_type": "code",
   "execution_count": 72,
   "metadata": {},
   "outputs": [
    {
     "data": {
      "text/html": [
       "<div>\n",
       "<table border=\"1\" class=\"dataframe\">\n",
       "  <thead>\n",
       "    <tr style=\"text-align: right;\">\n",
       "      <th></th>\n",
       "      <th>Participating state</th>\n",
       "      <th>Number ofparticipatingagencies</th>\n",
       "      <th>Populationcovered</th>\n",
       "      <th>Agenciessubmittingincidentreports</th>\n",
       "      <th>Totalnumber ofincidentsreported</th>\n",
       "    </tr>\n",
       "  </thead>\n",
       "  <tbody>\n",
       "    <tr>\n",
       "      <th>47</th>\n",
       "      <td>Virgin Islands1</td>\n",
       "      <td>1</td>\n",
       "      <td>0</td>\n",
       "      <td>0</td>\n",
       "      <td>0</td>\n",
       "    </tr>\n",
       "    <tr>\n",
       "      <th>48</th>\n",
       "      <td>Washington</td>\n",
       "      <td>247</td>\n",
       "      <td>6890640</td>\n",
       "      <td>69</td>\n",
       "      <td>272</td>\n",
       "    </tr>\n",
       "    <tr>\n",
       "      <th>49</th>\n",
       "      <td>West Virginia</td>\n",
       "      <td>285</td>\n",
       "      <td>1733977</td>\n",
       "      <td>16</td>\n",
       "      <td>27</td>\n",
       "    </tr>\n",
       "    <tr>\n",
       "      <th>50</th>\n",
       "      <td>Wisconsin</td>\n",
       "      <td>400</td>\n",
       "      <td>5682618</td>\n",
       "      <td>22</td>\n",
       "      <td>68</td>\n",
       "    </tr>\n",
       "    <tr>\n",
       "      <th>51</th>\n",
       "      <td>Wyoming</td>\n",
       "      <td>59</td>\n",
       "      <td>555285</td>\n",
       "      <td>2</td>\n",
       "      <td>2</td>\n",
       "    </tr>\n",
       "  </tbody>\n",
       "</table>\n",
       "</div>"
      ],
      "text/plain": [
       "   \\nParticipating state  \\nNumber ofparticipatingagencies  \\\n",
       "47       Virgin Islands1                                 1   \n",
       "48            Washington                               247   \n",
       "49         West Virginia                               285   \n",
       "50             Wisconsin                               400   \n",
       "51               Wyoming                                59   \n",
       "\n",
       "    \\nPopulationcovered  \\nAgenciessubmittingincidentreports  \\\n",
       "47                    0                                    0   \n",
       "48              6890640                                   69   \n",
       "49              1733977                                   16   \n",
       "50              5682618                                   22   \n",
       "51               555285                                    2   \n",
       "\n",
       "    \\nTotalnumber ofincidentsreported  \n",
       "47                                  0  \n",
       "48                                272  \n",
       "49                                 27  \n",
       "50                                 68  \n",
       "51                                  2  "
      ]
     },
     "execution_count": 72,
     "metadata": {},
     "output_type": "execute_result"
    }
   ],
   "source": [
    "d_2012[1].tail()"
   ]
  },
  {
   "cell_type": "code",
   "execution_count": 76,
   "metadata": {
    "collapsed": true
   },
   "outputs": [],
   "source": [
    "d_2012_clean = d_2012[1]\n",
    "d_2012_clean.columns = ['Participating State', 'Number of Participating Agencies',\n",
    "                        'Population Covered', 'Agencies Submitting Incident Reports',\n",
    "                        'Total Number of Incidents Reported']"
   ]
  },
  {
   "cell_type": "code",
   "execution_count": 77,
   "metadata": {
    "collapsed": true
   },
   "outputs": [],
   "source": [
    "d_2012_clean = d_2012_clean.loc[lambda x: ~x['Participating State'].isin(['Total', 'Guam1', 'U.S. Virgin Islands1', 'Virgin Islands1'])]"
   ]
  },
  {
   "cell_type": "code",
   "execution_count": 78,
   "metadata": {},
   "outputs": [
    {
     "name": "stderr",
     "output_type": "stream",
     "text": [
      "/Users/pbaumgartner/anaconda3/lib/python3.5/site-packages/ipykernel/__main__.py:1: SettingWithCopyWarning: \n",
      "A value is trying to be set on a copy of a slice from a DataFrame.\n",
      "Try using .loc[row_indexer,col_indexer] = value instead\n",
      "\n",
      "See the caveats in the documentation: http://pandas.pydata.org/pandas-docs/stable/indexing.html#indexing-view-versus-copy\n",
      "  if __name__ == '__main__':\n"
     ]
    }
   ],
   "source": [
    "d_2012_clean['date'] = 2012"
   ]
  },
  {
   "cell_type": "code",
   "execution_count": 79,
   "metadata": {
    "scrolled": true
   },
   "outputs": [
    {
     "data": {
      "text/plain": [
       "array(['Alabama', 'Alaska', 'Arizona', 'Arkansas', 'California',\n",
       "       'Colorado', 'Connecticut', 'Delaware', 'District of Columbia',\n",
       "       'Florida', 'Georgia', 'Idaho', 'Illinois', 'Indiana', 'Iowa',\n",
       "       'Kansas', 'Kentucky', 'Louisiana', 'Maine', 'Maryland',\n",
       "       'Massachusetts', 'Michigan', 'Minnesota', 'Mississippi', 'Missouri',\n",
       "       'Montana', 'Nebraska', 'Nevada', 'New Hampshire', 'New Mexico',\n",
       "       'New York', 'North Carolina', 'North Dakota', 'Ohio', 'Oklahoma',\n",
       "       'Oregon', 'Pennsylvania', 'Rhode Island', 'South Carolina',\n",
       "       'South Dakota', 'Tennessee', 'Texas', 'Utah', 'Vermont', 'Virginia',\n",
       "       'Washington', 'West Virginia', 'Wisconsin', 'Wyoming'], dtype=object)"
      ]
     },
     "execution_count": 79,
     "metadata": {},
     "output_type": "execute_result"
    }
   ],
   "source": [
    "d_2012_clean['Participating State'].unique()"
   ]
  },
  {
   "cell_type": "markdown",
   "metadata": {},
   "source": [
    "## 2011"
   ]
  },
  {
   "cell_type": "code",
   "execution_count": null,
   "metadata": {
    "collapsed": true
   },
   "outputs": [],
   "source": []
  },
  {
   "cell_type": "code",
   "execution_count": 81,
   "metadata": {
    "collapsed": true
   },
   "outputs": [],
   "source": [
    "url_2011 = 'https://ucr.fbi.gov/hate-crime/2011/tables/table-12'"
   ]
  },
  {
   "cell_type": "code",
   "execution_count": 82,
   "metadata": {
    "collapsed": true
   },
   "outputs": [],
   "source": [
    "html_2011 = get_html(url_2011)"
   ]
  },
  {
   "cell_type": "code",
   "execution_count": 83,
   "metadata": {
    "collapsed": true
   },
   "outputs": [],
   "source": [
    "d_2011 = pd.read_html(html_2011)"
   ]
  },
  {
   "cell_type": "code",
   "execution_count": 84,
   "metadata": {},
   "outputs": [
    {
     "data": {
      "text/html": [
       "<div>\n",
       "<table border=\"1\" class=\"dataframe\">\n",
       "  <thead>\n",
       "    <tr style=\"text-align: right;\">\n",
       "      <th></th>\n",
       "      <th>Participating state</th>\n",
       "      <th>Number ofparticipatingagencies</th>\n",
       "      <th>Populationcovered</th>\n",
       "      <th>Agenciessubmittingincidentreports</th>\n",
       "      <th>Totalnumber ofincidentsreported</th>\n",
       "    </tr>\n",
       "  </thead>\n",
       "  <tbody>\n",
       "    <tr>\n",
       "      <th>0</th>\n",
       "      <td>Total</td>\n",
       "      <td>14575</td>\n",
       "      <td>286010550.0</td>\n",
       "      <td>1944</td>\n",
       "      <td>6222</td>\n",
       "    </tr>\n",
       "    <tr>\n",
       "      <th>1</th>\n",
       "      <td>Alabama</td>\n",
       "      <td>98</td>\n",
       "      <td>2285487.0</td>\n",
       "      <td>50</td>\n",
       "      <td>83</td>\n",
       "    </tr>\n",
       "    <tr>\n",
       "      <th>2</th>\n",
       "      <td>Alaska</td>\n",
       "      <td>2</td>\n",
       "      <td>304924.0</td>\n",
       "      <td>1</td>\n",
       "      <td>8</td>\n",
       "    </tr>\n",
       "    <tr>\n",
       "      <th>3</th>\n",
       "      <td>Arizona</td>\n",
       "      <td>84</td>\n",
       "      <td>6225041.0</td>\n",
       "      <td>26</td>\n",
       "      <td>192</td>\n",
       "    </tr>\n",
       "    <tr>\n",
       "      <th>4</th>\n",
       "      <td>Arkansas</td>\n",
       "      <td>259</td>\n",
       "      <td>2804225.0</td>\n",
       "      <td>10</td>\n",
       "      <td>11</td>\n",
       "    </tr>\n",
       "  </tbody>\n",
       "</table>\n",
       "</div>"
      ],
      "text/plain": [
       "  \\nParticipating state  \\nNumber ofparticipatingagencies  \\\n",
       "0                 Total                             14575   \n",
       "1               Alabama                                98   \n",
       "2                Alaska                                 2   \n",
       "3               Arizona                                84   \n",
       "4              Arkansas                               259   \n",
       "\n",
       "   \\nPopulationcovered  \\nAgenciessubmittingincidentreports  \\\n",
       "0          286010550.0                                 1944   \n",
       "1            2285487.0                                   50   \n",
       "2             304924.0                                    1   \n",
       "3            6225041.0                                   26   \n",
       "4            2804225.0                                   10   \n",
       "\n",
       "   \\nTotalnumber ofincidentsreported  \n",
       "0                               6222  \n",
       "1                                 83  \n",
       "2                                  8  \n",
       "3                                192  \n",
       "4                                 11  "
      ]
     },
     "execution_count": 84,
     "metadata": {},
     "output_type": "execute_result"
    }
   ],
   "source": [
    "d_2011[1].head()"
   ]
  },
  {
   "cell_type": "code",
   "execution_count": 85,
   "metadata": {},
   "outputs": [
    {
     "data": {
      "text/html": [
       "<div>\n",
       "<table border=\"1\" class=\"dataframe\">\n",
       "  <thead>\n",
       "    <tr style=\"text-align: right;\">\n",
       "      <th></th>\n",
       "      <th>Participating state</th>\n",
       "      <th>Number ofparticipatingagencies</th>\n",
       "      <th>Populationcovered</th>\n",
       "      <th>Agenciessubmittingincidentreports</th>\n",
       "      <th>Totalnumber ofincidentsreported</th>\n",
       "    </tr>\n",
       "  </thead>\n",
       "  <tbody>\n",
       "    <tr>\n",
       "      <th>47</th>\n",
       "      <td>Virgin Islands1</td>\n",
       "      <td>1</td>\n",
       "      <td>NaN</td>\n",
       "      <td>0</td>\n",
       "      <td>0</td>\n",
       "    </tr>\n",
       "    <tr>\n",
       "      <th>48</th>\n",
       "      <td>Washington</td>\n",
       "      <td>246</td>\n",
       "      <td>6822528.0</td>\n",
       "      <td>69</td>\n",
       "      <td>213</td>\n",
       "    </tr>\n",
       "    <tr>\n",
       "      <th>49</th>\n",
       "      <td>West Virginia</td>\n",
       "      <td>281</td>\n",
       "      <td>1689892.0</td>\n",
       "      <td>14</td>\n",
       "      <td>18</td>\n",
       "    </tr>\n",
       "    <tr>\n",
       "      <th>50</th>\n",
       "      <td>Wisconsin</td>\n",
       "      <td>399</td>\n",
       "      <td>5669896.0</td>\n",
       "      <td>22</td>\n",
       "      <td>76</td>\n",
       "    </tr>\n",
       "    <tr>\n",
       "      <th>51</th>\n",
       "      <td>Wyoming</td>\n",
       "      <td>63</td>\n",
       "      <td>561000.0</td>\n",
       "      <td>2</td>\n",
       "      <td>2</td>\n",
       "    </tr>\n",
       "  </tbody>\n",
       "</table>\n",
       "</div>"
      ],
      "text/plain": [
       "   \\nParticipating state  \\nNumber ofparticipatingagencies  \\\n",
       "47       Virgin Islands1                                 1   \n",
       "48            Washington                               246   \n",
       "49         West Virginia                               281   \n",
       "50             Wisconsin                               399   \n",
       "51               Wyoming                                63   \n",
       "\n",
       "    \\nPopulationcovered  \\nAgenciessubmittingincidentreports  \\\n",
       "47                  NaN                                    0   \n",
       "48            6822528.0                                   69   \n",
       "49            1689892.0                                   14   \n",
       "50            5669896.0                                   22   \n",
       "51             561000.0                                    2   \n",
       "\n",
       "    \\nTotalnumber ofincidentsreported  \n",
       "47                                  0  \n",
       "48                                213  \n",
       "49                                 18  \n",
       "50                                 76  \n",
       "51                                  2  "
      ]
     },
     "execution_count": 85,
     "metadata": {},
     "output_type": "execute_result"
    }
   ],
   "source": [
    "d_2011[1].tail()"
   ]
  },
  {
   "cell_type": "code",
   "execution_count": 86,
   "metadata": {
    "collapsed": true
   },
   "outputs": [],
   "source": [
    "d_2011_clean = d_2011[1]\n",
    "d_2011_clean.columns = ['Participating State', 'Number of Participating Agencies',\n",
    "                        'Population Covered', 'Agencies Submitting Incident Reports',\n",
    "                        'Total Number of Incidents Reported']"
   ]
  },
  {
   "cell_type": "code",
   "execution_count": 87,
   "metadata": {
    "collapsed": true
   },
   "outputs": [],
   "source": [
    "d_2011_clean = d_2011_clean.loc[lambda x: ~x['Participating State'].isin(['Total', 'Guam1', 'U.S. Virgin Islands1', 'Virgin Islands1'])]"
   ]
  },
  {
   "cell_type": "code",
   "execution_count": 88,
   "metadata": {},
   "outputs": [
    {
     "name": "stderr",
     "output_type": "stream",
     "text": [
      "/Users/pbaumgartner/anaconda3/lib/python3.5/site-packages/ipykernel/__main__.py:1: SettingWithCopyWarning: \n",
      "A value is trying to be set on a copy of a slice from a DataFrame.\n",
      "Try using .loc[row_indexer,col_indexer] = value instead\n",
      "\n",
      "See the caveats in the documentation: http://pandas.pydata.org/pandas-docs/stable/indexing.html#indexing-view-versus-copy\n",
      "  if __name__ == '__main__':\n"
     ]
    }
   ],
   "source": [
    "d_2011_clean['date'] = 2011"
   ]
  },
  {
   "cell_type": "code",
   "execution_count": 89,
   "metadata": {
    "scrolled": true
   },
   "outputs": [
    {
     "data": {
      "text/plain": [
       "array(['Alabama', 'Alaska', 'Arizona', 'Arkansas', 'California',\n",
       "       'Colorado', 'Connecticut', 'Delaware', 'District of Columbia',\n",
       "       'Florida', 'Georgia', 'Idaho', 'Illinois', 'Indiana', 'Iowa',\n",
       "       'Kansas', 'Kentucky', 'Louisiana', 'Maine', 'Maryland',\n",
       "       'Massachusetts', 'Michigan', 'Minnesota', 'Mississippi', 'Missouri',\n",
       "       'Montana', 'Nebraska', 'Nevada', 'New Hampshire', 'New Jersey',\n",
       "       'New Mexico', 'New York', 'North Carolina', 'North Dakota', 'Ohio',\n",
       "       'Oklahoma', 'Oregon', 'Pennsylvania', 'Rhode Island',\n",
       "       'South Carolina', 'South Dakota', 'Tennessee', 'Texas', 'Utah',\n",
       "       'Vermont', 'Virginia', 'Washington', 'West Virginia', 'Wisconsin',\n",
       "       'Wyoming'], dtype=object)"
      ]
     },
     "execution_count": 89,
     "metadata": {},
     "output_type": "execute_result"
    }
   ],
   "source": [
    "d_2011_clean['Participating State'].unique()"
   ]
  },
  {
   "cell_type": "markdown",
   "metadata": {},
   "source": [
    "## 2010"
   ]
  },
  {
   "cell_type": "code",
   "execution_count": 90,
   "metadata": {
    "collapsed": true
   },
   "outputs": [],
   "source": [
    "url_2010 = 'https://ucr.fbi.gov/hate-crime/2010/tables/table-12-agency-hate-crime-reporting-by-state-2010.xls'"
   ]
  },
  {
   "cell_type": "code",
   "execution_count": 91,
   "metadata": {
    "collapsed": true
   },
   "outputs": [],
   "source": [
    "html_2010 = get_html(url_2010)"
   ]
  },
  {
   "cell_type": "code",
   "execution_count": 92,
   "metadata": {
    "collapsed": true
   },
   "outputs": [],
   "source": [
    "d_2010 = pd.read_html(html_2010)"
   ]
  },
  {
   "cell_type": "code",
   "execution_count": 93,
   "metadata": {},
   "outputs": [
    {
     "data": {
      "text/html": [
       "<div>\n",
       "<table border=\"1\" class=\"dataframe\">\n",
       "  <thead>\n",
       "    <tr style=\"text-align: right;\">\n",
       "      <th></th>\n",
       "      <th>Participating state</th>\n",
       "      <th>Number ofparticipatingagencies</th>\n",
       "      <th>Populationcovered</th>\n",
       "      <th>Agenciessubmitting incidentreports</th>\n",
       "      <th>Total numberof incidentsreported</th>\n",
       "    </tr>\n",
       "  </thead>\n",
       "  <tbody>\n",
       "    <tr>\n",
       "      <th>0</th>\n",
       "      <td>Total</td>\n",
       "      <td>14977</td>\n",
       "      <td>285001266</td>\n",
       "      <td>1949</td>\n",
       "      <td>6628</td>\n",
       "    </tr>\n",
       "    <tr>\n",
       "      <th>1</th>\n",
       "      <td>Alabama</td>\n",
       "      <td>331</td>\n",
       "      <td>3762738</td>\n",
       "      <td>12</td>\n",
       "      <td>19</td>\n",
       "    </tr>\n",
       "    <tr>\n",
       "      <th>2</th>\n",
       "      <td>Alaska</td>\n",
       "      <td>1</td>\n",
       "      <td>290334</td>\n",
       "      <td>1</td>\n",
       "      <td>7</td>\n",
       "    </tr>\n",
       "    <tr>\n",
       "      <th>3</th>\n",
       "      <td>Arizona</td>\n",
       "      <td>89</td>\n",
       "      <td>6328446</td>\n",
       "      <td>22</td>\n",
       "      <td>236</td>\n",
       "    </tr>\n",
       "    <tr>\n",
       "      <th>4</th>\n",
       "      <td>Arkansas</td>\n",
       "      <td>254</td>\n",
       "      <td>2752987</td>\n",
       "      <td>30</td>\n",
       "      <td>63</td>\n",
       "    </tr>\n",
       "  </tbody>\n",
       "</table>\n",
       "</div>"
      ],
      "text/plain": [
       "  \\nParticipating state  \\nNumber ofparticipatingagencies  \\\n",
       "0                 Total                             14977   \n",
       "1               Alabama                               331   \n",
       "2                Alaska                                 1   \n",
       "3               Arizona                                89   \n",
       "4              Arkansas                               254   \n",
       "\n",
       "   \\nPopulationcovered  \\nAgenciessubmitting incidentreports  \\\n",
       "0            285001266                                  1949   \n",
       "1              3762738                                    12   \n",
       "2               290334                                     1   \n",
       "3              6328446                                    22   \n",
       "4              2752987                                    30   \n",
       "\n",
       "   \\nTotal numberof incidentsreported  \n",
       "0                                6628  \n",
       "1                                  19  \n",
       "2                                   7  \n",
       "3                                 236  \n",
       "4                                  63  "
      ]
     },
     "execution_count": 93,
     "metadata": {},
     "output_type": "execute_result"
    }
   ],
   "source": [
    "d_2010[1].head()"
   ]
  },
  {
   "cell_type": "code",
   "execution_count": 94,
   "metadata": {},
   "outputs": [
    {
     "data": {
      "text/html": [
       "<div>\n",
       "<table border=\"1\" class=\"dataframe\">\n",
       "  <thead>\n",
       "    <tr style=\"text-align: right;\">\n",
       "      <th></th>\n",
       "      <th>Participating state</th>\n",
       "      <th>Number ofparticipatingagencies</th>\n",
       "      <th>Populationcovered</th>\n",
       "      <th>Agenciessubmitting incidentreports</th>\n",
       "      <th>Total numberof incidentsreported</th>\n",
       "    </tr>\n",
       "  </thead>\n",
       "  <tbody>\n",
       "    <tr>\n",
       "      <th>46</th>\n",
       "      <td>Virginia</td>\n",
       "      <td>413</td>\n",
       "      <td>8001024</td>\n",
       "      <td>53</td>\n",
       "      <td>175</td>\n",
       "    </tr>\n",
       "    <tr>\n",
       "      <th>47</th>\n",
       "      <td>Washington</td>\n",
       "      <td>250</td>\n",
       "      <td>6717480</td>\n",
       "      <td>56</td>\n",
       "      <td>232</td>\n",
       "    </tr>\n",
       "    <tr>\n",
       "      <th>48</th>\n",
       "      <td>West Virginia</td>\n",
       "      <td>277</td>\n",
       "      <td>1713013</td>\n",
       "      <td>17</td>\n",
       "      <td>33</td>\n",
       "    </tr>\n",
       "    <tr>\n",
       "      <th>49</th>\n",
       "      <td>Wisconsin</td>\n",
       "      <td>395</td>\n",
       "      <td>5682402</td>\n",
       "      <td>30</td>\n",
       "      <td>93</td>\n",
       "    </tr>\n",
       "    <tr>\n",
       "      <th>50</th>\n",
       "      <td>Wyoming</td>\n",
       "      <td>64</td>\n",
       "      <td>559126</td>\n",
       "      <td>2</td>\n",
       "      <td>2</td>\n",
       "    </tr>\n",
       "  </tbody>\n",
       "</table>\n",
       "</div>"
      ],
      "text/plain": [
       "   \\nParticipating state  \\nNumber ofparticipatingagencies  \\\n",
       "46              Virginia                               413   \n",
       "47            Washington                               250   \n",
       "48         West Virginia                               277   \n",
       "49             Wisconsin                               395   \n",
       "50               Wyoming                                64   \n",
       "\n",
       "    \\nPopulationcovered  \\nAgenciessubmitting incidentreports  \\\n",
       "46              8001024                                    53   \n",
       "47              6717480                                    56   \n",
       "48              1713013                                    17   \n",
       "49              5682402                                    30   \n",
       "50               559126                                     2   \n",
       "\n",
       "    \\nTotal numberof incidentsreported  \n",
       "46                                 175  \n",
       "47                                 232  \n",
       "48                                  33  \n",
       "49                                  93  \n",
       "50                                   2  "
      ]
     },
     "execution_count": 94,
     "metadata": {},
     "output_type": "execute_result"
    }
   ],
   "source": [
    "d_2010[1].tail()"
   ]
  },
  {
   "cell_type": "code",
   "execution_count": 95,
   "metadata": {
    "collapsed": true
   },
   "outputs": [],
   "source": [
    "d_2010_clean = d_2010[1]\n",
    "d_2010_clean.columns = ['Participating State', 'Number of Participating Agencies',\n",
    "                        'Population Covered', 'Agencies Submitting Incident Reports',\n",
    "                        'Total Number of Incidents Reported']"
   ]
  },
  {
   "cell_type": "code",
   "execution_count": 96,
   "metadata": {
    "collapsed": true
   },
   "outputs": [],
   "source": [
    "d_2010_clean = d_2010_clean.loc[lambda x: ~x['Participating State'].isin(['Total', 'Guam1', 'U.S. Virgin Islands1', 'Virgin Islands1'])]"
   ]
  },
  {
   "cell_type": "code",
   "execution_count": 97,
   "metadata": {},
   "outputs": [
    {
     "name": "stderr",
     "output_type": "stream",
     "text": [
      "/Users/pbaumgartner/anaconda3/lib/python3.5/site-packages/ipykernel/__main__.py:1: SettingWithCopyWarning: \n",
      "A value is trying to be set on a copy of a slice from a DataFrame.\n",
      "Try using .loc[row_indexer,col_indexer] = value instead\n",
      "\n",
      "See the caveats in the documentation: http://pandas.pydata.org/pandas-docs/stable/indexing.html#indexing-view-versus-copy\n",
      "  if __name__ == '__main__':\n"
     ]
    }
   ],
   "source": [
    "d_2010_clean['date'] = 2010"
   ]
  },
  {
   "cell_type": "code",
   "execution_count": 103,
   "metadata": {
    "scrolled": true
   },
   "outputs": [
    {
     "data": {
      "text/plain": [
       "array(['Alabama', 'Alaska', 'Arizona', 'Arkansas', 'California',\n",
       "       'Colorado', 'Connecticut', 'Delaware', 'District of Columbia',\n",
       "       'Florida', 'Georgia', 'Idaho', 'Illinois', 'Indiana', 'Iowa',\n",
       "       'Kansas', 'Kentucky', 'Louisiana', 'Maine', 'Maryland',\n",
       "       'Massachusetts', 'Michigan', 'Minnesota', 'Mississippi', 'Missouri',\n",
       "       'Montana', 'Nebraska', 'Nevada', 'New Hampshire', 'New Jersey',\n",
       "       'New Mexico', 'New York', 'North Carolina', 'North Dakota', 'Ohio',\n",
       "       'Oklahoma', 'Oregon', 'Pennsylvania', 'Rhode Island',\n",
       "       'South Carolina', 'South Dakota', 'Tennessee', 'Texas', 'Utah',\n",
       "       'Vermont', 'Virginia', 'Washington', 'West Virginia', 'Wisconsin',\n",
       "       'Wyoming'], dtype=object)"
      ]
     },
     "execution_count": 103,
     "metadata": {},
     "output_type": "execute_result"
    }
   ],
   "source": [
    "d_2010_clean['Participating State'].unique()"
   ]
  },
  {
   "cell_type": "markdown",
   "metadata": {},
   "source": [
    "## 2009"
   ]
  },
  {
   "cell_type": "markdown",
   "metadata": {},
   "source": [
    "- Main URL Doesn't work (https://ucr.fbi.gov/hate-crime/2009)\n",
    "- Did some sleuthing -- just replace the 2008 url with the 2009 one"
   ]
  },
  {
   "cell_type": "code",
   "execution_count": 114,
   "metadata": {
    "collapsed": true
   },
   "outputs": [],
   "source": [
    "url_2009 = 'https://www2.fbi.gov/ucr/hc2009/data/table_12.html'"
   ]
  },
  {
   "cell_type": "code",
   "execution_count": 115,
   "metadata": {
    "collapsed": true
   },
   "outputs": [],
   "source": [
    "html_2009 = get_html(url_2009)"
   ]
  },
  {
   "cell_type": "code",
   "execution_count": 116,
   "metadata": {
    "collapsed": true
   },
   "outputs": [],
   "source": [
    "d_2009 = pd.read_html(html_2009)"
   ]
  },
  {
   "cell_type": "code",
   "execution_count": 117,
   "metadata": {},
   "outputs": [
    {
     "data": {
      "text/html": [
       "<div>\n",
       "<table border=\"1\" class=\"dataframe\">\n",
       "  <thead>\n",
       "    <tr style=\"text-align: right;\">\n",
       "      <th></th>\n",
       "      <th>Participating\n",
       "state</th>\n",
       "      <th>Number of\n",
       "participating\n",
       "agencies</th>\n",
       "      <th>Population\n",
       "covered</th>\n",
       "      <th>Agencies\n",
       "submitting incident\n",
       "reports</th>\n",
       "      <th>Total number\n",
       "of incidents\n",
       "reported</th>\n",
       "    </tr>\n",
       "  </thead>\n",
       "  <tbody>\n",
       "    <tr>\n",
       "      <th>0</th>\n",
       "      <td>Total</td>\n",
       "      <td>14422</td>\n",
       "      <td>278948317</td>\n",
       "      <td>2034</td>\n",
       "      <td>6604</td>\n",
       "    </tr>\n",
       "    <tr>\n",
       "      <th>1</th>\n",
       "      <td>Alabama</td>\n",
       "      <td>218</td>\n",
       "      <td>3211336</td>\n",
       "      <td>6</td>\n",
       "      <td>9</td>\n",
       "    </tr>\n",
       "    <tr>\n",
       "      <th>2</th>\n",
       "      <td>Alaska</td>\n",
       "      <td>2</td>\n",
       "      <td>289884</td>\n",
       "      <td>2</td>\n",
       "      <td>9</td>\n",
       "    </tr>\n",
       "    <tr>\n",
       "      <th>3</th>\n",
       "      <td>Arizona</td>\n",
       "      <td>93</td>\n",
       "      <td>6506963</td>\n",
       "      <td>25</td>\n",
       "      <td>219</td>\n",
       "    </tr>\n",
       "    <tr>\n",
       "      <th>4</th>\n",
       "      <td>Arkansas</td>\n",
       "      <td>256</td>\n",
       "      <td>2717288</td>\n",
       "      <td>41</td>\n",
       "      <td>74</td>\n",
       "    </tr>\n",
       "  </tbody>\n",
       "</table>\n",
       "</div>"
      ],
      "text/plain": [
       "  Participating\\nstate  Number of\\nparticipating\\nagencies  \\\n",
       "0                Total                               14422   \n",
       "1              Alabama                                 218   \n",
       "2               Alaska                                   2   \n",
       "3              Arizona                                  93   \n",
       "4             Arkansas                                 256   \n",
       "\n",
       "   Population\\ncovered  Agencies\\nsubmitting incident\\nreports  \\\n",
       "0            278948317                                    2034   \n",
       "1              3211336                                       6   \n",
       "2               289884                                       2   \n",
       "3              6506963                                      25   \n",
       "4              2717288                                      41   \n",
       "\n",
       "   Total number\\nof incidents\\nreported  \n",
       "0                                  6604  \n",
       "1                                     9  \n",
       "2                                     9  \n",
       "3                                   219  \n",
       "4                                    74  "
      ]
     },
     "execution_count": 117,
     "metadata": {},
     "output_type": "execute_result"
    }
   ],
   "source": [
    "d_2009[0].head()"
   ]
  },
  {
   "cell_type": "code",
   "execution_count": 118,
   "metadata": {},
   "outputs": [
    {
     "data": {
      "text/html": [
       "<div>\n",
       "<table border=\"1\" class=\"dataframe\">\n",
       "  <thead>\n",
       "    <tr style=\"text-align: right;\">\n",
       "      <th></th>\n",
       "      <th>Participating\n",
       "state</th>\n",
       "      <th>Number of\n",
       "participating\n",
       "agencies</th>\n",
       "      <th>Population\n",
       "covered</th>\n",
       "      <th>Agencies\n",
       "submitting incident\n",
       "reports</th>\n",
       "      <th>Total number\n",
       "of incidents\n",
       "reported</th>\n",
       "    </tr>\n",
       "  </thead>\n",
       "  <tbody>\n",
       "    <tr>\n",
       "      <th>46</th>\n",
       "      <td>Virginia</td>\n",
       "      <td>413</td>\n",
       "      <td>7882590</td>\n",
       "      <td>67</td>\n",
       "      <td>150</td>\n",
       "    </tr>\n",
       "    <tr>\n",
       "      <th>47</th>\n",
       "      <td>Washington</td>\n",
       "      <td>250</td>\n",
       "      <td>6651663</td>\n",
       "      <td>52</td>\n",
       "      <td>208</td>\n",
       "    </tr>\n",
       "    <tr>\n",
       "      <th>48</th>\n",
       "      <td>West Virginia</td>\n",
       "      <td>291</td>\n",
       "      <td>1674227</td>\n",
       "      <td>17</td>\n",
       "      <td>24</td>\n",
       "    </tr>\n",
       "    <tr>\n",
       "      <th>49</th>\n",
       "      <td>Wisconsin</td>\n",
       "      <td>391</td>\n",
       "      <td>5650571</td>\n",
       "      <td>21</td>\n",
       "      <td>54</td>\n",
       "    </tr>\n",
       "    <tr>\n",
       "      <th>50</th>\n",
       "      <td>Wyoming</td>\n",
       "      <td>63</td>\n",
       "      <td>539500</td>\n",
       "      <td>4</td>\n",
       "      <td>8</td>\n",
       "    </tr>\n",
       "  </tbody>\n",
       "</table>\n",
       "</div>"
      ],
      "text/plain": [
       "   Participating\\nstate  Number of\\nparticipating\\nagencies  \\\n",
       "46             Virginia                                 413   \n",
       "47           Washington                                 250   \n",
       "48        West Virginia                                 291   \n",
       "49            Wisconsin                                 391   \n",
       "50              Wyoming                                  63   \n",
       "\n",
       "    Population\\ncovered  Agencies\\nsubmitting incident\\nreports  \\\n",
       "46              7882590                                      67   \n",
       "47              6651663                                      52   \n",
       "48              1674227                                      17   \n",
       "49              5650571                                      21   \n",
       "50               539500                                       4   \n",
       "\n",
       "    Total number\\nof incidents\\nreported  \n",
       "46                                   150  \n",
       "47                                   208  \n",
       "48                                    24  \n",
       "49                                    54  \n",
       "50                                     8  "
      ]
     },
     "execution_count": 118,
     "metadata": {},
     "output_type": "execute_result"
    }
   ],
   "source": [
    "d_2009[0].tail()"
   ]
  },
  {
   "cell_type": "code",
   "execution_count": 120,
   "metadata": {
    "collapsed": true
   },
   "outputs": [],
   "source": [
    "d_2009_clean = d_2009[0]\n",
    "d_2009_clean.columns = ['Participating State', 'Number of Participating Agencies',\n",
    "                        'Population Covered', 'Agencies Submitting Incident Reports',\n",
    "                        'Total Number of Incidents Reported']"
   ]
  },
  {
   "cell_type": "code",
   "execution_count": 121,
   "metadata": {
    "collapsed": true
   },
   "outputs": [],
   "source": [
    "d_2009_clean = d_2009_clean.loc[lambda x: ~x['Participating State'].isin(['Total', 'Guam1', 'U.S. Virgin Islands1', 'Virgin Islands1'])]"
   ]
  },
  {
   "cell_type": "code",
   "execution_count": 122,
   "metadata": {},
   "outputs": [
    {
     "name": "stderr",
     "output_type": "stream",
     "text": [
      "/Users/pbaumgartner/anaconda3/lib/python3.5/site-packages/ipykernel/__main__.py:1: SettingWithCopyWarning: \n",
      "A value is trying to be set on a copy of a slice from a DataFrame.\n",
      "Try using .loc[row_indexer,col_indexer] = value instead\n",
      "\n",
      "See the caveats in the documentation: http://pandas.pydata.org/pandas-docs/stable/indexing.html#indexing-view-versus-copy\n",
      "  if __name__ == '__main__':\n"
     ]
    }
   ],
   "source": [
    "d_2009_clean['date'] = 2009"
   ]
  },
  {
   "cell_type": "code",
   "execution_count": 123,
   "metadata": {
    "scrolled": true
   },
   "outputs": [
    {
     "data": {
      "text/plain": [
       "array(['Alabama', 'Alaska', 'Arizona', 'Arkansas', 'California',\n",
       "       'Colorado', 'Connecticut', 'Delaware', 'District of Columbia',\n",
       "       'Florida', 'Georgia', 'Idaho', 'Illinois', 'Indiana', 'Iowa',\n",
       "       'Kansas', 'Kentucky', 'Louisiana', 'Maine', 'Maryland',\n",
       "       'Massachusetts', 'Michigan', 'Minnesota', 'Mississippi', 'Missouri',\n",
       "       'Montana', 'Nebraska', 'Nevada', 'New Hampshire', 'New Jersey',\n",
       "       'New Mexico', 'New York', 'North Carolina', 'North Dakota', 'Ohio',\n",
       "       'Oklahoma', 'Oregon', 'Pennsylvania', 'Rhode Island',\n",
       "       'South Carolina', 'South Dakota', 'Tennessee', 'Texas', 'Utah',\n",
       "       'Vermont', 'Virginia', 'Washington', 'West Virginia', 'Wisconsin',\n",
       "       'Wyoming'], dtype=object)"
      ]
     },
     "execution_count": 123,
     "metadata": {},
     "output_type": "execute_result"
    }
   ],
   "source": [
    "d_2009_clean['Participating State'].unique()"
   ]
  },
  {
   "cell_type": "markdown",
   "metadata": {},
   "source": [
    "## 2008"
   ]
  },
  {
   "cell_type": "code",
   "execution_count": 151,
   "metadata": {
    "collapsed": true
   },
   "outputs": [],
   "source": [
    "url_2008 = 'https://www2.fbi.gov/ucr/hc2008/data/table_12.html'"
   ]
  },
  {
   "cell_type": "code",
   "execution_count": 152,
   "metadata": {
    "collapsed": true
   },
   "outputs": [],
   "source": [
    "html_2008 = get_html(url_2008)"
   ]
  },
  {
   "cell_type": "code",
   "execution_count": 153,
   "metadata": {
    "collapsed": true
   },
   "outputs": [],
   "source": [
    "d_2008 = pd.read_html(html_2008)"
   ]
  },
  {
   "cell_type": "code",
   "execution_count": 154,
   "metadata": {},
   "outputs": [
    {
     "data": {
      "text/html": [
       "<div>\n",
       "<table border=\"1\" class=\"dataframe\">\n",
       "  <thead>\n",
       "    <tr style=\"text-align: right;\">\n",
       "      <th></th>\n",
       "      <th>Participating state</th>\n",
       "      <th>Number of \n",
       "participating \n",
       "agencies</th>\n",
       "      <th>Population\n",
       "covered</th>\n",
       "      <th>Agencies\n",
       "submitting incident\n",
       "reports</th>\n",
       "      <th>Total number\n",
       "of incidents\n",
       "reported</th>\n",
       "    </tr>\n",
       "  </thead>\n",
       "  <tbody>\n",
       "    <tr>\n",
       "      <th>0</th>\n",
       "      <td>Total</td>\n",
       "      <td>13690</td>\n",
       "      <td>269382053</td>\n",
       "      <td>2145</td>\n",
       "      <td>7783</td>\n",
       "    </tr>\n",
       "    <tr>\n",
       "      <th>1</th>\n",
       "      <td>Alabama</td>\n",
       "      <td>163</td>\n",
       "      <td>2802524</td>\n",
       "      <td>5</td>\n",
       "      <td>11</td>\n",
       "    </tr>\n",
       "    <tr>\n",
       "      <th>2</th>\n",
       "      <td>Alaska</td>\n",
       "      <td>2</td>\n",
       "      <td>286625</td>\n",
       "      <td>2</td>\n",
       "      <td>8</td>\n",
       "    </tr>\n",
       "    <tr>\n",
       "      <th>3</th>\n",
       "      <td>Arizona</td>\n",
       "      <td>89</td>\n",
       "      <td>6438728</td>\n",
       "      <td>26</td>\n",
       "      <td>185</td>\n",
       "    </tr>\n",
       "    <tr>\n",
       "      <th>4</th>\n",
       "      <td>Arkansas</td>\n",
       "      <td>260</td>\n",
       "      <td>2767575</td>\n",
       "      <td>36</td>\n",
       "      <td>91</td>\n",
       "    </tr>\n",
       "  </tbody>\n",
       "</table>\n",
       "</div>"
      ],
      "text/plain": [
       "  Participating state  Number of \\nparticipating \\nagencies  \\\n",
       "0               Total                                 13690   \n",
       "1             Alabama                                   163   \n",
       "2              Alaska                                     2   \n",
       "3             Arizona                                    89   \n",
       "4            Arkansas                                   260   \n",
       "\n",
       "   Population\\ncovered  Agencies\\nsubmitting incident\\nreports  \\\n",
       "0            269382053                                    2145   \n",
       "1              2802524                                       5   \n",
       "2               286625                                       2   \n",
       "3              6438728                                      26   \n",
       "4              2767575                                      36   \n",
       "\n",
       "   Total number\\nof incidents\\nreported  \n",
       "0                                  7783  \n",
       "1                                    11  \n",
       "2                                     8  \n",
       "3                                   185  \n",
       "4                                    91  "
      ]
     },
     "execution_count": 154,
     "metadata": {},
     "output_type": "execute_result"
    }
   ],
   "source": [
    "d_2008[0].head()"
   ]
  },
  {
   "cell_type": "code",
   "execution_count": 155,
   "metadata": {},
   "outputs": [
    {
     "data": {
      "text/html": [
       "<div>\n",
       "<table border=\"1\" class=\"dataframe\">\n",
       "  <thead>\n",
       "    <tr style=\"text-align: right;\">\n",
       "      <th></th>\n",
       "      <th>Participating state</th>\n",
       "      <th>Number of \n",
       "participating \n",
       "agencies</th>\n",
       "      <th>Population\n",
       "covered</th>\n",
       "      <th>Agencies\n",
       "submitting incident\n",
       "reports</th>\n",
       "      <th>Total number\n",
       "of incidents\n",
       "reported</th>\n",
       "    </tr>\n",
       "  </thead>\n",
       "  <tbody>\n",
       "    <tr>\n",
       "      <th>46</th>\n",
       "      <td>Virginia</td>\n",
       "      <td>407</td>\n",
       "      <td>7767843</td>\n",
       "      <td>75</td>\n",
       "      <td>263</td>\n",
       "    </tr>\n",
       "    <tr>\n",
       "      <th>47</th>\n",
       "      <td>Washington</td>\n",
       "      <td>251</td>\n",
       "      <td>6538142</td>\n",
       "      <td>61</td>\n",
       "      <td>239</td>\n",
       "    </tr>\n",
       "    <tr>\n",
       "      <th>48</th>\n",
       "      <td>West Virginia</td>\n",
       "      <td>294</td>\n",
       "      <td>1636800</td>\n",
       "      <td>23</td>\n",
       "      <td>43</td>\n",
       "    </tr>\n",
       "    <tr>\n",
       "      <th>49</th>\n",
       "      <td>Wisconsin</td>\n",
       "      <td>379</td>\n",
       "      <td>5627967</td>\n",
       "      <td>29</td>\n",
       "      <td>92</td>\n",
       "    </tr>\n",
       "    <tr>\n",
       "      <th>50</th>\n",
       "      <td>Wyoming</td>\n",
       "      <td>62</td>\n",
       "      <td>528009</td>\n",
       "      <td>6</td>\n",
       "      <td>6</td>\n",
       "    </tr>\n",
       "  </tbody>\n",
       "</table>\n",
       "</div>"
      ],
      "text/plain": [
       "   Participating state  Number of \\nparticipating \\nagencies  \\\n",
       "46            Virginia                                   407   \n",
       "47          Washington                                   251   \n",
       "48       West Virginia                                   294   \n",
       "49           Wisconsin                                   379   \n",
       "50             Wyoming                                    62   \n",
       "\n",
       "    Population\\ncovered  Agencies\\nsubmitting incident\\nreports  \\\n",
       "46              7767843                                      75   \n",
       "47              6538142                                      61   \n",
       "48              1636800                                      23   \n",
       "49              5627967                                      29   \n",
       "50               528009                                       6   \n",
       "\n",
       "    Total number\\nof incidents\\nreported  \n",
       "46                                   263  \n",
       "47                                   239  \n",
       "48                                    43  \n",
       "49                                    92  \n",
       "50                                     6  "
      ]
     },
     "execution_count": 155,
     "metadata": {},
     "output_type": "execute_result"
    }
   ],
   "source": [
    "d_2008[0].tail()"
   ]
  },
  {
   "cell_type": "code",
   "execution_count": 156,
   "metadata": {
    "collapsed": true
   },
   "outputs": [],
   "source": [
    "d_2008_clean = d_2008[0]\n",
    "d_2008_clean.columns = ['Participating State', 'Number of Participating Agencies',\n",
    "                        'Population Covered', 'Agencies Submitting Incident Reports',\n",
    "                        'Total Number of Incidents Reported']"
   ]
  },
  {
   "cell_type": "code",
   "execution_count": 157,
   "metadata": {
    "collapsed": true
   },
   "outputs": [],
   "source": [
    "d_2008_clean = d_2008_clean.loc[lambda x: ~x['Participating State'].isin(['Total', 'Guam1', 'U.S. Virgin Islands1', 'Virgin Islands1'])]"
   ]
  },
  {
   "cell_type": "code",
   "execution_count": 158,
   "metadata": {},
   "outputs": [
    {
     "name": "stderr",
     "output_type": "stream",
     "text": [
      "/Users/pbaumgartner/anaconda3/lib/python3.5/site-packages/ipykernel/__main__.py:1: SettingWithCopyWarning: \n",
      "A value is trying to be set on a copy of a slice from a DataFrame.\n",
      "Try using .loc[row_indexer,col_indexer] = value instead\n",
      "\n",
      "See the caveats in the documentation: http://pandas.pydata.org/pandas-docs/stable/indexing.html#indexing-view-versus-copy\n",
      "  if __name__ == '__main__':\n"
     ]
    }
   ],
   "source": [
    "d_2008_clean['date'] = 2008"
   ]
  },
  {
   "cell_type": "code",
   "execution_count": 159,
   "metadata": {
    "scrolled": true
   },
   "outputs": [
    {
     "data": {
      "text/plain": [
       "array(['Alabama', 'Alaska', 'Arizona', 'Arkansas', 'California',\n",
       "       'Colorado', 'Connecticut', 'Delaware', 'District of Columbia',\n",
       "       'Florida', 'Georgia', 'Idaho', 'Illinois', 'Indiana', 'Iowa',\n",
       "       'Kansas', 'Kentucky', 'Louisiana', 'Maine', 'Maryland',\n",
       "       'Massachusetts', 'Michigan', 'Minnesota', 'Mississippi', 'Missouri',\n",
       "       'Montana', 'Nebraska', 'Nevada', 'New Hampshire', 'New Jersey',\n",
       "       'New Mexico', 'New York', 'North Carolina', 'North Dakota', 'Ohio',\n",
       "       'Oklahoma', 'Oregon', 'Pennsylvania', 'Rhode Island',\n",
       "       'South Carolina', 'South Dakota', 'Tennessee', 'Texas', 'Utah',\n",
       "       'Vermont', 'Virginia', 'Washington', 'West Virginia', 'Wisconsin',\n",
       "       'Wyoming'], dtype=object)"
      ]
     },
     "execution_count": 159,
     "metadata": {},
     "output_type": "execute_result"
    }
   ],
   "source": [
    "d_2008_clean['Participating State'].unique()"
   ]
  },
  {
   "cell_type": "markdown",
   "metadata": {},
   "source": [
    "## 2007"
   ]
  },
  {
   "cell_type": "markdown",
   "metadata": {},
   "source": [
    "- The HTML for 2007 is inconsistent\n",
    "- Download XLS file and read in instead"
   ]
  },
  {
   "cell_type": "code",
   "execution_count": 190,
   "metadata": {
    "collapsed": true
   },
   "outputs": [],
   "source": [
    "url_2007 = '../supplemental_data/table12_2007.xls'"
   ]
  },
  {
   "cell_type": "code",
   "execution_count": 191,
   "metadata": {
    "collapsed": true
   },
   "outputs": [],
   "source": [
    "d_2007 = pd.read_excel(url_2007, header=2)"
   ]
  },
  {
   "cell_type": "code",
   "execution_count": 192,
   "metadata": {},
   "outputs": [
    {
     "data": {
      "text/html": [
       "<div>\n",
       "<table border=\"1\" class=\"dataframe\">\n",
       "  <thead>\n",
       "    <tr style=\"text-align: right;\">\n",
       "      <th></th>\n",
       "      <th>Participating state</th>\n",
       "      <th>Number of\n",
       "participating\n",
       "agencies</th>\n",
       "      <th>Population\n",
       "covered</th>\n",
       "      <th>Agencies\n",
       "submitting incident\n",
       "reports</th>\n",
       "      <th>Total number\n",
       "of incidents\n",
       "reported</th>\n",
       "    </tr>\n",
       "  </thead>\n",
       "  <tbody>\n",
       "    <tr>\n",
       "      <th>0</th>\n",
       "      <td>Total</td>\n",
       "      <td>13241</td>\n",
       "      <td>260229972</td>\n",
       "      <td>2025</td>\n",
       "      <td>7624</td>\n",
       "    </tr>\n",
       "    <tr>\n",
       "      <th>1</th>\n",
       "      <td>Alabama</td>\n",
       "      <td>156</td>\n",
       "      <td>2388398</td>\n",
       "      <td>5</td>\n",
       "      <td>6</td>\n",
       "    </tr>\n",
       "    <tr>\n",
       "      <th>2</th>\n",
       "      <td>Alaska</td>\n",
       "      <td>1</td>\n",
       "      <td>284142</td>\n",
       "      <td>1</td>\n",
       "      <td>8</td>\n",
       "    </tr>\n",
       "    <tr>\n",
       "      <th>3</th>\n",
       "      <td>Arizona</td>\n",
       "      <td>78</td>\n",
       "      <td>5754940</td>\n",
       "      <td>26</td>\n",
       "      <td>161</td>\n",
       "    </tr>\n",
       "    <tr>\n",
       "      <th>4</th>\n",
       "      <td>Arkansas</td>\n",
       "      <td>265</td>\n",
       "      <td>2765195</td>\n",
       "      <td>27</td>\n",
       "      <td>33</td>\n",
       "    </tr>\n",
       "  </tbody>\n",
       "</table>\n",
       "</div>"
      ],
      "text/plain": [
       "  Participating state  Number of\\nparticipating\\nagencies  \\\n",
       "0               Total                               13241   \n",
       "1             Alabama                                 156   \n",
       "2              Alaska                                   1   \n",
       "3             Arizona                                  78   \n",
       "4            Arkansas                                 265   \n",
       "\n",
       "   Population\\ncovered  Agencies\\nsubmitting incident\\nreports  \\\n",
       "0            260229972                                    2025   \n",
       "1              2388398                                       5   \n",
       "2               284142                                       1   \n",
       "3              5754940                                      26   \n",
       "4              2765195                                      27   \n",
       "\n",
       "   Total number\\nof incidents\\nreported  \n",
       "0                                  7624  \n",
       "1                                     6  \n",
       "2                                     8  \n",
       "3                                   161  \n",
       "4                                    33  "
      ]
     },
     "execution_count": 192,
     "metadata": {},
     "output_type": "execute_result"
    }
   ],
   "source": [
    "d_2007.head()"
   ]
  },
  {
   "cell_type": "code",
   "execution_count": 145,
   "metadata": {},
   "outputs": [
    {
     "data": {
      "text/html": [
       "<div>\n",
       "<table border=\"1\" class=\"dataframe\">\n",
       "  <thead>\n",
       "    <tr style=\"text-align: right;\">\n",
       "      <th></th>\n",
       "      <th>Participating state</th>\n",
       "      <th>Number of\n",
       "participating\n",
       "agencies</th>\n",
       "      <th>Population\n",
       "covered</th>\n",
       "      <th>Agencies\n",
       "submitting incident\n",
       "reports</th>\n",
       "      <th>Total number\n",
       "of incidents\n",
       "reported</th>\n",
       "    </tr>\n",
       "  </thead>\n",
       "  <tbody>\n",
       "    <tr>\n",
       "      <th>46</th>\n",
       "      <td>Virginia</td>\n",
       "      <td>408</td>\n",
       "      <td>7710349</td>\n",
       "      <td>83</td>\n",
       "      <td>323</td>\n",
       "    </tr>\n",
       "    <tr>\n",
       "      <th>47</th>\n",
       "      <td>Washington</td>\n",
       "      <td>244</td>\n",
       "      <td>6437315</td>\n",
       "      <td>54</td>\n",
       "      <td>195</td>\n",
       "    </tr>\n",
       "    <tr>\n",
       "      <th>48</th>\n",
       "      <td>West Virginia</td>\n",
       "      <td>338</td>\n",
       "      <td>1686872</td>\n",
       "      <td>21</td>\n",
       "      <td>44</td>\n",
       "    </tr>\n",
       "    <tr>\n",
       "      <th>49</th>\n",
       "      <td>Wisconsin</td>\n",
       "      <td>374</td>\n",
       "      <td>5599350</td>\n",
       "      <td>21</td>\n",
       "      <td>69</td>\n",
       "    </tr>\n",
       "    <tr>\n",
       "      <th>50</th>\n",
       "      <td>Wyoming</td>\n",
       "      <td>62</td>\n",
       "      <td>516189</td>\n",
       "      <td>7</td>\n",
       "      <td>21</td>\n",
       "    </tr>\n",
       "  </tbody>\n",
       "</table>\n",
       "</div>"
      ],
      "text/plain": [
       "   Participating state  Number of\\nparticipating\\nagencies  \\\n",
       "46            Virginia                                 408   \n",
       "47          Washington                                 244   \n",
       "48       West Virginia                                 338   \n",
       "49           Wisconsin                                 374   \n",
       "50             Wyoming                                  62   \n",
       "\n",
       "    Population\\ncovered  Agencies\\nsubmitting incident\\nreports  \\\n",
       "46              7710349                                      83   \n",
       "47              6437315                                      54   \n",
       "48              1686872                                      21   \n",
       "49              5599350                                      21   \n",
       "50               516189                                       7   \n",
       "\n",
       "    Total number\\nof incidents\\nreported  \n",
       "46                                   323  \n",
       "47                                   195  \n",
       "48                                    44  \n",
       "49                                    69  \n",
       "50                                    21  "
      ]
     },
     "execution_count": 145,
     "metadata": {},
     "output_type": "execute_result"
    }
   ],
   "source": [
    "d_2007.tail()"
   ]
  },
  {
   "cell_type": "code",
   "execution_count": 146,
   "metadata": {
    "collapsed": true
   },
   "outputs": [],
   "source": [
    "d_2007_clean = d_2007.copy()\n",
    "d_2007_clean.columns = ['Participating State', 'Number of Participating Agencies',\n",
    "                        'Population Covered', 'Agencies Submitting Incident Reports',\n",
    "                        'Total Number of Incidents Reported']"
   ]
  },
  {
   "cell_type": "code",
   "execution_count": 147,
   "metadata": {
    "collapsed": true
   },
   "outputs": [],
   "source": [
    "d_2007_clean = d_2007_clean.loc[lambda x: ~x['Participating State'].isin(['Total', 'Guam1', 'U.S. Virgin Islands1', 'Virgin Islands1'])]"
   ]
  },
  {
   "cell_type": "code",
   "execution_count": 148,
   "metadata": {
    "collapsed": true
   },
   "outputs": [],
   "source": [
    "d_2007_clean['date'] = 2007"
   ]
  },
  {
   "cell_type": "code",
   "execution_count": 161,
   "metadata": {
    "scrolled": false
   },
   "outputs": [
    {
     "data": {
      "text/plain": [
       "array(['Alabama', 'Alaska', 'Arizona', 'Arkansas', 'California',\n",
       "       'Colorado', 'Connecticut', 'Delaware', 'District of Columbia',\n",
       "       'Florida', 'Georgia', 'Idaho', 'Illinois', 'Indiana', 'Iowa',\n",
       "       'Kansas', 'Kentucky', 'Louisiana', 'Maine', 'Maryland',\n",
       "       'Massachusetts', 'Michigan', 'Minnesota', 'Mississippi', 'Missouri',\n",
       "       'Montana', 'Nebraska', 'Nevada', 'New Hampshire', 'New Jersey',\n",
       "       'New Mexico', 'New York', 'North Carolina', 'North Dakota', 'Ohio',\n",
       "       'Oklahoma', 'Oregon', 'Pennsylvania', 'Rhode Island',\n",
       "       'South Carolina', 'South Dakota', 'Tennessee', 'Texas', 'Utah',\n",
       "       'Vermont', 'Virginia', 'Washington', 'West Virginia', 'Wisconsin',\n",
       "       'Wyoming'], dtype=object)"
      ]
     },
     "execution_count": 161,
     "metadata": {},
     "output_type": "execute_result"
    }
   ],
   "source": [
    "d_2007_clean['Participating State'].unique()"
   ]
  },
  {
   "cell_type": "markdown",
   "metadata": {},
   "source": [
    "## 2006"
   ]
  },
  {
   "cell_type": "code",
   "execution_count": null,
   "metadata": {
    "collapsed": true
   },
   "outputs": [],
   "source": []
  },
  {
   "cell_type": "code",
   "execution_count": 170,
   "metadata": {
    "collapsed": true
   },
   "outputs": [],
   "source": [
    "url_2006 = 'https://www2.fbi.gov/ucr/hc2006/table12.html'"
   ]
  },
  {
   "cell_type": "code",
   "execution_count": 171,
   "metadata": {
    "collapsed": true
   },
   "outputs": [],
   "source": [
    "html_2006 = get_html(url_2006)"
   ]
  },
  {
   "cell_type": "code",
   "execution_count": 172,
   "metadata": {
    "collapsed": true
   },
   "outputs": [],
   "source": [
    "d_2006 = pd.read_html(html_2006, header=0)"
   ]
  },
  {
   "cell_type": "code",
   "execution_count": 173,
   "metadata": {},
   "outputs": [
    {
     "data": {
      "text/html": [
       "<div>\n",
       "<table border=\"1\" class=\"dataframe\">\n",
       "  <thead>\n",
       "    <tr style=\"text-align: right;\">\n",
       "      <th></th>\n",
       "      <th>Participating state</th>\n",
       "      <th>Number of participating agencies</th>\n",
       "      <th>Population covered</th>\n",
       "      <th>Agencies submitting incident reports</th>\n",
       "      <th>Total number of incidents reported</th>\n",
       "    </tr>\n",
       "  </thead>\n",
       "  <tbody>\n",
       "    <tr>\n",
       "      <th>0</th>\n",
       "      <td>Total</td>\n",
       "      <td>12620</td>\n",
       "      <td>255086543</td>\n",
       "      <td>2105</td>\n",
       "      <td>7722</td>\n",
       "    </tr>\n",
       "    <tr>\n",
       "      <th>1</th>\n",
       "      <td>Alabama</td>\n",
       "      <td>42</td>\n",
       "      <td>693540</td>\n",
       "      <td>1</td>\n",
       "      <td>1</td>\n",
       "    </tr>\n",
       "    <tr>\n",
       "      <th>2</th>\n",
       "      <td>Alaska</td>\n",
       "      <td>2</td>\n",
       "      <td>284014</td>\n",
       "      <td>1</td>\n",
       "      <td>6</td>\n",
       "    </tr>\n",
       "    <tr>\n",
       "      <th>3</th>\n",
       "      <td>Arizona</td>\n",
       "      <td>80</td>\n",
       "      <td>5889288</td>\n",
       "      <td>24</td>\n",
       "      <td>149</td>\n",
       "    </tr>\n",
       "    <tr>\n",
       "      <th>4</th>\n",
       "      <td>Arkansas</td>\n",
       "      <td>257</td>\n",
       "      <td>2739473</td>\n",
       "      <td>42</td>\n",
       "      <td>113</td>\n",
       "    </tr>\n",
       "  </tbody>\n",
       "</table>\n",
       "</div>"
      ],
      "text/plain": [
       "  Participating state  Number of participating agencies  Population covered  \\\n",
       "0               Total                             12620           255086543   \n",
       "1             Alabama                                42              693540   \n",
       "2              Alaska                                 2              284014   \n",
       "3             Arizona                                80             5889288   \n",
       "4            Arkansas                               257             2739473   \n",
       "\n",
       "   Agencies submitting incident reports  Total number of incidents reported  \n",
       "0                                  2105                                7722  \n",
       "1                                     1                                   1  \n",
       "2                                     1                                   6  \n",
       "3                                    24                                 149  \n",
       "4                                    42                                 113  "
      ]
     },
     "execution_count": 173,
     "metadata": {},
     "output_type": "execute_result"
    }
   ],
   "source": [
    "d_2006[0].head()"
   ]
  },
  {
   "cell_type": "code",
   "execution_count": 174,
   "metadata": {},
   "outputs": [
    {
     "data": {
      "text/html": [
       "<div>\n",
       "<table border=\"1\" class=\"dataframe\">\n",
       "  <thead>\n",
       "    <tr style=\"text-align: right;\">\n",
       "      <th></th>\n",
       "      <th>Participating state</th>\n",
       "      <th>Number of participating agencies</th>\n",
       "      <th>Population covered</th>\n",
       "      <th>Agencies submitting incident reports</th>\n",
       "      <th>Total number of incidents reported</th>\n",
       "    </tr>\n",
       "  </thead>\n",
       "  <tbody>\n",
       "    <tr>\n",
       "      <th>46</th>\n",
       "      <td>Virginia</td>\n",
       "      <td>399</td>\n",
       "      <td>7621121</td>\n",
       "      <td>91</td>\n",
       "      <td>341</td>\n",
       "    </tr>\n",
       "    <tr>\n",
       "      <th>47</th>\n",
       "      <td>Washington</td>\n",
       "      <td>253</td>\n",
       "      <td>6393124</td>\n",
       "      <td>56</td>\n",
       "      <td>177</td>\n",
       "    </tr>\n",
       "    <tr>\n",
       "      <th>48</th>\n",
       "      <td>West Virginia</td>\n",
       "      <td>340</td>\n",
       "      <td>1707846</td>\n",
       "      <td>18</td>\n",
       "      <td>34</td>\n",
       "    </tr>\n",
       "    <tr>\n",
       "      <th>49</th>\n",
       "      <td>Wisconsin</td>\n",
       "      <td>371</td>\n",
       "      <td>5556506</td>\n",
       "      <td>25</td>\n",
       "      <td>84</td>\n",
       "    </tr>\n",
       "    <tr>\n",
       "      <th>50</th>\n",
       "      <td>Wyoming</td>\n",
       "      <td>62</td>\n",
       "      <td>503327</td>\n",
       "      <td>4</td>\n",
       "      <td>5</td>\n",
       "    </tr>\n",
       "  </tbody>\n",
       "</table>\n",
       "</div>"
      ],
      "text/plain": [
       "   Participating state  Number of participating agencies  Population covered  \\\n",
       "46            Virginia                               399             7621121   \n",
       "47          Washington                               253             6393124   \n",
       "48       West Virginia                               340             1707846   \n",
       "49           Wisconsin                               371             5556506   \n",
       "50             Wyoming                                62              503327   \n",
       "\n",
       "    Agencies submitting incident reports  Total number of incidents reported  \n",
       "46                                    91                                 341  \n",
       "47                                    56                                 177  \n",
       "48                                    18                                  34  \n",
       "49                                    25                                  84  \n",
       "50                                     4                                   5  "
      ]
     },
     "execution_count": 174,
     "metadata": {},
     "output_type": "execute_result"
    }
   ],
   "source": [
    "d_2006[0].tail()"
   ]
  },
  {
   "cell_type": "code",
   "execution_count": 175,
   "metadata": {
    "collapsed": true
   },
   "outputs": [],
   "source": [
    "d_2006_clean = d_2006[0]\n",
    "d_2006_clean.columns = ['Participating State', 'Number of Participating Agencies',\n",
    "                        'Population Covered', 'Agencies Submitting Incident Reports',\n",
    "                        'Total Number of Incidents Reported']"
   ]
  },
  {
   "cell_type": "code",
   "execution_count": 176,
   "metadata": {
    "collapsed": true
   },
   "outputs": [],
   "source": [
    "d_2006_clean = d_2006_clean.loc[lambda x: ~x['Participating State'].isin(['Total', 'Guam1', 'U.S. Virgin Islands1', 'Virgin Islands1'])]"
   ]
  },
  {
   "cell_type": "code",
   "execution_count": 177,
   "metadata": {},
   "outputs": [
    {
     "name": "stderr",
     "output_type": "stream",
     "text": [
      "/Users/pbaumgartner/anaconda3/lib/python3.5/site-packages/ipykernel/__main__.py:1: SettingWithCopyWarning: \n",
      "A value is trying to be set on a copy of a slice from a DataFrame.\n",
      "Try using .loc[row_indexer,col_indexer] = value instead\n",
      "\n",
      "See the caveats in the documentation: http://pandas.pydata.org/pandas-docs/stable/indexing.html#indexing-view-versus-copy\n",
      "  if __name__ == '__main__':\n"
     ]
    }
   ],
   "source": [
    "d_2006_clean['date'] = 2006"
   ]
  },
  {
   "cell_type": "code",
   "execution_count": 178,
   "metadata": {
    "scrolled": true
   },
   "outputs": [
    {
     "data": {
      "text/plain": [
       "array(['Alabama', 'Alaska', 'Arizona', 'Arkansas', 'California',\n",
       "       'Colorado', 'Connecticut', 'Delaware', 'District of Columbia',\n",
       "       'Florida', 'Georgia', 'Idaho', 'Illinois', 'Indiana', 'Iowa',\n",
       "       'Kansas', 'Kentucky', 'Louisiana', 'Maine', 'Maryland',\n",
       "       'Massachusetts', 'Michigan', 'Minnesota', 'Mississippi', 'Missouri',\n",
       "       'Montana', 'Nebraska', 'Nevada', 'New Hampshire', 'New Jersey',\n",
       "       'New Mexico', 'New York', 'North Carolina', 'North Dakota', 'Ohio',\n",
       "       'Oklahoma', 'Oregon', 'Pennsylvania', 'Rhode Island',\n",
       "       'South Carolina', 'South Dakota', 'Tennessee', 'Texas', 'Utah',\n",
       "       'Vermont', 'Virginia', 'Washington', 'West Virginia', 'Wisconsin',\n",
       "       'Wyoming'], dtype=object)"
      ]
     },
     "execution_count": 178,
     "metadata": {},
     "output_type": "execute_result"
    }
   ],
   "source": [
    "d_2006_clean['Participating State'].unique()"
   ]
  },
  {
   "cell_type": "markdown",
   "metadata": {},
   "source": [
    "## 2005"
   ]
  },
  {
   "cell_type": "code",
   "execution_count": null,
   "metadata": {
    "collapsed": true
   },
   "outputs": [],
   "source": []
  },
  {
   "cell_type": "code",
   "execution_count": 179,
   "metadata": {
    "collapsed": true
   },
   "outputs": [],
   "source": [
    "url_2005 = 'https://www2.fbi.gov/ucr/hc2005/table12.htm'"
   ]
  },
  {
   "cell_type": "code",
   "execution_count": 180,
   "metadata": {
    "collapsed": true
   },
   "outputs": [],
   "source": [
    "html_2005 = get_html(url_2005)"
   ]
  },
  {
   "cell_type": "code",
   "execution_count": 183,
   "metadata": {
    "collapsed": true
   },
   "outputs": [],
   "source": [
    "d_2005 = pd.read_html(html_2005, header=0)"
   ]
  },
  {
   "cell_type": "code",
   "execution_count": 184,
   "metadata": {},
   "outputs": [
    {
     "data": {
      "text/html": [
       "<div>\n",
       "<table border=\"1\" class=\"dataframe\">\n",
       "  <thead>\n",
       "    <tr style=\"text-align: right;\">\n",
       "      <th></th>\n",
       "      <th>Participating state</th>\n",
       "      <th>Number of  participating  agencies</th>\n",
       "      <th>Population  covered</th>\n",
       "      <th>Agencies  submitting incident  reports</th>\n",
       "      <th>Total number  of incidents  reported</th>\n",
       "    </tr>\n",
       "  </thead>\n",
       "  <tbody>\n",
       "    <tr>\n",
       "      <th>0</th>\n",
       "      <td>Total</td>\n",
       "      <td>12417</td>\n",
       "      <td>245006413</td>\n",
       "      <td>2037</td>\n",
       "      <td>7163</td>\n",
       "    </tr>\n",
       "    <tr>\n",
       "      <th>1</th>\n",
       "      <td>Alabama</td>\n",
       "      <td>32</td>\n",
       "      <td>455247</td>\n",
       "      <td>0</td>\n",
       "      <td>0</td>\n",
       "    </tr>\n",
       "    <tr>\n",
       "      <th>2</th>\n",
       "      <td>Alaska</td>\n",
       "      <td>1</td>\n",
       "      <td>276109</td>\n",
       "      <td>1</td>\n",
       "      <td>4</td>\n",
       "    </tr>\n",
       "    <tr>\n",
       "      <th>3</th>\n",
       "      <td>Arizona</td>\n",
       "      <td>78</td>\n",
       "      <td>4202942</td>\n",
       "      <td>26</td>\n",
       "      <td>138</td>\n",
       "    </tr>\n",
       "    <tr>\n",
       "      <th>4</th>\n",
       "      <td>Arkansas</td>\n",
       "      <td>205</td>\n",
       "      <td>1703545</td>\n",
       "      <td>66</td>\n",
       "      <td>134</td>\n",
       "    </tr>\n",
       "  </tbody>\n",
       "</table>\n",
       "</div>"
      ],
      "text/plain": [
       "  Participating state  Number of  participating  agencies  \\\n",
       "0               Total                               12417   \n",
       "1             Alabama                                  32   \n",
       "2              Alaska                                   1   \n",
       "3             Arizona                                  78   \n",
       "4            Arkansas                                 205   \n",
       "\n",
       "   Population  covered  Agencies  submitting incident  reports  \\\n",
       "0            245006413                                    2037   \n",
       "1               455247                                       0   \n",
       "2               276109                                       1   \n",
       "3              4202942                                      26   \n",
       "4              1703545                                      66   \n",
       "\n",
       "   Total number  of incidents  reported  \n",
       "0                                  7163  \n",
       "1                                     0  \n",
       "2                                     4  \n",
       "3                                   138  \n",
       "4                                   134  "
      ]
     },
     "execution_count": 184,
     "metadata": {},
     "output_type": "execute_result"
    }
   ],
   "source": [
    "d_2005[0].head()"
   ]
  },
  {
   "cell_type": "code",
   "execution_count": 185,
   "metadata": {},
   "outputs": [
    {
     "data": {
      "text/html": [
       "<div>\n",
       "<table border=\"1\" class=\"dataframe\">\n",
       "  <thead>\n",
       "    <tr style=\"text-align: right;\">\n",
       "      <th></th>\n",
       "      <th>Participating state</th>\n",
       "      <th>Number of  participating  agencies</th>\n",
       "      <th>Population  covered</th>\n",
       "      <th>Agencies  submitting incident  reports</th>\n",
       "      <th>Total number  of incidents  reported</th>\n",
       "    </tr>\n",
       "  </thead>\n",
       "  <tbody>\n",
       "    <tr>\n",
       "      <th>46</th>\n",
       "      <td>Virginia</td>\n",
       "      <td>395</td>\n",
       "      <td>7517151</td>\n",
       "      <td>68</td>\n",
       "      <td>295</td>\n",
       "    </tr>\n",
       "    <tr>\n",
       "      <th>47</th>\n",
       "      <td>Washington</td>\n",
       "      <td>252</td>\n",
       "      <td>6281630</td>\n",
       "      <td>55</td>\n",
       "      <td>171</td>\n",
       "    </tr>\n",
       "    <tr>\n",
       "      <th>48</th>\n",
       "      <td>West Virginia</td>\n",
       "      <td>349</td>\n",
       "      <td>1679815</td>\n",
       "      <td>17</td>\n",
       "      <td>47</td>\n",
       "    </tr>\n",
       "    <tr>\n",
       "      <th>49</th>\n",
       "      <td>Wisconsin</td>\n",
       "      <td>359</td>\n",
       "      <td>5289551</td>\n",
       "      <td>20</td>\n",
       "      <td>46</td>\n",
       "    </tr>\n",
       "    <tr>\n",
       "      <th>50</th>\n",
       "      <td>Wyoming</td>\n",
       "      <td>51</td>\n",
       "      <td>380216</td>\n",
       "      <td>3</td>\n",
       "      <td>3</td>\n",
       "    </tr>\n",
       "  </tbody>\n",
       "</table>\n",
       "</div>"
      ],
      "text/plain": [
       "   Participating state  Number of  participating  agencies  \\\n",
       "46            Virginia                                 395   \n",
       "47          Washington                                 252   \n",
       "48       West Virginia                                 349   \n",
       "49           Wisconsin                                 359   \n",
       "50             Wyoming                                  51   \n",
       "\n",
       "    Population  covered  Agencies  submitting incident  reports  \\\n",
       "46              7517151                                      68   \n",
       "47              6281630                                      55   \n",
       "48              1679815                                      17   \n",
       "49              5289551                                      20   \n",
       "50               380216                                       3   \n",
       "\n",
       "    Total number  of incidents  reported  \n",
       "46                                   295  \n",
       "47                                   171  \n",
       "48                                    47  \n",
       "49                                    46  \n",
       "50                                     3  "
      ]
     },
     "execution_count": 185,
     "metadata": {},
     "output_type": "execute_result"
    }
   ],
   "source": [
    "d_2005[0].tail()"
   ]
  },
  {
   "cell_type": "code",
   "execution_count": 186,
   "metadata": {
    "collapsed": true
   },
   "outputs": [],
   "source": [
    "d_2005_clean = d_2005[0]\n",
    "d_2005_clean.columns = ['Participating State', 'Number of Participating Agencies',\n",
    "                        'Population Covered', 'Agencies Submitting Incident Reports',\n",
    "                        'Total Number of Incidents Reported']"
   ]
  },
  {
   "cell_type": "code",
   "execution_count": 187,
   "metadata": {
    "collapsed": true
   },
   "outputs": [],
   "source": [
    "d_2005_clean = d_2005_clean.loc[lambda x: ~x['Participating State'].isin(['Total', 'Guam1', 'U.S. Virgin Islands1', 'Virgin Islands1'])]"
   ]
  },
  {
   "cell_type": "code",
   "execution_count": 188,
   "metadata": {},
   "outputs": [
    {
     "name": "stderr",
     "output_type": "stream",
     "text": [
      "/Users/pbaumgartner/anaconda3/lib/python3.5/site-packages/ipykernel/__main__.py:1: SettingWithCopyWarning: \n",
      "A value is trying to be set on a copy of a slice from a DataFrame.\n",
      "Try using .loc[row_indexer,col_indexer] = value instead\n",
      "\n",
      "See the caveats in the documentation: http://pandas.pydata.org/pandas-docs/stable/indexing.html#indexing-view-versus-copy\n",
      "  if __name__ == '__main__':\n"
     ]
    }
   ],
   "source": [
    "d_2005_clean['date'] = 2005"
   ]
  },
  {
   "cell_type": "code",
   "execution_count": 189,
   "metadata": {
    "scrolled": true
   },
   "outputs": [
    {
     "data": {
      "text/plain": [
       "array(['Alabama', 'Alaska', 'Arizona', 'Arkansas', 'California',\n",
       "       'Colorado', 'Connecticut', 'Delaware', 'District of Columbia',\n",
       "       'Florida', 'Georgia', 'Idaho', 'Illinois', 'Indiana', 'Iowa',\n",
       "       'Kansas', 'Kentucky', 'Louisiana', 'Maine', 'Maryland',\n",
       "       'Massachusetts', 'Michigan', 'Minnesota', 'Mississippi', 'Missouri',\n",
       "       'Montana', 'Nebraska', 'Nevada', 'New Hampshire', 'New Jersey',\n",
       "       'New Mexico', 'New York', 'North Carolina', 'North Dakota', 'Ohio',\n",
       "       'Oklahoma', 'Oregon', 'Pennsylvania', 'Rhode Island',\n",
       "       'South Carolina', 'South Dakota', 'Tennessee', 'Texas', 'Utah',\n",
       "       'Vermont', 'Virginia', 'Washington', 'West Virginia', 'Wisconsin',\n",
       "       'Wyoming'], dtype=object)"
      ]
     },
     "execution_count": 189,
     "metadata": {},
     "output_type": "execute_result"
    }
   ],
   "source": [
    "d_2005_clean['Participating State'].unique()"
   ]
  },
  {
   "cell_type": "markdown",
   "metadata": {},
   "source": [
    "## 2004"
   ]
  },
  {
   "cell_type": "markdown",
   "metadata": {},
   "source": [
    "- 2004 doesn't have an HTML Table 12\n",
    "- Download excel and read"
   ]
  },
  {
   "cell_type": "code",
   "execution_count": null,
   "metadata": {
    "collapsed": true
   },
   "outputs": [],
   "source": []
  },
  {
   "cell_type": "code",
   "execution_count": 193,
   "metadata": {
    "collapsed": true
   },
   "outputs": [],
   "source": [
    "url_2004 = '../supplemental_data/Table12_2004.xls'"
   ]
  },
  {
   "cell_type": "code",
   "execution_count": 194,
   "metadata": {
    "collapsed": true
   },
   "outputs": [],
   "source": [
    "d_2004 = pd.read_excel(url_2004, header=2)"
   ]
  },
  {
   "cell_type": "code",
   "execution_count": 195,
   "metadata": {},
   "outputs": [
    {
     "data": {
      "text/html": [
       "<div>\n",
       "<table border=\"1\" class=\"dataframe\">\n",
       "  <thead>\n",
       "    <tr style=\"text-align: right;\">\n",
       "      <th></th>\n",
       "      <th>Participating state</th>\n",
       "      <th>Number of\n",
       "participating\n",
       "agencies</th>\n",
       "      <th>Population\n",
       "covered</th>\n",
       "      <th>Agencies\n",
       "submitting incident\n",
       "reports</th>\n",
       "      <th>Total number\n",
       "of incidents\n",
       "reported</th>\n",
       "    </tr>\n",
       "  </thead>\n",
       "  <tbody>\n",
       "    <tr>\n",
       "      <th>0</th>\n",
       "      <td>Total</td>\n",
       "      <td>12711</td>\n",
       "      <td>254193439</td>\n",
       "      <td>2046</td>\n",
       "      <td>7649</td>\n",
       "    </tr>\n",
       "    <tr>\n",
       "      <th>1</th>\n",
       "      <td>Alabama</td>\n",
       "      <td>51</td>\n",
       "      <td>527267</td>\n",
       "      <td>3</td>\n",
       "      <td>3</td>\n",
       "    </tr>\n",
       "    <tr>\n",
       "      <th>2</th>\n",
       "      <td>Alaska</td>\n",
       "      <td>1</td>\n",
       "      <td>273714</td>\n",
       "      <td>1</td>\n",
       "      <td>9</td>\n",
       "    </tr>\n",
       "    <tr>\n",
       "      <th>3</th>\n",
       "      <td>Arizona</td>\n",
       "      <td>82</td>\n",
       "      <td>5554597</td>\n",
       "      <td>19</td>\n",
       "      <td>224</td>\n",
       "    </tr>\n",
       "    <tr>\n",
       "      <th>4</th>\n",
       "      <td>Arkansas</td>\n",
       "      <td>192</td>\n",
       "      <td>1632735</td>\n",
       "      <td>50</td>\n",
       "      <td>93</td>\n",
       "    </tr>\n",
       "  </tbody>\n",
       "</table>\n",
       "</div>"
      ],
      "text/plain": [
       "  Participating state  Number of\\nparticipating\\nagencies  \\\n",
       "0               Total                               12711   \n",
       "1             Alabama                                  51   \n",
       "2              Alaska                                   1   \n",
       "3             Arizona                                  82   \n",
       "4            Arkansas                                 192   \n",
       "\n",
       "   Population\\ncovered  Agencies\\nsubmitting incident\\nreports  \\\n",
       "0            254193439                                    2046   \n",
       "1               527267                                       3   \n",
       "2               273714                                       1   \n",
       "3              5554597                                      19   \n",
       "4              1632735                                      50   \n",
       "\n",
       "   Total number\\nof incidents\\nreported  \n",
       "0                                  7649  \n",
       "1                                     3  \n",
       "2                                     9  \n",
       "3                                   224  \n",
       "4                                    93  "
      ]
     },
     "execution_count": 195,
     "metadata": {},
     "output_type": "execute_result"
    }
   ],
   "source": [
    "d_2004.head()"
   ]
  },
  {
   "cell_type": "code",
   "execution_count": 196,
   "metadata": {},
   "outputs": [
    {
     "data": {
      "text/html": [
       "<div>\n",
       "<table border=\"1\" class=\"dataframe\">\n",
       "  <thead>\n",
       "    <tr style=\"text-align: right;\">\n",
       "      <th></th>\n",
       "      <th>Participating state</th>\n",
       "      <th>Number of\n",
       "participating\n",
       "agencies</th>\n",
       "      <th>Population\n",
       "covered</th>\n",
       "      <th>Agencies\n",
       "submitting incident\n",
       "reports</th>\n",
       "      <th>Total number\n",
       "of incidents\n",
       "reported</th>\n",
       "    </tr>\n",
       "  </thead>\n",
       "  <tbody>\n",
       "    <tr>\n",
       "      <th>46</th>\n",
       "      <td>Virginia</td>\n",
       "      <td>395</td>\n",
       "      <td>7399760</td>\n",
       "      <td>68</td>\n",
       "      <td>307</td>\n",
       "    </tr>\n",
       "    <tr>\n",
       "      <th>47</th>\n",
       "      <td>Washington</td>\n",
       "      <td>253</td>\n",
       "      <td>6203788</td>\n",
       "      <td>51</td>\n",
       "      <td>175</td>\n",
       "    </tr>\n",
       "    <tr>\n",
       "      <th>48</th>\n",
       "      <td>West Virginia</td>\n",
       "      <td>431</td>\n",
       "      <td>1815354</td>\n",
       "      <td>12</td>\n",
       "      <td>31</td>\n",
       "    </tr>\n",
       "    <tr>\n",
       "      <th>49</th>\n",
       "      <td>Wisconsin</td>\n",
       "      <td>369</td>\n",
       "      <td>5509026</td>\n",
       "      <td>19</td>\n",
       "      <td>37</td>\n",
       "    </tr>\n",
       "    <tr>\n",
       "      <th>50</th>\n",
       "      <td>Wyoming</td>\n",
       "      <td>42</td>\n",
       "      <td>349046</td>\n",
       "      <td>4</td>\n",
       "      <td>4</td>\n",
       "    </tr>\n",
       "  </tbody>\n",
       "</table>\n",
       "</div>"
      ],
      "text/plain": [
       "   Participating state  Number of\\nparticipating\\nagencies  \\\n",
       "46            Virginia                                 395   \n",
       "47          Washington                                 253   \n",
       "48       West Virginia                                 431   \n",
       "49           Wisconsin                                 369   \n",
       "50             Wyoming                                  42   \n",
       "\n",
       "    Population\\ncovered  Agencies\\nsubmitting incident\\nreports  \\\n",
       "46              7399760                                      68   \n",
       "47              6203788                                      51   \n",
       "48              1815354                                      12   \n",
       "49              5509026                                      19   \n",
       "50               349046                                       4   \n",
       "\n",
       "    Total number\\nof incidents\\nreported  \n",
       "46                                   307  \n",
       "47                                   175  \n",
       "48                                    31  \n",
       "49                                    37  \n",
       "50                                     4  "
      ]
     },
     "execution_count": 196,
     "metadata": {},
     "output_type": "execute_result"
    }
   ],
   "source": [
    "d_2004.tail()"
   ]
  },
  {
   "cell_type": "code",
   "execution_count": 198,
   "metadata": {
    "collapsed": true
   },
   "outputs": [],
   "source": [
    "d_2004_clean = d_2004.copy()\n",
    "d_2004_clean.columns = ['Participating State', 'Number of Participating Agencies',\n",
    "                        'Population Covered', 'Agencies Submitting Incident Reports',\n",
    "                        'Total Number of Incidents Reported']"
   ]
  },
  {
   "cell_type": "code",
   "execution_count": 199,
   "metadata": {
    "collapsed": true
   },
   "outputs": [],
   "source": [
    "d_2004_clean = d_2004_clean.loc[lambda x: ~x['Participating State'].isin(['Total', 'Guam1', 'U.S. Virgin Islands1', 'Virgin Islands1'])]"
   ]
  },
  {
   "cell_type": "code",
   "execution_count": 200,
   "metadata": {
    "collapsed": true
   },
   "outputs": [],
   "source": [
    "d_2004_clean['date'] = 2004"
   ]
  },
  {
   "cell_type": "code",
   "execution_count": 201,
   "metadata": {
    "scrolled": false
   },
   "outputs": [
    {
     "data": {
      "text/plain": [
       "array(['Alabama', 'Alaska', 'Arizona', 'Arkansas', 'California',\n",
       "       'Colorado', 'Connecticut', 'Delaware', 'District of Columbia',\n",
       "       'Florida', 'Georgia', 'Idaho', 'Illinois', 'Indiana', 'Iowa',\n",
       "       'Kansas', 'Kentucky', 'Louisiana', 'Maine', 'Maryland',\n",
       "       'Massachusetts', 'Michigan', 'Minnesota', 'Mississippi', 'Missouri',\n",
       "       'Montana', 'Nebraska', 'Nevada', 'New Hampshire', 'New Jersey',\n",
       "       'New Mexico', 'New York', 'North Carolina', 'North Dakota', 'Ohio',\n",
       "       'Oklahoma', 'Oregon', 'Pennsylvania', 'Rhode Island',\n",
       "       'South Carolina', 'South Dakota', 'Tennessee', 'Texas', 'Utah',\n",
       "       'Vermont', 'Virginia', 'Washington', 'West Virginia', 'Wisconsin',\n",
       "       'Wyoming'], dtype=object)"
      ]
     },
     "execution_count": 201,
     "metadata": {},
     "output_type": "execute_result"
    }
   ],
   "source": [
    "d_2004_clean['Participating State'].unique()"
   ]
  },
  {
   "cell_type": "markdown",
   "metadata": {},
   "source": [
    "## Combination"
   ]
  },
  {
   "cell_type": "code",
   "execution_count": 202,
   "metadata": {
    "collapsed": true
   },
   "outputs": [],
   "source": [
    "all_dataframes = [d_2004_clean,\n",
    "                  d_2005_clean,\n",
    "                  d_2006_clean,\n",
    "                  d_2007_clean,\n",
    "                  d_2008_clean,\n",
    "                  d_2009_clean,\n",
    "                  d_2010_clean,\n",
    "                  d_2011_clean,\n",
    "                  d_2012_clean,\n",
    "                  d_2013_clean,\n",
    "                  d_2014_clean,\n",
    "                  d_2015_clean]"
   ]
  },
  {
   "cell_type": "code",
   "execution_count": 204,
   "metadata": {},
   "outputs": [],
   "source": [
    "combined_data = pd.concat(all_dataframes)"
   ]
  },
  {
   "cell_type": "code",
   "execution_count": 206,
   "metadata": {},
   "outputs": [
    {
     "data": {
      "text/plain": [
       "Maine                   12\n",
       "District of Columbia    12\n",
       "Alabama                 12\n",
       "New Hampshire           12\n",
       "Nevada                  12\n",
       "Illinois                12\n",
       "Rhode Island            12\n",
       "Utah                    12\n",
       "Florida                 12\n",
       "Vermont                 12\n",
       "Wyoming                 12\n",
       "Kansas                  12\n",
       "Virginia                12\n",
       "Washington              12\n",
       "West Virginia           12\n",
       "Massachusetts           12\n",
       "Arizona                 12\n",
       "Tennessee               12\n",
       "New Mexico              12\n",
       "Colorado                12\n",
       "Minnesota               12\n",
       "Ohio                    12\n",
       "Connecticut             12\n",
       "Idaho                   12\n",
       "Iowa                    12\n",
       "Alaska                  12\n",
       "South Carolina          12\n",
       "Texas                   12\n",
       "Missouri                12\n",
       "Pennsylvania            12\n",
       "Nebraska                12\n",
       "North Carolina          12\n",
       "California              12\n",
       "Oregon                  12\n",
       "Arkansas                12\n",
       "Louisiana               12\n",
       "Delaware                12\n",
       "North Dakota            12\n",
       "Kentucky                12\n",
       "Mississippi             12\n",
       "New York                12\n",
       "Michigan                12\n",
       "Wisconsin               12\n",
       "Indiana                 12\n",
       "Maryland                12\n",
       "Montana                 12\n",
       "Oklahoma                12\n",
       "South Dakota            12\n",
       "Georgia                 12\n",
       "New Jersey              11\n",
       "Name: Participating State, dtype: int64"
      ]
     },
     "execution_count": 206,
     "metadata": {},
     "output_type": "execute_result"
    }
   ],
   "source": [
    "# Validate state counts\n",
    "# Note New Jersey did not report 2008\n",
    "combined_data['Participating State'].value_counts()"
   ]
  },
  {
   "cell_type": "code",
   "execution_count": 207,
   "metadata": {},
   "outputs": [
    {
     "data": {
      "text/plain": [
       "Index(['Participating State', 'Number of Participating Agencies',\n",
       "       'Population Covered', 'Agencies Submitting Incident Reports',\n",
       "       'Total Number of Incidents Reported', 'date'],\n",
       "      dtype='object')"
      ]
     },
     "execution_count": 207,
     "metadata": {},
     "output_type": "execute_result"
    }
   ],
   "source": [
    "combined_data.columns"
   ]
  },
  {
   "cell_type": "code",
   "execution_count": 210,
   "metadata": {
    "collapsed": true
   },
   "outputs": [],
   "source": [
    "# reorganize columns\n",
    "combined_data = combined_data[['Participating State', 'date', 'Number of Participating Agencies',\n",
    "       'Population Covered', 'Agencies Submitting Incident Reports',\n",
    "       'Total Number of Incidents Reported']]"
   ]
  },
  {
   "cell_type": "code",
   "execution_count": 211,
   "metadata": {},
   "outputs": [
    {
     "data": {
      "text/html": [
       "<div>\n",
       "<table border=\"1\" class=\"dataframe\">\n",
       "  <thead>\n",
       "    <tr style=\"text-align: right;\">\n",
       "      <th></th>\n",
       "      <th>Participating State</th>\n",
       "      <th>date</th>\n",
       "      <th>Number of Participating Agencies</th>\n",
       "      <th>Population Covered</th>\n",
       "      <th>Agencies Submitting Incident Reports</th>\n",
       "      <th>Total Number of Incidents Reported</th>\n",
       "    </tr>\n",
       "  </thead>\n",
       "  <tbody>\n",
       "    <tr>\n",
       "      <th>1</th>\n",
       "      <td>Alabama</td>\n",
       "      <td>2004</td>\n",
       "      <td>51</td>\n",
       "      <td>527267.0</td>\n",
       "      <td>3</td>\n",
       "      <td>3</td>\n",
       "    </tr>\n",
       "    <tr>\n",
       "      <th>2</th>\n",
       "      <td>Alaska</td>\n",
       "      <td>2004</td>\n",
       "      <td>1</td>\n",
       "      <td>273714.0</td>\n",
       "      <td>1</td>\n",
       "      <td>9</td>\n",
       "    </tr>\n",
       "    <tr>\n",
       "      <th>3</th>\n",
       "      <td>Arizona</td>\n",
       "      <td>2004</td>\n",
       "      <td>82</td>\n",
       "      <td>5554597.0</td>\n",
       "      <td>19</td>\n",
       "      <td>224</td>\n",
       "    </tr>\n",
       "    <tr>\n",
       "      <th>4</th>\n",
       "      <td>Arkansas</td>\n",
       "      <td>2004</td>\n",
       "      <td>192</td>\n",
       "      <td>1632735.0</td>\n",
       "      <td>50</td>\n",
       "      <td>93</td>\n",
       "    </tr>\n",
       "    <tr>\n",
       "      <th>5</th>\n",
       "      <td>California</td>\n",
       "      <td>2004</td>\n",
       "      <td>725</td>\n",
       "      <td>35893799.0</td>\n",
       "      <td>245</td>\n",
       "      <td>1393</td>\n",
       "    </tr>\n",
       "  </tbody>\n",
       "</table>\n",
       "</div>"
      ],
      "text/plain": [
       "  Participating State  date  Number of Participating Agencies  \\\n",
       "1             Alabama  2004                                51   \n",
       "2              Alaska  2004                                 1   \n",
       "3             Arizona  2004                                82   \n",
       "4            Arkansas  2004                               192   \n",
       "5          California  2004                               725   \n",
       "\n",
       "   Population Covered  Agencies Submitting Incident Reports  \\\n",
       "1            527267.0                                     3   \n",
       "2            273714.0                                     1   \n",
       "3           5554597.0                                    19   \n",
       "4           1632735.0                                    50   \n",
       "5          35893799.0                                   245   \n",
       "\n",
       "   Total Number of Incidents Reported  \n",
       "1                                   3  \n",
       "2                                   9  \n",
       "3                                 224  \n",
       "4                                  93  \n",
       "5                                1393  "
      ]
     },
     "execution_count": 211,
     "metadata": {},
     "output_type": "execute_result"
    }
   ],
   "source": [
    "combined_data.head()"
   ]
  },
  {
   "cell_type": "code",
   "execution_count": 213,
   "metadata": {
    "collapsed": true
   },
   "outputs": [],
   "source": [
    "combined_data.to_csv('../output/table_12_2004-2015.csv')"
   ]
  },
  {
   "cell_type": "code",
   "execution_count": null,
   "metadata": {
    "collapsed": true
   },
   "outputs": [],
   "source": []
  }
 ],
 "metadata": {
  "kernelspec": {
   "display_name": "Python [Root]",
   "language": "python",
   "name": "Python [Root]"
  },
  "language_info": {
   "codemirror_mode": {
    "name": "ipython",
    "version": 3
   },
   "file_extension": ".py",
   "mimetype": "text/x-python",
   "name": "python",
   "nbconvert_exporter": "python",
   "pygments_lexer": "ipython3",
   "version": "3.5.2"
  }
 },
 "nbformat": 4,
 "nbformat_minor": 1
}
