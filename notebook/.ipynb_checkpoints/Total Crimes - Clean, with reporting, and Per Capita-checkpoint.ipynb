{
 "cells": [
  {
   "cell_type": "code",
   "execution_count": 1,
   "metadata": {
    "collapsed": true
   },
   "outputs": [],
   "source": [
    "import pandas as pd"
   ]
  },
  {
   "cell_type": "code",
   "execution_count": 10,
   "metadata": {
    "collapsed": true
   },
   "outputs": [],
   "source": [
    "census = pd.read_csv('../_CLEAN DATA/pop_estimates_by_state.csv', index_col='id', thousands=',')"
   ]
  },
  {
   "cell_type": "code",
   "execution_count": 11,
   "metadata": {},
   "outputs": [],
   "source": [
    "census_pop_melted = pd.melt(census, id_vars=['state'])"
   ]
  },
  {
   "cell_type": "code",
   "execution_count": 29,
   "metadata": {
    "collapsed": true
   },
   "outputs": [],
   "source": [
    "census_pop_melted = census_pop_melted.rename(columns={'variable' : 'date', 'value' : 'est_pop'})"
   ]
  },
  {
   "cell_type": "code",
   "execution_count": 55,
   "metadata": {
    "collapsed": true
   },
   "outputs": [],
   "source": [
    "census_pop_melted['date'] = census_pop_melted['date'].astype(int)"
   ]
  },
  {
   "cell_type": "code",
   "execution_count": 56,
   "metadata": {},
   "outputs": [
    {
     "data": {
      "text/html": [
       "<div>\n",
       "<table border=\"1\" class=\"dataframe\">\n",
       "  <thead>\n",
       "    <tr style=\"text-align: right;\">\n",
       "      <th></th>\n",
       "      <th>state</th>\n",
       "      <th>date</th>\n",
       "      <th>est_pop</th>\n",
       "    </tr>\n",
       "  </thead>\n",
       "  <tbody>\n",
       "    <tr>\n",
       "      <th>0</th>\n",
       "      <td>All states</td>\n",
       "      <td>2004</td>\n",
       "      <td>292805298</td>\n",
       "    </tr>\n",
       "    <tr>\n",
       "      <th>1</th>\n",
       "      <td>Alabama</td>\n",
       "      <td>2004</td>\n",
       "      <td>4530729</td>\n",
       "    </tr>\n",
       "    <tr>\n",
       "      <th>2</th>\n",
       "      <td>Alaska</td>\n",
       "      <td>2004</td>\n",
       "      <td>659286</td>\n",
       "    </tr>\n",
       "    <tr>\n",
       "      <th>3</th>\n",
       "      <td>Arizona</td>\n",
       "      <td>2004</td>\n",
       "      <td>5652404</td>\n",
       "    </tr>\n",
       "    <tr>\n",
       "      <th>4</th>\n",
       "      <td>Arkansas</td>\n",
       "      <td>2004</td>\n",
       "      <td>2749686</td>\n",
       "    </tr>\n",
       "  </tbody>\n",
       "</table>\n",
       "</div>"
      ],
      "text/plain": [
       "        state  date    est_pop\n",
       "0  All states  2004  292805298\n",
       "1     Alabama  2004    4530729\n",
       "2      Alaska  2004     659286\n",
       "3     Arizona  2004    5652404\n",
       "4    Arkansas  2004    2749686"
      ]
     },
     "execution_count": 56,
     "metadata": {},
     "output_type": "execute_result"
    }
   ],
   "source": [
    "census_pop_melted.head()"
   ]
  },
  {
   "cell_type": "code",
   "execution_count": 57,
   "metadata": {},
   "outputs": [],
   "source": [
    "census_pop_indexed = census_pop_melted.set_index(['state', 'date'])"
   ]
  },
  {
   "cell_type": "code",
   "execution_count": 13,
   "metadata": {
    "collapsed": true
   },
   "outputs": [],
   "source": [
    "reporting = pd.read_csv('../_CLEAN DATA/statutes_by_state_by_penalty_enhancement.csv')"
   ]
  },
  {
   "cell_type": "code",
   "execution_count": 21,
   "metadata": {},
   "outputs": [
    {
     "data": {
      "text/html": [
       "<div>\n",
       "<table border=\"1\" class=\"dataframe\">\n",
       "  <thead>\n",
       "    <tr style=\"text-align: right;\">\n",
       "      <th></th>\n",
       "      <th>state</th>\n",
       "      <th>penalty_enhancement</th>\n",
       "      <th>race_religion_ethnicity</th>\n",
       "      <th>sexual_orientation</th>\n",
       "      <th>gender</th>\n",
       "      <th>gender_identity</th>\n",
       "      <th>disability</th>\n",
       "      <th>other</th>\n",
       "    </tr>\n",
       "  </thead>\n",
       "  <tbody>\n",
       "    <tr>\n",
       "      <th>0</th>\n",
       "      <td>Alabama</td>\n",
       "      <td>&lt;a href=\"http://codes.lp.findlaw.com/alcode/13...</td>\n",
       "      <td>YES</td>\n",
       "      <td>NO</td>\n",
       "      <td>NO</td>\n",
       "      <td>NO</td>\n",
       "      <td>YES</td>\n",
       "      <td>NO</td>\n",
       "    </tr>\n",
       "    <tr>\n",
       "      <th>1</th>\n",
       "      <td>Alaska</td>\n",
       "      <td>&lt;a href=\"http://touchngo.com/lglcntr/akstats/s...</td>\n",
       "      <td>YES</td>\n",
       "      <td>NO</td>\n",
       "      <td>YES</td>\n",
       "      <td>NO</td>\n",
       "      <td>YES</td>\n",
       "      <td>NO</td>\n",
       "    </tr>\n",
       "    <tr>\n",
       "      <th>2</th>\n",
       "      <td>Arizona</td>\n",
       "      <td>&lt;a href=\"http://www.azleg.gov/FormatDocument.a...</td>\n",
       "      <td>YES</td>\n",
       "      <td>YES</td>\n",
       "      <td>YES</td>\n",
       "      <td>NO</td>\n",
       "      <td>YES</td>\n",
       "      <td>NO</td>\n",
       "    </tr>\n",
       "    <tr>\n",
       "      <th>3</th>\n",
       "      <td>Arkansas</td>\n",
       "      <td>NaN</td>\n",
       "      <td>NO</td>\n",
       "      <td>NO</td>\n",
       "      <td>NO</td>\n",
       "      <td>NO</td>\n",
       "      <td>NO</td>\n",
       "      <td>NO</td>\n",
       "    </tr>\n",
       "    <tr>\n",
       "      <th>4</th>\n",
       "      <td>California</td>\n",
       "      <td>&lt;a href=\"http://www.leginfo.ca.gov/cgi-bin/dis...</td>\n",
       "      <td>YES</td>\n",
       "      <td>YES</td>\n",
       "      <td>YES</td>\n",
       "      <td>YES</td>\n",
       "      <td>YES</td>\n",
       "      <td>YES</td>\n",
       "    </tr>\n",
       "  </tbody>\n",
       "</table>\n",
       "</div>"
      ],
      "text/plain": [
       "        state                                penalty_enhancement  \\\n",
       "0     Alabama  <a href=\"http://codes.lp.findlaw.com/alcode/13...   \n",
       "1      Alaska  <a href=\"http://touchngo.com/lglcntr/akstats/s...   \n",
       "2     Arizona  <a href=\"http://www.azleg.gov/FormatDocument.a...   \n",
       "3    Arkansas                                                NaN   \n",
       "4  California  <a href=\"http://www.leginfo.ca.gov/cgi-bin/dis...   \n",
       "\n",
       "  race_religion_ethnicity sexual_orientation gender gender_identity  \\\n",
       "0                     YES                 NO     NO              NO   \n",
       "1                     YES                 NO    YES              NO   \n",
       "2                     YES                YES    YES              NO   \n",
       "3                      NO                 NO     NO              NO   \n",
       "4                     YES                YES    YES             YES   \n",
       "\n",
       "  disability other  \n",
       "0        YES    NO  \n",
       "1        YES    NO  \n",
       "2        YES    NO  \n",
       "3         NO    NO  \n",
       "4        YES   YES  "
      ]
     },
     "execution_count": 21,
     "metadata": {},
     "output_type": "execute_result"
    }
   ],
   "source": [
    "reporting.head()"
   ]
  },
  {
   "cell_type": "code",
   "execution_count": 149,
   "metadata": {},
   "outputs": [],
   "source": [
    "incidents = pd.read_csv('../_CLEAN DATA/state_hate_crime_totals_final.csv', na_values=['NA', '\\xa0'])"
   ]
  },
  {
   "cell_type": "code",
   "execution_count": 150,
   "metadata": {},
   "outputs": [],
   "source": [
    "incidents_indexed = incidents.set_index(['state', 'date'])"
   ]
  },
  {
   "cell_type": "code",
   "execution_count": 151,
   "metadata": {},
   "outputs": [],
   "source": [
    "incidents_per_capita = pd.merge(incidents, census_pop_melted, on=('state', 'date'))"
   ]
  },
  {
   "cell_type": "code",
   "execution_count": 152,
   "metadata": {},
   "outputs": [
    {
     "data": {
      "text/html": [
       "<div>\n",
       "<table border=\"1\" class=\"dataframe\">\n",
       "  <thead>\n",
       "    <tr style=\"text-align: right;\">\n",
       "      <th></th>\n",
       "      <th>date</th>\n",
       "      <th>state</th>\n",
       "      <th>race</th>\n",
       "      <th>religion</th>\n",
       "      <th>sexual_orientation</th>\n",
       "      <th>ethnicity</th>\n",
       "      <th>disability</th>\n",
       "      <th>gender</th>\n",
       "      <th>gender_identity</th>\n",
       "      <th>race_ethnicity_ancestry</th>\n",
       "      <th>est_pop</th>\n",
       "    </tr>\n",
       "  </thead>\n",
       "  <tbody>\n",
       "    <tr>\n",
       "      <th>0</th>\n",
       "      <td>2015</td>\n",
       "      <td>Alabama</td>\n",
       "      <td>NaN</td>\n",
       "      <td>0</td>\n",
       "      <td>2</td>\n",
       "      <td>NaN</td>\n",
       "      <td>0</td>\n",
       "      <td>0.0</td>\n",
       "      <td>0.0</td>\n",
       "      <td>8.0</td>\n",
       "      <td>4858979</td>\n",
       "    </tr>\n",
       "    <tr>\n",
       "      <th>1</th>\n",
       "      <td>2015</td>\n",
       "      <td>Alaska</td>\n",
       "      <td>NaN</td>\n",
       "      <td>0</td>\n",
       "      <td>1</td>\n",
       "      <td>NaN</td>\n",
       "      <td>0</td>\n",
       "      <td>0.0</td>\n",
       "      <td>NaN</td>\n",
       "      <td>7.0</td>\n",
       "      <td>738432</td>\n",
       "    </tr>\n",
       "    <tr>\n",
       "      <th>2</th>\n",
       "      <td>2015</td>\n",
       "      <td>Arizona</td>\n",
       "      <td>NaN</td>\n",
       "      <td>52</td>\n",
       "      <td>57</td>\n",
       "      <td>NaN</td>\n",
       "      <td>5</td>\n",
       "      <td>0.0</td>\n",
       "      <td>0.0</td>\n",
       "      <td>162.0</td>\n",
       "      <td>6828065</td>\n",
       "    </tr>\n",
       "    <tr>\n",
       "      <th>3</th>\n",
       "      <td>2015</td>\n",
       "      <td>Arkansas</td>\n",
       "      <td>NaN</td>\n",
       "      <td>0</td>\n",
       "      <td>2</td>\n",
       "      <td>NaN</td>\n",
       "      <td>0</td>\n",
       "      <td>0.0</td>\n",
       "      <td>0.0</td>\n",
       "      <td>3.0</td>\n",
       "      <td>2978204</td>\n",
       "    </tr>\n",
       "    <tr>\n",
       "      <th>4</th>\n",
       "      <td>2015</td>\n",
       "      <td>California</td>\n",
       "      <td>NaN</td>\n",
       "      <td>191</td>\n",
       "      <td>188</td>\n",
       "      <td>NaN</td>\n",
       "      <td>4</td>\n",
       "      <td>1.0</td>\n",
       "      <td>26.0</td>\n",
       "      <td>427.0</td>\n",
       "      <td>39144818</td>\n",
       "    </tr>\n",
       "  </tbody>\n",
       "</table>\n",
       "</div>"
      ],
      "text/plain": [
       "   date       state  race  religion  sexual_orientation  ethnicity   \\\n",
       "0  2015     Alabama   NaN         0                   2         NaN   \n",
       "1  2015      Alaska   NaN         0                   1         NaN   \n",
       "2  2015     Arizona   NaN        52                  57         NaN   \n",
       "3  2015    Arkansas   NaN         0                   2         NaN   \n",
       "4  2015  California   NaN       191                 188         NaN   \n",
       "\n",
       "   disability  gender  gender_identity  race_ethnicity_ancestry   est_pop  \n",
       "0           0     0.0              0.0                      8.0   4858979  \n",
       "1           0     0.0              NaN                      7.0    738432  \n",
       "2           5     0.0              0.0                    162.0   6828065  \n",
       "3           0     0.0              0.0                      3.0   2978204  \n",
       "4           4     1.0             26.0                    427.0  39144818  "
      ]
     },
     "execution_count": 152,
     "metadata": {},
     "output_type": "execute_result"
    }
   ],
   "source": [
    "incidents_per_capita.head()"
   ]
  },
  {
   "cell_type": "markdown",
   "metadata": {},
   "source": [
    "### Join reporting info"
   ]
  },
  {
   "cell_type": "code",
   "execution_count": 153,
   "metadata": {},
   "outputs": [],
   "source": [
    "reporting_nopen = reporting[[column for column in reporting.columns if column != 'penalty_enhancement']]"
   ]
  },
  {
   "cell_type": "code",
   "execution_count": 154,
   "metadata": {},
   "outputs": [],
   "source": [
    "reporting_nopen.columns = ['state', 'race_religion_ethnicity_reporting', 'sexual_orientation_reporting', 'gender_reporting',\n",
    "       'gender_identity_reporting', 'disability_reporting', 'other_reporting']"
   ]
  },
  {
   "cell_type": "code",
   "execution_count": 155,
   "metadata": {},
   "outputs": [],
   "source": [
    "incidents_all = pd.merge(incidents_per_capita, reporting_nopen, on='state')"
   ]
  },
  {
   "cell_type": "code",
   "execution_count": 169,
   "metadata": {},
   "outputs": [
    {
     "data": {
      "text/html": [
       "<div>\n",
       "<table border=\"1\" class=\"dataframe\">\n",
       "  <thead>\n",
       "    <tr style=\"text-align: right;\">\n",
       "      <th></th>\n",
       "      <th>date</th>\n",
       "      <th>state</th>\n",
       "      <th>race</th>\n",
       "      <th>religion</th>\n",
       "      <th>sexual_orientation</th>\n",
       "      <th>ethnicity</th>\n",
       "      <th>disability</th>\n",
       "      <th>gender</th>\n",
       "      <th>gender_identity</th>\n",
       "      <th>race_ethnicity_ancestry</th>\n",
       "      <th>...</th>\n",
       "      <th>race_per_capita</th>\n",
       "      <th>religion_per_capita</th>\n",
       "      <th>sexual_orientation_per_capita</th>\n",
       "      <th>ethnicity _per_capita</th>\n",
       "      <th>disability_per_capita</th>\n",
       "      <th>gender_per_capita</th>\n",
       "      <th>gender_identity_per_capita</th>\n",
       "      <th>race_ethnicity_ancestry_per_capita</th>\n",
       "      <th>all_count</th>\n",
       "      <th>all_count_per_capita</th>\n",
       "    </tr>\n",
       "  </thead>\n",
       "  <tbody>\n",
       "  </tbody>\n",
       "</table>\n",
       "<p>0 rows × 27 columns</p>\n",
       "</div>"
      ],
      "text/plain": [
       "Empty DataFrame\n",
       "Columns: [date, state, race, religion, sexual_orientation, ethnicity , disability, gender, gender_identity, race_ethnicity_ancestry, est_pop, race_religion_ethnicity_reporting, sexual_orientation_reporting, gender_reporting, gender_identity_reporting, disability_reporting, other_reporting, race_per_capita, religion_per_capita, sexual_orientation_per_capita, ethnicity _per_capita, disability_per_capita, gender_per_capita, gender_identity_per_capita, race_ethnicity_ancestry_per_capita, all_count, all_count_per_capita]\n",
       "Index: []\n",
       "\n",
       "[0 rows x 27 columns]"
      ]
     },
     "execution_count": 169,
     "metadata": {},
     "output_type": "execute_result"
    }
   ],
   "source": [
    "incidents_all.loc[lambda x: x['state'].isin(['Wyoming', 'Oklahoma', 'Wisconsin'])]"
   ]
  },
  {
   "cell_type": "code",
   "execution_count": 171,
   "metadata": {
    "scrolled": false
   },
   "outputs": [
    {
     "data": {
      "text/plain": [
       "New York          12\n",
       "South Dakota      12\n",
       "Maine             12\n",
       "Iowa              12\n",
       "Florida           12\n",
       "West Virginia     12\n",
       "Illinois          12\n",
       "Nebraska          12\n",
       "Colorado          12\n",
       "Virginia          12\n",
       "Ohio              12\n",
       "Missouri          12\n",
       "Oregon            12\n",
       "Kansas            12\n",
       "Massachusetts     12\n",
       "Texas             12\n",
       "North Dakota      12\n",
       "Nevada            12\n",
       "Kentucky          12\n",
       "Tennessee         12\n",
       "Idaho             12\n",
       "Maryland          12\n",
       "Connecticut       12\n",
       "Delaware          12\n",
       "South Carolina    12\n",
       "Alaska            12\n",
       "Washington        12\n",
       "Utah              12\n",
       "Arkansas          12\n",
       "Georgia           12\n",
       "New Mexico        12\n",
       "North Carolina    12\n",
       "Pennsylvania      12\n",
       "Indiana           12\n",
       "Michigan          12\n",
       "Montana           12\n",
       "California        12\n",
       "Arizona           12\n",
       "Minnesota         12\n",
       "Vermont           12\n",
       "New Jersey        11\n",
       "Alabama           11\n",
       "Mississippi        8\n",
       "Louisiana          3\n",
       "Name: state, dtype: int64"
      ]
     },
     "execution_count": 171,
     "metadata": {},
     "output_type": "execute_result"
    }
   ],
   "source": [
    "incidents_all['state'].value_counts()"
   ]
  },
  {
   "cell_type": "code",
   "execution_count": 156,
   "metadata": {},
   "outputs": [
    {
     "data": {
      "text/html": [
       "<div>\n",
       "<table border=\"1\" class=\"dataframe\">\n",
       "  <thead>\n",
       "    <tr style=\"text-align: right;\">\n",
       "      <th></th>\n",
       "      <th>date</th>\n",
       "      <th>state</th>\n",
       "      <th>race</th>\n",
       "      <th>religion</th>\n",
       "      <th>sexual_orientation</th>\n",
       "      <th>ethnicity</th>\n",
       "      <th>disability</th>\n",
       "      <th>gender</th>\n",
       "      <th>gender_identity</th>\n",
       "      <th>race_ethnicity_ancestry</th>\n",
       "      <th>est_pop</th>\n",
       "      <th>race_religion_ethnicity_reporting</th>\n",
       "      <th>sexual_orientation_reporting</th>\n",
       "      <th>gender_reporting</th>\n",
       "      <th>gender_identity_reporting</th>\n",
       "      <th>disability_reporting</th>\n",
       "      <th>other_reporting</th>\n",
       "    </tr>\n",
       "  </thead>\n",
       "  <tbody>\n",
       "    <tr>\n",
       "      <th>0</th>\n",
       "      <td>2015</td>\n",
       "      <td>Alabama</td>\n",
       "      <td>NaN</td>\n",
       "      <td>0</td>\n",
       "      <td>2</td>\n",
       "      <td>NaN</td>\n",
       "      <td>0</td>\n",
       "      <td>0.0</td>\n",
       "      <td>0.0</td>\n",
       "      <td>8.0</td>\n",
       "      <td>4858979</td>\n",
       "      <td>YES</td>\n",
       "      <td>NO</td>\n",
       "      <td>NO</td>\n",
       "      <td>NO</td>\n",
       "      <td>YES</td>\n",
       "      <td>NO</td>\n",
       "    </tr>\n",
       "    <tr>\n",
       "      <th>1</th>\n",
       "      <td>2014</td>\n",
       "      <td>Alabama</td>\n",
       "      <td>7.0</td>\n",
       "      <td>1</td>\n",
       "      <td>0</td>\n",
       "      <td>1.0</td>\n",
       "      <td>0</td>\n",
       "      <td>0.0</td>\n",
       "      <td>0.0</td>\n",
       "      <td>NaN</td>\n",
       "      <td>4846411</td>\n",
       "      <td>YES</td>\n",
       "      <td>NO</td>\n",
       "      <td>NO</td>\n",
       "      <td>NO</td>\n",
       "      <td>YES</td>\n",
       "      <td>NO</td>\n",
       "    </tr>\n",
       "    <tr>\n",
       "      <th>2</th>\n",
       "      <td>2013</td>\n",
       "      <td>Alabama</td>\n",
       "      <td>5.0</td>\n",
       "      <td>0</td>\n",
       "      <td>1</td>\n",
       "      <td>0.0</td>\n",
       "      <td>0</td>\n",
       "      <td>0.0</td>\n",
       "      <td>0.0</td>\n",
       "      <td>NaN</td>\n",
       "      <td>4830533</td>\n",
       "      <td>YES</td>\n",
       "      <td>NO</td>\n",
       "      <td>NO</td>\n",
       "      <td>NO</td>\n",
       "      <td>YES</td>\n",
       "      <td>NO</td>\n",
       "    </tr>\n",
       "    <tr>\n",
       "      <th>3</th>\n",
       "      <td>2012</td>\n",
       "      <td>Alabama</td>\n",
       "      <td>3.0</td>\n",
       "      <td>2</td>\n",
       "      <td>0</td>\n",
       "      <td>1.0</td>\n",
       "      <td>0</td>\n",
       "      <td>NaN</td>\n",
       "      <td>NaN</td>\n",
       "      <td>NaN</td>\n",
       "      <td>4816089</td>\n",
       "      <td>YES</td>\n",
       "      <td>NO</td>\n",
       "      <td>NO</td>\n",
       "      <td>NO</td>\n",
       "      <td>YES</td>\n",
       "      <td>NO</td>\n",
       "    </tr>\n",
       "    <tr>\n",
       "      <th>4</th>\n",
       "      <td>2011</td>\n",
       "      <td>Alabama</td>\n",
       "      <td>58.0</td>\n",
       "      <td>5</td>\n",
       "      <td>7</td>\n",
       "      <td>11.0</td>\n",
       "      <td>2</td>\n",
       "      <td>NaN</td>\n",
       "      <td>NaN</td>\n",
       "      <td>NaN</td>\n",
       "      <td>4801108</td>\n",
       "      <td>YES</td>\n",
       "      <td>NO</td>\n",
       "      <td>NO</td>\n",
       "      <td>NO</td>\n",
       "      <td>YES</td>\n",
       "      <td>NO</td>\n",
       "    </tr>\n",
       "  </tbody>\n",
       "</table>\n",
       "</div>"
      ],
      "text/plain": [
       "   date    state  race  religion  sexual_orientation  ethnicity   disability  \\\n",
       "0  2015  Alabama   NaN         0                   2         NaN           0   \n",
       "1  2014  Alabama   7.0         1                   0         1.0           0   \n",
       "2  2013  Alabama   5.0         0                   1         0.0           0   \n",
       "3  2012  Alabama   3.0         2                   0         1.0           0   \n",
       "4  2011  Alabama  58.0         5                   7        11.0           2   \n",
       "\n",
       "   gender  gender_identity  race_ethnicity_ancestry  est_pop  \\\n",
       "0     0.0              0.0                      8.0  4858979   \n",
       "1     0.0              0.0                      NaN  4846411   \n",
       "2     0.0              0.0                      NaN  4830533   \n",
       "3     NaN              NaN                      NaN  4816089   \n",
       "4     NaN              NaN                      NaN  4801108   \n",
       "\n",
       "  race_religion_ethnicity_reporting sexual_orientation_reporting  \\\n",
       "0                               YES                           NO   \n",
       "1                               YES                           NO   \n",
       "2                               YES                           NO   \n",
       "3                               YES                           NO   \n",
       "4                               YES                           NO   \n",
       "\n",
       "  gender_reporting gender_identity_reporting disability_reporting  \\\n",
       "0               NO                        NO                  YES   \n",
       "1               NO                        NO                  YES   \n",
       "2               NO                        NO                  YES   \n",
       "3               NO                        NO                  YES   \n",
       "4               NO                        NO                  YES   \n",
       "\n",
       "  other_reporting  \n",
       "0              NO  \n",
       "1              NO  \n",
       "2              NO  \n",
       "3              NO  \n",
       "4              NO  "
      ]
     },
     "execution_count": 156,
     "metadata": {},
     "output_type": "execute_result"
    }
   ],
   "source": [
    "incidents_all.head()"
   ]
  },
  {
   "cell_type": "code",
   "execution_count": 157,
   "metadata": {},
   "outputs": [
    {
     "data": {
      "text/plain": [
       "Index(['date', 'state', 'race', 'religion', 'sexual_orientation', 'ethnicity ',\n",
       "       'disability', 'gender', 'gender_identity', 'race_ethnicity_ancestry',\n",
       "       'est_pop', 'race_religion_ethnicity_reporting',\n",
       "       'sexual_orientation_reporting', 'gender_reporting',\n",
       "       'gender_identity_reporting', 'disability_reporting', 'other_reporting'],\n",
       "      dtype='object')"
      ]
     },
     "execution_count": 157,
     "metadata": {},
     "output_type": "execute_result"
    }
   ],
   "source": [
    "incidents_all.columns"
   ]
  },
  {
   "cell_type": "code",
   "execution_count": 158,
   "metadata": {},
   "outputs": [
    {
     "data": {
      "text/plain": [
       "0       10.0\n",
       "1        9.0\n",
       "2        6.0\n",
       "3        6.0\n",
       "4       83.0\n",
       "5       19.0\n",
       "6        9.0\n",
       "7       11.0\n",
       "8        6.0\n",
       "9        1.0\n",
       "10       3.0\n",
       "11       8.0\n",
       "12       6.0\n",
       "13       8.0\n",
       "14       6.0\n",
       "15       8.0\n",
       "16       7.0\n",
       "17       9.0\n",
       "18       8.0\n",
       "19       8.0\n",
       "20       6.0\n",
       "21       4.0\n",
       "22       9.0\n",
       "23     276.0\n",
       "24     265.0\n",
       "25     155.0\n",
       "26     176.0\n",
       "27     192.0\n",
       "28     236.0\n",
       "29     219.0\n",
       "       ...  \n",
       "483    232.0\n",
       "484    208.0\n",
       "485    239.0\n",
       "486    195.0\n",
       "487    177.0\n",
       "488    171.0\n",
       "489    175.0\n",
       "490     41.0\n",
       "491     26.0\n",
       "492     56.0\n",
       "493     27.0\n",
       "494     18.0\n",
       "495     33.0\n",
       "496     24.0\n",
       "497     43.0\n",
       "498     44.0\n",
       "499     34.0\n",
       "500     47.0\n",
       "501     31.0\n",
       "502      1.0\n",
       "503      4.0\n",
       "504     18.0\n",
       "505      1.0\n",
       "506     11.0\n",
       "507      2.0\n",
       "508      4.0\n",
       "509      2.0\n",
       "510     22.0\n",
       "511     17.0\n",
       "512     22.0\n",
       "dtype: float64"
      ]
     },
     "execution_count": 158,
     "metadata": {},
     "output_type": "execute_result"
    }
   ],
   "source": [
    "incidents_all[['race', 'religion', 'sexual_orientation', 'ethnicity ', 'disability', 'gender', 'gender_identity', 'race_ethnicity_ancestry']].sum(axis=1)"
   ]
  },
  {
   "cell_type": "code",
   "execution_count": 159,
   "metadata": {
    "collapsed": true
   },
   "outputs": [],
   "source": [
    "import numpy as np"
   ]
  },
  {
   "cell_type": "code",
   "execution_count": 160,
   "metadata": {},
   "outputs": [
    {
     "data": {
      "text/plain": [
       "1"
      ]
     },
     "execution_count": 160,
     "metadata": {},
     "output_type": "execute_result"
    }
   ],
   "source": [
    "len(' ')"
   ]
  },
  {
   "cell_type": "code",
   "execution_count": 161,
   "metadata": {},
   "outputs": [],
   "source": [
    "incidents_all['gender'] = incidents_all['gender'].replace('\\xa0', '0')"
   ]
  },
  {
   "cell_type": "code",
   "execution_count": 162,
   "metadata": {},
   "outputs": [
    {
     "data": {
      "text/plain": [
       "array([  0.,   0.,   0.,  nan,  nan,  nan,  nan,  nan,  nan,  nan,  nan,\n",
       "         0.,   0.,   0.,  nan,  nan,  nan,  nan,  nan,  nan,  nan,  nan,\n",
       "        nan,   0.,   0.,   0.,  nan,  nan,  nan,  nan,  nan,  nan,  nan,\n",
       "        nan,  nan,   0.,   0.,   0.,  nan,  nan,  nan,  nan,  nan,  nan,\n",
       "        nan,  nan,  nan,   1.,   2.,   0.,  nan,  nan,  nan,  nan,  nan,\n",
       "        nan,  nan,  nan,  nan,   0.,   0.,   0.,  nan,  nan,  nan,  nan,\n",
       "        nan,  nan,  nan,  nan,  nan,   0.,   0.,   0.,  nan,  nan,  nan,\n",
       "        nan,  nan,  nan,  nan,  nan,  nan,   0.,   0.,   0.,  nan,  nan,\n",
       "        nan,  nan,  nan,  nan,  nan,  nan,  nan,   0.,   0.,   0.,  nan,\n",
       "        nan,  nan,  nan,  nan,  nan,  nan,  nan,  nan,   0.,   0.,   0.,\n",
       "        nan,  nan,  nan,  nan,  nan,  nan,  nan,  nan,  nan,   0.,   0.,\n",
       "         0.,  nan,  nan,  nan,  nan,  nan,  nan,  nan,  nan,  nan,   1.,\n",
       "         0.,   0.,  nan,  nan,  nan,  nan,  nan,  nan,  nan,  nan,  nan,\n",
       "         1.,   2.,   0.,  nan,  nan,  nan,  nan,  nan,  nan,  nan,  nan,\n",
       "        nan,   0.,   0.,   0.,  nan,  nan,  nan,  nan,  nan,  nan,  nan,\n",
       "        nan,  nan,   1.,   0.,   0.,  nan,  nan,  nan,  nan,  nan,  nan,\n",
       "        nan,  nan,  nan,   0.,   0.,   0.,  nan,  nan,  nan,  nan,  nan,\n",
       "        nan,  nan,  nan,  nan,   0.,   0.,   0.,  nan,  nan,  nan,  nan,\n",
       "        nan,  nan,  nan,  nan,  nan,   0.,   0.,   0.,  nan,  nan,  nan,\n",
       "        nan,  nan,  nan,  nan,  nan,  nan,  15.,  18.,   1.,  nan,  nan,\n",
       "        nan,  nan,  nan,  nan,  nan,  nan,  nan,   1.,   2.,   3.,  nan,\n",
       "        nan,  nan,  nan,  nan,  nan,  nan,  nan,  nan,   0.,   0.,   0.,\n",
       "        nan,  nan,  nan,  nan,  nan,  nan,  nan,  nan,  nan,   0.,   0.,\n",
       "         4.,  nan,  nan,  nan,  nan,  nan,  nan,  nan,  nan,  nan,   0.,\n",
       "         0.,   0.,  nan,  nan,  nan,  nan,  nan,  nan,  nan,  nan,  nan,\n",
       "         0.,   0.,   0.,  nan,  nan,  nan,  nan,  nan,  nan,  nan,  nan,\n",
       "        nan,   0.,   0.,   0.,  nan,  nan,  nan,  nan,  nan,  nan,  nan,\n",
       "        nan,  nan,   0.,   0.,   0.,  nan,  nan,  nan,  nan,  nan,  nan,\n",
       "        nan,  nan,   0.,   0.,   0.,  nan,  nan,  nan,  nan,  nan,  nan,\n",
       "        nan,  nan,  nan,   0.,   0.,   6.,  nan,  nan,  nan,  nan,  nan,\n",
       "        nan,  nan,  nan,  nan,   0.,   0.,   0.,  nan,  nan,  nan,  nan,\n",
       "        nan,  nan,  nan,  nan,  nan,   0.,   0.,   0.,  nan,  nan,  nan,\n",
       "        nan,  nan,  nan,  nan,  nan,  nan,   0.,   0.,   0.,  nan,  nan,\n",
       "        nan,  nan,  nan,  nan,  nan,  nan,  nan,   0.,   0.,   0.,  nan,\n",
       "        nan,  nan,  nan,  nan,  nan,  nan,  nan,  nan,   0.,   0.,   0.,\n",
       "        nan,  nan,  nan,  nan,  nan,  nan,  nan,  nan,  nan,   0.,   0.,\n",
       "         0.,  nan,  nan,  nan,  nan,  nan,  nan,  nan,  nan,  nan,   0.,\n",
       "         0.,   0.,  nan,  nan,  nan,  nan,  nan,  nan,  nan,  nan,  nan,\n",
       "         1.,   0.,   0.,  nan,  nan,  nan,  nan,  nan,  nan,  nan,  nan,\n",
       "        nan,   1.,   1.,   0.,  nan,  nan,  nan,  nan,  nan,  nan,  nan,\n",
       "        nan,  nan,   0.,   0.,   0.,  nan,  nan,  nan,  nan,  nan,  nan,\n",
       "        nan,  nan,  nan,   0.,   0.,   0.,  nan,  nan,  nan,  nan,  nan,\n",
       "        nan,  nan,  nan,  nan,   0.,   0.,   0.,  nan,  nan,  nan,  nan,\n",
       "        nan,  nan,  nan,  nan,  nan,   3.,   8.,   4.,  nan,  nan,  nan,\n",
       "        nan,  nan,  nan,  nan,  nan,  nan,   0.,   0.,   0.,  nan,  nan,\n",
       "        nan,  nan,  nan,  nan,  nan,  nan,  nan,   0.,   0.,  nan,  nan,\n",
       "        nan,  nan,  nan,  nan,  nan,  nan,  nan])"
      ]
     },
     "execution_count": 162,
     "metadata": {},
     "output_type": "execute_result"
    }
   ],
   "source": [
    "incidents_all['gender'].values"
   ]
  },
  {
   "cell_type": "code",
   "execution_count": 163,
   "metadata": {},
   "outputs": [
    {
     "data": {
      "text/plain": [
       "0.0     108\n",
       "1.0       9\n",
       "2.0       3\n",
       "4.0       2\n",
       "3.0       2\n",
       "8.0       1\n",
       "6.0       1\n",
       "18.0      1\n",
       "15.0      1\n",
       "Name: gender, dtype: int64"
      ]
     },
     "execution_count": 163,
     "metadata": {},
     "output_type": "execute_result"
    }
   ],
   "source": [
    "incidents_all['gender'].value_counts()"
   ]
  },
  {
   "cell_type": "code",
   "execution_count": 165,
   "metadata": {},
   "outputs": [],
   "source": [
    "incidents_all['all_count'] = incidents_all[['race', 'religion', 'sexual_orientation', 'ethnicity ', 'disability', 'gender', 'gender_identity', 'race_ethnicity_ancestry']].sum(axis=1)"
   ]
  },
  {
   "cell_type": "code",
   "execution_count": 166,
   "metadata": {},
   "outputs": [],
   "source": [
    "count_columns = ['race', 'religion', 'sexual_orientation',\n",
    "                 'ethnicity ', 'disability', 'gender',\n",
    "                 'gender_identity', 'race_ethnicity_ancestry', 'all_count']\n",
    "\n",
    "for col in count_columns:\n",
    "    incidents_all[col + '_per_capita'] = incidents_all[col] / incidents_all['est_pop']\n",
    "    "
   ]
  },
  {
   "cell_type": "code",
   "execution_count": 167,
   "metadata": {
    "collapsed": true
   },
   "outputs": [],
   "source": [
    "incidents_all.to_csv('../output/incidents_supplemented.csv')"
   ]
  },
  {
   "cell_type": "code",
   "execution_count": 172,
   "metadata": {},
   "outputs": [
    {
     "data": {
      "text/html": [
       "<div>\n",
       "<table border=\"1\" class=\"dataframe\">\n",
       "  <thead>\n",
       "    <tr style=\"text-align: right;\">\n",
       "      <th></th>\n",
       "      <th>date</th>\n",
       "      <th>state</th>\n",
       "      <th>race</th>\n",
       "      <th>religion</th>\n",
       "      <th>sexual_orientation</th>\n",
       "      <th>ethnicity</th>\n",
       "      <th>disability</th>\n",
       "      <th>gender</th>\n",
       "      <th>gender_identity</th>\n",
       "      <th>race_ethnicity_ancestry</th>\n",
       "      <th>...</th>\n",
       "      <th>race_per_capita</th>\n",
       "      <th>religion_per_capita</th>\n",
       "      <th>sexual_orientation_per_capita</th>\n",
       "      <th>ethnicity _per_capita</th>\n",
       "      <th>disability_per_capita</th>\n",
       "      <th>gender_per_capita</th>\n",
       "      <th>gender_identity_per_capita</th>\n",
       "      <th>race_ethnicity_ancestry_per_capita</th>\n",
       "      <th>all_count</th>\n",
       "      <th>all_count_per_capita</th>\n",
       "    </tr>\n",
       "  </thead>\n",
       "  <tbody>\n",
       "    <tr>\n",
       "      <th>0</th>\n",
       "      <td>2015</td>\n",
       "      <td>Alabama</td>\n",
       "      <td>NaN</td>\n",
       "      <td>0</td>\n",
       "      <td>2</td>\n",
       "      <td>NaN</td>\n",
       "      <td>0</td>\n",
       "      <td>0.0</td>\n",
       "      <td>0.0</td>\n",
       "      <td>8.0</td>\n",
       "      <td>...</td>\n",
       "      <td>NaN</td>\n",
       "      <td>0.000000e+00</td>\n",
       "      <td>4.116091e-07</td>\n",
       "      <td>NaN</td>\n",
       "      <td>0.000000e+00</td>\n",
       "      <td>0.0</td>\n",
       "      <td>0.0</td>\n",
       "      <td>0.000002</td>\n",
       "      <td>10.0</td>\n",
       "      <td>0.000002</td>\n",
       "    </tr>\n",
       "    <tr>\n",
       "      <th>1</th>\n",
       "      <td>2014</td>\n",
       "      <td>Alabama</td>\n",
       "      <td>7.0</td>\n",
       "      <td>1</td>\n",
       "      <td>0</td>\n",
       "      <td>1.0</td>\n",
       "      <td>0</td>\n",
       "      <td>0.0</td>\n",
       "      <td>0.0</td>\n",
       "      <td>NaN</td>\n",
       "      <td>...</td>\n",
       "      <td>1.444368e-06</td>\n",
       "      <td>2.063383e-07</td>\n",
       "      <td>0.000000e+00</td>\n",
       "      <td>2.063383e-07</td>\n",
       "      <td>0.000000e+00</td>\n",
       "      <td>0.0</td>\n",
       "      <td>0.0</td>\n",
       "      <td>NaN</td>\n",
       "      <td>9.0</td>\n",
       "      <td>0.000002</td>\n",
       "    </tr>\n",
       "    <tr>\n",
       "      <th>2</th>\n",
       "      <td>2013</td>\n",
       "      <td>Alabama</td>\n",
       "      <td>5.0</td>\n",
       "      <td>0</td>\n",
       "      <td>1</td>\n",
       "      <td>0.0</td>\n",
       "      <td>0</td>\n",
       "      <td>0.0</td>\n",
       "      <td>0.0</td>\n",
       "      <td>NaN</td>\n",
       "      <td>...</td>\n",
       "      <td>1.035082e-06</td>\n",
       "      <td>0.000000e+00</td>\n",
       "      <td>2.070165e-07</td>\n",
       "      <td>0.000000e+00</td>\n",
       "      <td>0.000000e+00</td>\n",
       "      <td>0.0</td>\n",
       "      <td>0.0</td>\n",
       "      <td>NaN</td>\n",
       "      <td>6.0</td>\n",
       "      <td>0.000001</td>\n",
       "    </tr>\n",
       "    <tr>\n",
       "      <th>3</th>\n",
       "      <td>2012</td>\n",
       "      <td>Alabama</td>\n",
       "      <td>3.0</td>\n",
       "      <td>2</td>\n",
       "      <td>0</td>\n",
       "      <td>1.0</td>\n",
       "      <td>0</td>\n",
       "      <td>NaN</td>\n",
       "      <td>NaN</td>\n",
       "      <td>NaN</td>\n",
       "      <td>...</td>\n",
       "      <td>6.229121e-07</td>\n",
       "      <td>4.152747e-07</td>\n",
       "      <td>0.000000e+00</td>\n",
       "      <td>2.076374e-07</td>\n",
       "      <td>0.000000e+00</td>\n",
       "      <td>NaN</td>\n",
       "      <td>NaN</td>\n",
       "      <td>NaN</td>\n",
       "      <td>6.0</td>\n",
       "      <td>0.000001</td>\n",
       "    </tr>\n",
       "    <tr>\n",
       "      <th>4</th>\n",
       "      <td>2011</td>\n",
       "      <td>Alabama</td>\n",
       "      <td>58.0</td>\n",
       "      <td>5</td>\n",
       "      <td>7</td>\n",
       "      <td>11.0</td>\n",
       "      <td>2</td>\n",
       "      <td>NaN</td>\n",
       "      <td>NaN</td>\n",
       "      <td>NaN</td>\n",
       "      <td>...</td>\n",
       "      <td>1.208054e-05</td>\n",
       "      <td>1.041426e-06</td>\n",
       "      <td>1.457997e-06</td>\n",
       "      <td>2.291138e-06</td>\n",
       "      <td>4.165705e-07</td>\n",
       "      <td>NaN</td>\n",
       "      <td>NaN</td>\n",
       "      <td>NaN</td>\n",
       "      <td>83.0</td>\n",
       "      <td>0.000017</td>\n",
       "    </tr>\n",
       "  </tbody>\n",
       "</table>\n",
       "<p>5 rows × 27 columns</p>\n",
       "</div>"
      ],
      "text/plain": [
       "   date    state  race  religion  sexual_orientation  ethnicity   disability  \\\n",
       "0  2015  Alabama   NaN         0                   2         NaN           0   \n",
       "1  2014  Alabama   7.0         1                   0         1.0           0   \n",
       "2  2013  Alabama   5.0         0                   1         0.0           0   \n",
       "3  2012  Alabama   3.0         2                   0         1.0           0   \n",
       "4  2011  Alabama  58.0         5                   7        11.0           2   \n",
       "\n",
       "   gender  gender_identity  race_ethnicity_ancestry          ...           \\\n",
       "0     0.0              0.0                      8.0          ...            \n",
       "1     0.0              0.0                      NaN          ...            \n",
       "2     0.0              0.0                      NaN          ...            \n",
       "3     NaN              NaN                      NaN          ...            \n",
       "4     NaN              NaN                      NaN          ...            \n",
       "\n",
       "   race_per_capita religion_per_capita sexual_orientation_per_capita  \\\n",
       "0              NaN        0.000000e+00                  4.116091e-07   \n",
       "1     1.444368e-06        2.063383e-07                  0.000000e+00   \n",
       "2     1.035082e-06        0.000000e+00                  2.070165e-07   \n",
       "3     6.229121e-07        4.152747e-07                  0.000000e+00   \n",
       "4     1.208054e-05        1.041426e-06                  1.457997e-06   \n",
       "\n",
       "  ethnicity _per_capita disability_per_capita gender_per_capita  \\\n",
       "0                   NaN          0.000000e+00               0.0   \n",
       "1          2.063383e-07          0.000000e+00               0.0   \n",
       "2          0.000000e+00          0.000000e+00               0.0   \n",
       "3          2.076374e-07          0.000000e+00               NaN   \n",
       "4          2.291138e-06          4.165705e-07               NaN   \n",
       "\n",
       "  gender_identity_per_capita  race_ethnicity_ancestry_per_capita  all_count  \\\n",
       "0                        0.0                            0.000002       10.0   \n",
       "1                        0.0                                 NaN        9.0   \n",
       "2                        0.0                                 NaN        6.0   \n",
       "3                        NaN                                 NaN        6.0   \n",
       "4                        NaN                                 NaN       83.0   \n",
       "\n",
       "   all_count_per_capita  \n",
       "0              0.000002  \n",
       "1              0.000002  \n",
       "2              0.000001  \n",
       "3              0.000001  \n",
       "4              0.000017  \n",
       "\n",
       "[5 rows x 27 columns]"
      ]
     },
     "execution_count": 172,
     "metadata": {},
     "output_type": "execute_result"
    }
   ],
   "source": [
    "incidents_all.head()"
   ]
  }
 ],
 "metadata": {
  "anaconda-cloud": {},
  "kernelspec": {
   "display_name": "Python [Root]",
   "language": "python",
   "name": "Python [Root]"
  },
  "language_info": {
   "codemirror_mode": {
    "name": "ipython",
    "version": 3
   },
   "file_extension": ".py",
   "mimetype": "text/x-python",
   "name": "python",
   "nbconvert_exporter": "python",
   "pygments_lexer": "ipython3",
   "version": "3.5.2"
  }
 },
 "nbformat": 4,
 "nbformat_minor": 1
}
